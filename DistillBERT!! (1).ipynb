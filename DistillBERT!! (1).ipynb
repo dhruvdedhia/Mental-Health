{
 "cells": [
  {
   "cell_type": "code",
   "execution_count": 1,
   "id": "2480a54f-67db-405d-be39-b551931109b6",
   "metadata": {},
   "outputs": [
    {
     "name": "stdout",
     "output_type": "stream",
     "text": [
      "Label Mapping: {'drug and alcohol': 0, 'early life': 1, 'personality': 2, 'trauma and stress': 3}\n"
     ]
    }
   ],
   "source": [
    "import pandas as pd\n",
    "from sklearn.model_selection import train_test_split\n",
    "\n",
    "# Load the dataset\n",
    "file_path = '/user/HS400/dd00830/Downloads/Dissertation/Dataset.csv'  \n",
    "data = pd.read_csv(file_path)\n",
    "\n",
    "# Preprocessing\n",
    "data['Label'] = data['Label'].str.lower().str.strip()\n",
    "\n",
    "# Drop rows with missing text or label\n",
    "data = data.dropna(subset=['selftext', 'Label'])\n",
    "\n",
    "# Map labels to integers after normalization\n",
    "label_map = {label: idx for idx, label in enumerate(data['Label'].unique())}\n",
    "print(f\"Label Mapping: {label_map}\")\n",
    "\n",
    "# Convert labels to numerical codes\n",
    "labels = data['Label'].map(label_map).tolist()\n",
    "texts = data['selftext'].tolist()\n",
    "\n",
    "# Split the data\n",
    "train_texts, val_texts, train_labels, val_labels = train_test_split(\n",
    "    texts, labels, test_size=0.2, random_state=42\n",
    ")\n",
    "\n"
   ]
  },
  {
   "cell_type": "code",
   "execution_count": 2,
   "id": "0b28d333-b34f-4287-834f-19ba6a5db168",
   "metadata": {},
   "outputs": [
    {
     "name": "stderr",
     "output_type": "stream",
     "text": [
      "/user/HS400/dd00830/.local/lib/python3.10/site-packages/huggingface_hub/file_download.py:1150: FutureWarning: `resume_download` is deprecated and will be removed in version 1.0.0. Downloads always resume when possible. If you want to force a new download, use `force_download=True`.\n",
      "  warnings.warn(\n"
     ]
    }
   ],
   "source": [
    "from transformers import DistilBertTokenizerFast\n",
    "\n",
    "# Tokenization\n",
    "tokenizer = DistilBertTokenizerFast.from_pretrained('distilbert-base-uncased')\n",
    "\n",
    "# Tokenize the dataset\n",
    "train_encodings = tokenizer(train_texts, truncation=True, padding=True, max_length=128)\n",
    "val_encodings = tokenizer(val_texts, truncation=True, padding=True, max_length=128)\n"
   ]
  },
  {
   "cell_type": "code",
   "execution_count": 4,
   "id": "954e523b-7ab2-4358-8622-92df79d1d534",
   "metadata": {},
   "outputs": [],
   "source": [
    "import tensorflow as tf\n",
    "\n",
    "train_dataset = tf.data.Dataset.from_tensor_slices((\n",
    "    dict(train_encodings),\n",
    "    train_labels\n",
    ")).shuffle(len(train_texts)).batch(8)\n",
    "\n",
    "val_dataset = tf.data.Dataset.from_tensor_slices((\n",
    "    dict(val_encodings),\n",
    "    val_labels\n",
    ")).batch(8)\n"
   ]
  },
  {
   "cell_type": "code",
   "execution_count": 5,
   "id": "82f17ff5-028c-4238-a093-2e0865d8e700",
   "metadata": {},
   "outputs": [
    {
     "name": "stderr",
     "output_type": "stream",
     "text": [
      "Some weights of the PyTorch model were not used when initializing the TF 2.0 model TFDistilBertForSequenceClassification: ['vocab_layer_norm.weight', 'vocab_layer_norm.bias', 'vocab_transform.bias', 'vocab_projector.bias', 'vocab_transform.weight']\n",
      "- This IS expected if you are initializing TFDistilBertForSequenceClassification from a PyTorch model trained on another task or with another architecture (e.g. initializing a TFBertForSequenceClassification model from a BertForPreTraining model).\n",
      "- This IS NOT expected if you are initializing TFDistilBertForSequenceClassification from a PyTorch model that you expect to be exactly identical (e.g. initializing a TFBertForSequenceClassification model from a BertForSequenceClassification model).\n",
      "Some weights or buffers of the TF 2.0 model TFDistilBertForSequenceClassification were not initialized from the PyTorch model and are newly initialized: ['pre_classifier.weight', 'pre_classifier.bias', 'classifier.weight', 'classifier.bias']\n",
      "You should probably TRAIN this model on a down-stream task to be able to use it for predictions and inference.\n"
     ]
    }
   ],
   "source": [
    "from transformers import TFDistilBertForSequenceClassification\n",
    "\n",
    "# Model Creation\n",
    "model = TFDistilBertForSequenceClassification.from_pretrained(\n",
    "    'distilbert-base-uncased', \n",
    "    num_labels=len(label_map)\n",
    ")\n",
    "\n",
    "# Compile the model\n",
    "model.compile(\n",
    "    optimizer=tf.keras.optimizers.Adam(learning_rate=5e-5),\n",
    "    loss=tf.keras.losses.SparseCategoricalCrossentropy(from_logits=True),\n",
    "    metrics=[tf.keras.metrics.SparseCategoricalAccuracy()],\n",
    ")\n"
   ]
  },
  {
   "cell_type": "code",
   "execution_count": 6,
   "id": "359aa1e1-0c68-4327-b199-580fdceb2d02",
   "metadata": {},
   "outputs": [
    {
     "name": "stdout",
     "output_type": "stream",
     "text": [
      "Epoch 1/10\n",
      "WARNING:tensorflow:AutoGraph could not transform <function infer_framework at 0x7f2018da11b0> and will run it as-is.\n",
      "Cause: for/else statement not yet supported\n",
      "To silence this warning, decorate the function with @tf.autograph.experimental.do_not_convert\n",
      "WARNING: AutoGraph could not transform <function infer_framework at 0x7f2018da11b0> and will run it as-is.\n",
      "Cause: for/else statement not yet supported\n",
      "To silence this warning, decorate the function with @tf.autograph.experimental.do_not_convert\n",
      "80/80 [==============================] - 126s 1s/step - loss: 1.1337 - sparse_categorical_accuracy: 0.5219 - val_loss: 0.9236 - val_sparse_categorical_accuracy: 0.6438\n",
      "Epoch 2/10\n",
      "80/80 [==============================] - 97s 1s/step - loss: 0.6761 - sparse_categorical_accuracy: 0.7500 - val_loss: 0.9038 - val_sparse_categorical_accuracy: 0.6812\n",
      "Epoch 3/10\n",
      "80/80 [==============================] - 93s 1s/step - loss: 0.4825 - sparse_categorical_accuracy: 0.8406 - val_loss: 1.0312 - val_sparse_categorical_accuracy: 0.6187\n",
      "Epoch 4/10\n",
      "80/80 [==============================] - 93s 1s/step - loss: 0.2792 - sparse_categorical_accuracy: 0.9141 - val_loss: 1.0985 - val_sparse_categorical_accuracy: 0.6625\n",
      "Epoch 5/10\n",
      "80/80 [==============================] - 93s 1s/step - loss: 0.1734 - sparse_categorical_accuracy: 0.9516 - val_loss: 1.2825 - val_sparse_categorical_accuracy: 0.6500\n",
      "Epoch 6/10\n",
      "80/80 [==============================] - 93s 1s/step - loss: 0.1299 - sparse_categorical_accuracy: 0.9609 - val_loss: 1.3557 - val_sparse_categorical_accuracy: 0.6438\n",
      "Epoch 7/10\n",
      "80/80 [==============================] - 93s 1s/step - loss: 0.0727 - sparse_categorical_accuracy: 0.9844 - val_loss: 1.3826 - val_sparse_categorical_accuracy: 0.6687\n",
      "Epoch 8/10\n",
      "80/80 [==============================] - 94s 1s/step - loss: 0.0348 - sparse_categorical_accuracy: 0.9953 - val_loss: 1.4449 - val_sparse_categorical_accuracy: 0.6438\n",
      "Epoch 9/10\n",
      "80/80 [==============================] - 97s 1s/step - loss: 0.0404 - sparse_categorical_accuracy: 0.9906 - val_loss: 1.5865 - val_sparse_categorical_accuracy: 0.6375\n",
      "Epoch 10/10\n",
      "80/80 [==============================] - 94s 1s/step - loss: 0.0461 - sparse_categorical_accuracy: 0.9875 - val_loss: 1.6331 - val_sparse_categorical_accuracy: 0.6687\n"
     ]
    }
   ],
   "source": [
    "# Train the model and capture the history\n",
    "history = model.fit(train_dataset, validation_data=val_dataset, epochs=10)\n"
   ]
  },
  {
   "cell_type": "code",
   "execution_count": 7,
   "id": "22275f66-e115-4cd8-8590-f0e4aee32b98",
   "metadata": {},
   "outputs": [
    {
     "name": "stdout",
     "output_type": "stream",
     "text": [
      "20/20 [==============================] - 7s 264ms/step\n",
      "Classification Report:\n",
      "                   precision    recall  f1-score   support\n",
      "\n",
      " drug and alcohol       0.72      0.78      0.75        37\n",
      "       early life       0.66      0.86      0.75        43\n",
      "      personality       0.61      0.71      0.66        35\n",
      "trauma and stress       0.70      0.36      0.47        45\n",
      "\n",
      "         accuracy                           0.67       160\n",
      "        macro avg       0.67      0.68      0.66       160\n",
      "     weighted avg       0.67      0.67      0.65       160\n",
      "\n"
     ]
    }
   ],
   "source": [
    "import numpy as np\n",
    "from sklearn.metrics import classification_report\n",
    "\n",
    "# Get predictions from the model\n",
    "predictions = model.predict(val_dataset)\n",
    "pred_labels = np.argmax(predictions.logits, axis=-1) \n",
    "\n",
    "val_labels_array = np.array(val_labels)\n",
    "\n",
    "target_names = [k for k, v in sorted(label_map.items(), key=lambda item: item[1])]\n",
    "report = classification_report(val_labels_array, pred_labels, target_names=target_names)\n",
    "\n",
    "# Print the classification report\n",
    "print(\"Classification Report:\")\n",
    "print(report)\n"
   ]
  },
  {
   "cell_type": "code",
   "execution_count": 8,
   "id": "cc0f78b6-f797-484c-a003-84adc2b2a8fa",
   "metadata": {},
   "outputs": [
    {
     "name": "stdout",
     "output_type": "stream",
     "text": [
      "20/20 [==============================] - 5s 264ms/step\n"
     ]
    },
    {
     "data": {
      "image/png": "[encoded data removed]",
      "text/plain": [
       "<Figure size 720x576 with 2 Axes>"
      ]
     },
     "metadata": {
      "needs_background": "light"
     },
     "output_type": "display_data"
    }
   ],
   "source": [
    "import numpy as np\n",
    "from sklearn.metrics import confusion_matrix\n",
    "import seaborn as sns\n",
    "import matplotlib.pyplot as plt\n",
    "\n",
    "# Generate predictions from the model\n",
    "predictions = model.predict(val_dataset)\n",
    "pred_labels = np.argmax(predictions.logits, axis=-1)\n",
    "\n",
    "val_labels_array = np.array(val_labels)\n",
    "\n",
    "# Compute the confusion matrix\n",
    "cm = confusion_matrix(val_labels_array, pred_labels)\n",
    "\n",
    "# Plot the confusion matrix heatmap\n",
    "plt.figure(figsize=(10, 8))\n",
    "sns.heatmap(cm, annot=True, fmt='d', cmap='Blues')\n",
    "plt.xlabel('Predicted')\n",
    "plt.ylabel('True')\n",
    "plt.title('Confusion Matrix')\n",
    "plt.show()\n"
   ]
  },
  {
   "cell_type": "code",
   "execution_count": 9,
   "id": "f738b18f-84e1-4671-b948-6e0e88e41301",
   "metadata": {},
   "outputs": [
    {
     "data": {
      "image/png": "[encoded data removed]",
      "text/plain": [
       "<Figure size 864x360 with 2 Axes>"
      ]
     },
     "metadata": {
      "needs_background": "light"
     },
     "output_type": "display_data"
    }
   ],
   "source": [
    "# Extract loss and accuracy from the history object\n",
    "epochs = range(1, len(history.history['loss']) + 1)\n",
    "train_loss = history.history['loss']\n",
    "val_loss = history.history['val_loss']\n",
    "train_accuracy = history.history['sparse_categorical_accuracy']\n",
    "val_accuracy = history.history['val_sparse_categorical_accuracy']\n",
    "\n",
    "# Plotting Training vs. Validation Loss\n",
    "plt.figure(figsize=(12, 5))\n",
    "\n",
    "# Plot for Loss\n",
    "plt.subplot(1, 2, 1)\n",
    "plt.plot(epochs, train_loss, label='Training Loss')\n",
    "plt.plot(epochs, val_loss, label='Validation Loss')\n",
    "plt.xlabel('Epochs')\n",
    "plt.ylabel('Loss')\n",
    "plt.title('Training vs. Validation Loss')\n",
    "plt.legend()\n",
    "\n",
    "# Plot for Accuracy\n",
    "plt.subplot(1, 2, 2)\n",
    "plt.plot(epochs, train_accuracy, label='Training Accuracy')\n",
    "plt.plot(epochs, val_accuracy, label='Validation Accuracy')\n",
    "plt.xlabel('Epochs')\n",
    "plt.ylabel('Accuracy')\n",
    "plt.title('Training vs. Validation Accuracy')\n",
    "plt.legend()\n",
    "\n",
    "plt.show()\n"
   ]
  },
  {
   "cell_type": "markdown",
   "id": "e41f69fb-f6b1-420e-a4cf-c7ef41f71567",
   "metadata": {},
   "source": [
    "## HYPER PARAMETER TUNING:-"
   ]
  },
  {
   "cell_type": "code",
   "execution_count": 2,
   "id": "ad1336ba-34a2-4473-b517-463c89e7166f",
   "metadata": {},
   "outputs": [
    {
     "name": "stderr",
     "output_type": "stream",
     "text": [
      "2024-09-06 03:19:38.814433: I tensorflow/core/platform/cpu_feature_guard.cc:210] This TensorFlow binary is optimized to use available CPU instructions in performance-critical operations.\n",
      "To enable the following instructions: AVX2 FMA, in other operations, rebuild TensorFlow with the appropriate compiler flags.\n",
      "2024-09-06 03:19:40.621227: W tensorflow/compiler/tf2tensorrt/utils/py_utils.cc:38] TF-TRT Warning: Could not find TensorRT\n"
     ]
    }
   ],
   "source": [
    "import optuna\n",
    "import tensorflow as tf\n",
    "from transformers import DistilBertTokenizerFast, TFDistilBertForSequenceClassification\n",
    "\n",
    "def objective(trial):\n",
    "    # Define the hyperparameters to tune\n",
    "    learning_rate = trial.suggest_loguniform('learning_rate', 1e-5, 5e-5)\n",
    "    batch_size = trial.suggest_categorical('batch_size', [8, 16, 32])\n",
    "    num_epochs = trial.suggest_int('num_epochs', 2, 4)\n",
    "    max_length = trial.suggest_int('max_length', 128, 256)\n",
    "\n",
    "    # Load the tokenizer and model\n",
    "    tokenizer = DistilBertTokenizerFast.from_pretrained('distilbert-base-uncased')\n",
    "    model = TFDistilBertForSequenceClassification.from_pretrained('distilbert-base-uncased', num_labels=len(label_map))\n",
    "\n",
    "    # Tokenize the data\n",
    "    train_encodings = tokenizer(train_texts, truncation=True, padding=True, max_length=max_length)\n",
    "    val_encodings = tokenizer(val_texts, truncation=True, padding=True, max_length=max_length)\n",
    "\n",
    "    # Convert to TensorFlow datasets\n",
    "    train_dataset = tf.data.Dataset.from_tensor_slices((\n",
    "        dict(train_encodings),\n",
    "        train_labels\n",
    "    )).shuffle(len(train_texts)).batch(batch_size)\n",
    "\n",
    "    val_dataset = tf.data.Dataset.from_tensor_slices((\n",
    "        dict(val_encodings),\n",
    "        val_labels\n",
    "    )).batch(batch_size)\n",
    "\n",
    "    # Compile the model\n",
    "    model.compile(\n",
    "        optimizer=tf.keras.optimizers.Adam(learning_rate=learning_rate),\n",
    "        loss=tf.keras.losses.SparseCategoricalCrossentropy(from_logits=True),\n",
    "        metrics=[tf.keras.metrics.SparseCategoricalAccuracy()],\n",
    "    )\n",
    "\n",
    "    # Train the model\n",
    "    model.fit(train_dataset, validation_data=val_dataset, epochs=num_epochs)\n",
    "\n",
    "    # Evaluate the model\n",
    "    eval_loss, eval_accuracy = model.evaluate(val_dataset)\n",
    "\n",
    "    return eval_loss"
   ]
  },
  {
   "cell_type": "code",
   "execution_count": 3,
   "id": "4563bb63-4699-4149-ae65-534e84c1b06a",
   "metadata": {},
   "outputs": [
    {
     "name": "stderr",
     "output_type": "stream",
     "text": [
      "[I 2024-09-06 03:20:36,136] A new study created in memory with name: no-name-797fc20c-8392-49c1-bcbd-1e4a23dce345\n",
      "/tmp/ipykernel_669797/3419057061.py:7: FutureWarning: suggest_loguniform has been deprecated in v3.0.0. This feature will be removed in v6.0.0. See https://github.com/optuna/optuna/releases/tag/v3.0.0. Use suggest_float(..., log=True) instead.\n",
      "  learning_rate = trial.suggest_loguniform('learning_rate', 1e-5, 5e-5)\n",
      "/user/HS400/dd00830/.local/lib/python3.10/site-packages/huggingface_hub/file_download.py:1150: FutureWarning: `resume_download` is deprecated and will be removed in version 1.0.0. Downloads always resume when possible. If you want to force a new download, use `force_download=True`.\n",
      "  warnings.warn(\n",
      "2024-09-06 03:20:37.067271: I external/local_xla/xla/stream_executor/cuda/cuda_executor.cc:998] successful NUMA node read from SysFS had negative value (-1), but there must be at least one NUMA node, so returning NUMA node zero. See more at https://github.com/torvalds/linux/blob/v6.0/Documentation/ABI/testing/sysfs-bus-pci#L344-L355\n",
      "2024-09-06 03:20:37.213131: W tensorflow/core/common_runtime/gpu/gpu_device.cc:2251] Cannot dlopen some GPU libraries. Please make sure the missing libraries mentioned above are installed properly if you would like to use GPU. Follow the guide at https://www.tensorflow.org/install/gpu for how to download and setup the required libraries for your platform.\n",
      "Skipping registering GPU devices...\n",
      "Some weights of the PyTorch model were not used when initializing the TF 2.0 model TFDistilBertForSequenceClassification: ['vocab_layer_norm.weight', 'vocab_transform.bias', 'vocab_projector.bias', 'vocab_transform.weight', 'vocab_layer_norm.bias']\n",
      "- This IS expected if you are initializing TFDistilBertForSequenceClassification from a PyTorch model trained on another task or with another architecture (e.g. initializing a TFBertForSequenceClassification model from a BertForPreTraining model).\n",
      "- This IS NOT expected if you are initializing TFDistilBertForSequenceClassification from a PyTorch model that you expect to be exactly identical (e.g. initializing a TFBertForSequenceClassification model from a BertForSequenceClassification model).\n",
      "Some weights or buffers of the TF 2.0 model TFDistilBertForSequenceClassification were not initialized from the PyTorch model and are newly initialized: ['pre_classifier.weight', 'pre_classifier.bias', 'classifier.weight', 'classifier.bias']\n",
      "You should probably TRAIN this model on a down-stream task to be able to use it for predictions and inference.\n"
     ]
    },
    {
     "name": "stdout",
     "output_type": "stream",
     "text": [
      "Epoch 1/4\n",
      "WARNING:tensorflow:AutoGraph could not transform <function infer_framework at 0x7f96d9ffd120> and will run it as-is.\n",
      "Cause: for/else statement not yet supported\n",
      "To silence this warning, decorate the function with @tf.autograph.experimental.do_not_convert\n",
      "WARNING: AutoGraph could not transform <function infer_framework at 0x7f96d9ffd120> and will run it as-is.\n",
      "Cause: for/else statement not yet supported\n",
      "To silence this warning, decorate the function with @tf.autograph.experimental.do_not_convert\n",
      "20/20 [==============================] - 155s 7s/step - loss: 1.3852 - sparse_categorical_accuracy: 0.3063 - val_loss: 1.3673 - val_sparse_categorical_accuracy: 0.3938\n",
      "Epoch 2/4\n",
      "20/20 [==============================] - 128s 6s/step - loss: 1.3016 - sparse_categorical_accuracy: 0.5031 - val_loss: 1.2275 - val_sparse_categorical_accuracy: 0.5250\n",
      "Epoch 3/4\n",
      "20/20 [==============================] - 128s 6s/step - loss: 1.0202 - sparse_categorical_accuracy: 0.7063 - val_loss: 0.9454 - val_sparse_categorical_accuracy: 0.6750\n",
      "Epoch 4/4\n",
      "20/20 [==============================] - 128s 6s/step - loss: 0.7316 - sparse_categorical_accuracy: 0.8031 - val_loss: 0.7621 - val_sparse_categorical_accuracy: 0.6875\n",
      "5/5 [==============================] - 10s 2s/step - loss: 0.7621 - sparse_categorical_accuracy: 0.6875\n"
     ]
    },
    {
     "name": "stderr",
     "output_type": "stream",
     "text": [
      "[I 2024-09-06 03:29:51,973] Trial 0 finished with value: 0.7621423602104187 and parameters: {'learning_rate': 1.8959190346356325e-05, 'batch_size': 32, 'num_epochs': 4, 'max_length': 206}. Best is trial 0 with value: 0.7621423602104187.\n",
      "Some weights of the PyTorch model were not used when initializing the TF 2.0 model TFDistilBertForSequenceClassification: ['vocab_layer_norm.weight', 'vocab_transform.bias', 'vocab_projector.bias', 'vocab_transform.weight', 'vocab_layer_norm.bias']\n",
      "- This IS expected if you are initializing TFDistilBertForSequenceClassification from a PyTorch model trained on another task or with another architecture (e.g. initializing a TFBertForSequenceClassification model from a BertForPreTraining model).\n",
      "- This IS NOT expected if you are initializing TFDistilBertForSequenceClassification from a PyTorch model that you expect to be exactly identical (e.g. initializing a TFBertForSequenceClassification model from a BertForSequenceClassification model).\n",
      "Some weights or buffers of the TF 2.0 model TFDistilBertForSequenceClassification were not initialized from the PyTorch model and are newly initialized: ['pre_classifier.weight', 'pre_classifier.bias', 'classifier.weight', 'classifier.bias']\n",
      "You should probably TRAIN this model on a down-stream task to be able to use it for predictions and inference.\n"
     ]
    },
    {
     "name": "stdout",
     "output_type": "stream",
     "text": [
      "Epoch 1/3\n",
      "40/40 [==============================] - 103s 2s/step - loss: 1.3078 - sparse_categorical_accuracy: 0.4031 - val_loss: 1.0725 - val_sparse_categorical_accuracy: 0.5938\n",
      "Epoch 2/3\n",
      "40/40 [==============================] - 89s 2s/step - loss: 0.7935 - sparse_categorical_accuracy: 0.7141 - val_loss: 0.8127 - val_sparse_categorical_accuracy: 0.6812\n",
      "Epoch 3/3\n",
      "40/40 [==============================] - 88s 2s/step - loss: 0.4907 - sparse_categorical_accuracy: 0.8375 - val_loss: 0.8313 - val_sparse_categorical_accuracy: 0.7250\n",
      "10/10 [==============================] - 6s 591ms/step - loss: 0.8313 - sparse_categorical_accuracy: 0.7250\n"
     ]
    },
    {
     "name": "stderr",
     "output_type": "stream",
     "text": [
      "[I 2024-09-06 03:34:39,174] Trial 1 finished with value: 0.8312944173812866 and parameters: {'learning_rate': 3.6055060970196366e-05, 'batch_size': 16, 'num_epochs': 3, 'max_length': 141}. Best is trial 0 with value: 0.7621423602104187.\n",
      "Some weights of the PyTorch model were not used when initializing the TF 2.0 model TFDistilBertForSequenceClassification: ['vocab_layer_norm.weight', 'vocab_transform.bias', 'vocab_projector.bias', 'vocab_transform.weight', 'vocab_layer_norm.bias']\n",
      "- This IS expected if you are initializing TFDistilBertForSequenceClassification from a PyTorch model trained on another task or with another architecture (e.g. initializing a TFBertForSequenceClassification model from a BertForPreTraining model).\n",
      "- This IS NOT expected if you are initializing TFDistilBertForSequenceClassification from a PyTorch model that you expect to be exactly identical (e.g. initializing a TFBertForSequenceClassification model from a BertForSequenceClassification model).\n",
      "Some weights or buffers of the TF 2.0 model TFDistilBertForSequenceClassification were not initialized from the PyTorch model and are newly initialized: ['pre_classifier.weight', 'pre_classifier.bias', 'classifier.weight', 'classifier.bias']\n",
      "You should probably TRAIN this model on a down-stream task to be able to use it for predictions and inference.\n"
     ]
    },
    {
     "name": "stdout",
     "output_type": "stream",
     "text": [
      "Epoch 1/2\n",
      "20/20 [==============================] - 163s 8s/step - loss: 1.3710 - sparse_categorical_accuracy: 0.3516 - val_loss: 1.3273 - val_sparse_categorical_accuracy: 0.5250\n",
      "Epoch 2/2\n",
      "20/20 [==============================] - 149s 7s/step - loss: 1.1740 - sparse_categorical_accuracy: 0.6328 - val_loss: 1.0503 - val_sparse_categorical_accuracy: 0.6438\n",
      "5/5 [==============================] - 12s 2s/step - loss: 1.0503 - sparse_categorical_accuracy: 0.6438\n"
     ]
    },
    {
     "name": "stderr",
     "output_type": "stream",
     "text": [
      "[I 2024-09-06 03:40:04,986] Trial 2 finished with value: 1.050301194190979 and parameters: {'learning_rate': 2.1513672633182756e-05, 'batch_size': 32, 'num_epochs': 2, 'max_length': 234}. Best is trial 0 with value: 0.7621423602104187.\n",
      "Some weights of the PyTorch model were not used when initializing the TF 2.0 model TFDistilBertForSequenceClassification: ['vocab_layer_norm.weight', 'vocab_transform.bias', 'vocab_projector.bias', 'vocab_transform.weight', 'vocab_layer_norm.bias']\n",
      "- This IS expected if you are initializing TFDistilBertForSequenceClassification from a PyTorch model trained on another task or with another architecture (e.g. initializing a TFBertForSequenceClassification model from a BertForPreTraining model).\n",
      "- This IS NOT expected if you are initializing TFDistilBertForSequenceClassification from a PyTorch model that you expect to be exactly identical (e.g. initializing a TFBertForSequenceClassification model from a BertForSequenceClassification model).\n",
      "Some weights or buffers of the TF 2.0 model TFDistilBertForSequenceClassification were not initialized from the PyTorch model and are newly initialized: ['pre_classifier.weight', 'pre_classifier.bias', 'classifier.weight', 'classifier.bias']\n",
      "You should probably TRAIN this model on a down-stream task to be able to use it for predictions and inference.\n"
     ]
    },
    {
     "name": "stdout",
     "output_type": "stream",
     "text": [
      "Epoch 1/4\n",
      "80/80 [==============================] - 128s 1s/step - loss: 1.2062 - sparse_categorical_accuracy: 0.4313 - val_loss: 0.9502 - val_sparse_categorical_accuracy: 0.5875\n",
      "Epoch 2/4\n",
      "80/80 [==============================] - 114s 1s/step - loss: 0.7656 - sparse_categorical_accuracy: 0.6625 - val_loss: 0.7952 - val_sparse_categorical_accuracy: 0.7063\n",
      "Epoch 3/4\n",
      "80/80 [==============================] - 114s 1s/step - loss: 0.5453 - sparse_categorical_accuracy: 0.8109 - val_loss: 0.8609 - val_sparse_categorical_accuracy: 0.6938\n",
      "Epoch 4/4\n",
      "80/80 [==============================] - 114s 1s/step - loss: 0.2972 - sparse_categorical_accuracy: 0.9203 - val_loss: 0.9639 - val_sparse_categorical_accuracy: 0.6938\n",
      "20/20 [==============================] - 7s 345ms/step - loss: 0.9639 - sparse_categorical_accuracy: 0.6938\n"
     ]
    },
    {
     "name": "stderr",
     "output_type": "stream",
     "text": [
      "[I 2024-09-06 03:48:03,891] Trial 3 finished with value: 0.9638611078262329 and parameters: {'learning_rate': 3.828158782996343e-05, 'batch_size': 8, 'num_epochs': 4, 'max_length': 164}. Best is trial 0 with value: 0.7621423602104187.\n",
      "Some weights of the PyTorch model were not used when initializing the TF 2.0 model TFDistilBertForSequenceClassification: ['vocab_layer_norm.weight', 'vocab_transform.bias', 'vocab_projector.bias', 'vocab_transform.weight', 'vocab_layer_norm.bias']\n",
      "- This IS expected if you are initializing TFDistilBertForSequenceClassification from a PyTorch model trained on another task or with another architecture (e.g. initializing a TFBertForSequenceClassification model from a BertForPreTraining model).\n",
      "- This IS NOT expected if you are initializing TFDistilBertForSequenceClassification from a PyTorch model that you expect to be exactly identical (e.g. initializing a TFBertForSequenceClassification model from a BertForSequenceClassification model).\n",
      "Some weights or buffers of the TF 2.0 model TFDistilBertForSequenceClassification were not initialized from the PyTorch model and are newly initialized: ['pre_classifier.weight', 'pre_classifier.bias', 'classifier.weight', 'classifier.bias']\n",
      "You should probably TRAIN this model on a down-stream task to be able to use it for predictions and inference.\n"
     ]
    },
    {
     "name": "stdout",
     "output_type": "stream",
     "text": [
      "Epoch 1/3\n",
      "20/20 [==============================] - 104s 5s/step - loss: 1.3728 - sparse_categorical_accuracy: 0.3156 - val_loss: 1.3297 - val_sparse_categorical_accuracy: 0.4812\n",
      "Epoch 2/3\n",
      "20/20 [==============================] - 90s 5s/step - loss: 1.1958 - sparse_categorical_accuracy: 0.5766 - val_loss: 1.0623 - val_sparse_categorical_accuracy: 0.5813\n",
      "Epoch 3/3\n",
      "20/20 [==============================] - 91s 5s/step - loss: 0.8647 - sparse_categorical_accuracy: 0.7031 - val_loss: 0.8281 - val_sparse_categorical_accuracy: 0.6250\n",
      "5/5 [==============================] - 6s 1s/step - loss: 0.8281 - sparse_categorical_accuracy: 0.6250\n"
     ]
    },
    {
     "name": "stderr",
     "output_type": "stream",
     "text": [
      "[I 2024-09-06 03:52:56,485] Trial 4 finished with value: 0.8281143307685852 and parameters: {'learning_rate': 2.5529757071740038e-05, 'batch_size': 32, 'num_epochs': 3, 'max_length': 150}. Best is trial 0 with value: 0.7621423602104187.\n",
      "Some weights of the PyTorch model were not used when initializing the TF 2.0 model TFDistilBertForSequenceClassification: ['vocab_layer_norm.weight', 'vocab_transform.bias', 'vocab_projector.bias', 'vocab_transform.weight', 'vocab_layer_norm.bias']\n",
      "- This IS expected if you are initializing TFDistilBertForSequenceClassification from a PyTorch model trained on another task or with another architecture (e.g. initializing a TFBertForSequenceClassification model from a BertForPreTraining model).\n",
      "- This IS NOT expected if you are initializing TFDistilBertForSequenceClassification from a PyTorch model that you expect to be exactly identical (e.g. initializing a TFBertForSequenceClassification model from a BertForSequenceClassification model).\n",
      "Some weights or buffers of the TF 2.0 model TFDistilBertForSequenceClassification were not initialized from the PyTorch model and are newly initialized: ['pre_classifier.weight', 'pre_classifier.bias', 'classifier.weight', 'classifier.bias']\n",
      "You should probably TRAIN this model on a down-stream task to be able to use it for predictions and inference.\n"
     ]
    },
    {
     "name": "stdout",
     "output_type": "stream",
     "text": [
      "Epoch 1/2\n",
      "40/40 [==============================] - 126s 3s/step - loss: 1.2477 - sparse_categorical_accuracy: 0.4563 - val_loss: 0.9654 - val_sparse_categorical_accuracy: 0.6438\n",
      "Epoch 2/2\n",
      "40/40 [==============================] - 112s 3s/step - loss: 0.7497 - sparse_categorical_accuracy: 0.7141 - val_loss: 0.7423 - val_sparse_categorical_accuracy: 0.7250\n",
      "10/10 [==============================] - 8s 767ms/step - loss: 0.7423 - sparse_categorical_accuracy: 0.7250\n"
     ]
    },
    {
     "name": "stderr",
     "output_type": "stream",
     "text": [
      "[I 2024-09-06 03:57:03,650] Trial 5 finished with value: 0.7422806024551392 and parameters: {'learning_rate': 3.590183602004517e-05, 'batch_size': 16, 'num_epochs': 2, 'max_length': 179}. Best is trial 5 with value: 0.7422806024551392.\n",
      "Some weights of the PyTorch model were not used when initializing the TF 2.0 model TFDistilBertForSequenceClassification: ['vocab_layer_norm.weight', 'vocab_transform.bias', 'vocab_projector.bias', 'vocab_transform.weight', 'vocab_layer_norm.bias']\n",
      "- This IS expected if you are initializing TFDistilBertForSequenceClassification from a PyTorch model trained on another task or with another architecture (e.g. initializing a TFBertForSequenceClassification model from a BertForPreTraining model).\n",
      "- This IS NOT expected if you are initializing TFDistilBertForSequenceClassification from a PyTorch model that you expect to be exactly identical (e.g. initializing a TFBertForSequenceClassification model from a BertForSequenceClassification model).\n",
      "Some weights or buffers of the TF 2.0 model TFDistilBertForSequenceClassification were not initialized from the PyTorch model and are newly initialized: ['pre_classifier.weight', 'pre_classifier.bias', 'classifier.weight', 'classifier.bias']\n",
      "You should probably TRAIN this model on a down-stream task to be able to use it for predictions and inference.\n"
     ]
    },
    {
     "name": "stdout",
     "output_type": "stream",
     "text": [
      "Epoch 1/4\n",
      "80/80 [==============================] - 144s 2s/step - loss: 1.1705 - sparse_categorical_accuracy: 0.4703 - val_loss: 0.9332 - val_sparse_categorical_accuracy: 0.6313\n",
      "Epoch 2/4\n",
      "80/80 [==============================] - 130s 2s/step - loss: 0.6982 - sparse_categorical_accuracy: 0.7266 - val_loss: 0.7220 - val_sparse_categorical_accuracy: 0.7250\n",
      "Epoch 3/4\n",
      "80/80 [==============================] - 130s 2s/step - loss: 0.4715 - sparse_categorical_accuracy: 0.8344 - val_loss: 0.7716 - val_sparse_categorical_accuracy: 0.7250\n",
      "Epoch 4/4\n",
      "80/80 [==============================] - 130s 2s/step - loss: 0.2475 - sparse_categorical_accuracy: 0.9219 - val_loss: 0.8340 - val_sparse_categorical_accuracy: 0.7437\n",
      "20/20 [==============================] - 8s 401ms/step - loss: 0.8340 - sparse_categorical_accuracy: 0.7437\n"
     ]
    },
    {
     "name": "stderr",
     "output_type": "stream",
     "text": [
      "[I 2024-09-06 04:06:06,878] Trial 6 finished with value: 0.8340448141098022 and parameters: {'learning_rate': 3.2673581653949706e-05, 'batch_size': 8, 'num_epochs': 4, 'max_length': 191}. Best is trial 5 with value: 0.7422806024551392.\n",
      "Some weights of the PyTorch model were not used when initializing the TF 2.0 model TFDistilBertForSequenceClassification: ['vocab_layer_norm.weight', 'vocab_transform.bias', 'vocab_projector.bias', 'vocab_transform.weight', 'vocab_layer_norm.bias']\n",
      "- This IS expected if you are initializing TFDistilBertForSequenceClassification from a PyTorch model trained on another task or with another architecture (e.g. initializing a TFBertForSequenceClassification model from a BertForPreTraining model).\n",
      "- This IS NOT expected if you are initializing TFDistilBertForSequenceClassification from a PyTorch model that you expect to be exactly identical (e.g. initializing a TFBertForSequenceClassification model from a BertForSequenceClassification model).\n",
      "Some weights or buffers of the TF 2.0 model TFDistilBertForSequenceClassification were not initialized from the PyTorch model and are newly initialized: ['pre_classifier.weight', 'pre_classifier.bias', 'classifier.weight', 'classifier.bias']\n",
      "You should probably TRAIN this model on a down-stream task to be able to use it for predictions and inference.\n"
     ]
    },
    {
     "name": "stdout",
     "output_type": "stream",
     "text": [
      "Epoch 1/3\n",
      "40/40 [==============================] - 159s 4s/step - loss: 1.3826 - sparse_categorical_accuracy: 0.2844 - val_loss: 1.3589 - val_sparse_categorical_accuracy: 0.4563\n",
      "Epoch 2/3\n",
      "40/40 [==============================] - 143s 4s/step - loss: 1.2453 - sparse_categorical_accuracy: 0.5719 - val_loss: 1.1017 - val_sparse_categorical_accuracy: 0.6375\n",
      "Epoch 3/3\n",
      "40/40 [==============================] - 143s 4s/step - loss: 0.9073 - sparse_categorical_accuracy: 0.7156 - val_loss: 0.8567 - val_sparse_categorical_accuracy: 0.6875\n",
      "10/10 [==============================] - 10s 1s/step - loss: 0.8567 - sparse_categorical_accuracy: 0.6875\n"
     ]
    },
    {
     "name": "stderr",
     "output_type": "stream",
     "text": [
      "[I 2024-09-06 04:13:43,910] Trial 7 finished with value: 0.8566710352897644 and parameters: {'learning_rate': 1.1263385328134492e-05, 'batch_size': 16, 'num_epochs': 3, 'max_length': 228}. Best is trial 5 with value: 0.7422806024551392.\n",
      "Some weights of the PyTorch model were not used when initializing the TF 2.0 model TFDistilBertForSequenceClassification: ['vocab_layer_norm.weight', 'vocab_transform.bias', 'vocab_projector.bias', 'vocab_transform.weight', 'vocab_layer_norm.bias']\n",
      "- This IS expected if you are initializing TFDistilBertForSequenceClassification from a PyTorch model trained on another task or with another architecture (e.g. initializing a TFBertForSequenceClassification model from a BertForPreTraining model).\n",
      "- This IS NOT expected if you are initializing TFDistilBertForSequenceClassification from a PyTorch model that you expect to be exactly identical (e.g. initializing a TFBertForSequenceClassification model from a BertForSequenceClassification model).\n",
      "Some weights or buffers of the TF 2.0 model TFDistilBertForSequenceClassification were not initialized from the PyTorch model and are newly initialized: ['pre_classifier.weight', 'pre_classifier.bias', 'classifier.weight', 'classifier.bias']\n",
      "You should probably TRAIN this model on a down-stream task to be able to use it for predictions and inference.\n"
     ]
    },
    {
     "name": "stdout",
     "output_type": "stream",
     "text": [
      "Epoch 1/4\n",
      "40/40 [==============================] - 98s 2s/step - loss: 1.3614 - sparse_categorical_accuracy: 0.3703 - val_loss: 1.3073 - val_sparse_categorical_accuracy: 0.4375\n",
      "Epoch 2/4\n",
      "40/40 [==============================] - 84s 2s/step - loss: 1.0621 - sparse_categorical_accuracy: 0.6547 - val_loss: 0.9169 - val_sparse_categorical_accuracy: 0.6625\n",
      "Epoch 3/4\n",
      "40/40 [==============================] - 83s 2s/step - loss: 0.7530 - sparse_categorical_accuracy: 0.7563 - val_loss: 0.7895 - val_sparse_categorical_accuracy: 0.6938\n",
      "Epoch 4/4\n",
      "40/40 [==============================] - 84s 2s/step - loss: 0.5697 - sparse_categorical_accuracy: 0.8188 - val_loss: 0.9064 - val_sparse_categorical_accuracy: 0.6438\n",
      "10/10 [==============================] - 6s 554ms/step - loss: 0.9064 - sparse_categorical_accuracy: 0.6438\n"
     ]
    },
    {
     "name": "stderr",
     "output_type": "stream",
     "text": [
      "[I 2024-09-06 04:19:39,777] Trial 8 finished with value: 0.9063932299613953 and parameters: {'learning_rate': 1.5405289061707014e-05, 'batch_size': 16, 'num_epochs': 4, 'max_length': 133}. Best is trial 5 with value: 0.7422806024551392.\n",
      "Some weights of the PyTorch model were not used when initializing the TF 2.0 model TFDistilBertForSequenceClassification: ['vocab_layer_norm.weight', 'vocab_transform.bias', 'vocab_projector.bias', 'vocab_transform.weight', 'vocab_layer_norm.bias']\n",
      "- This IS expected if you are initializing TFDistilBertForSequenceClassification from a PyTorch model trained on another task or with another architecture (e.g. initializing a TFBertForSequenceClassification model from a BertForPreTraining model).\n",
      "- This IS NOT expected if you are initializing TFDistilBertForSequenceClassification from a PyTorch model that you expect to be exactly identical (e.g. initializing a TFBertForSequenceClassification model from a BertForSequenceClassification model).\n",
      "Some weights or buffers of the TF 2.0 model TFDistilBertForSequenceClassification were not initialized from the PyTorch model and are newly initialized: ['pre_classifier.weight', 'pre_classifier.bias', 'classifier.weight', 'classifier.bias']\n",
      "You should probably TRAIN this model on a down-stream task to be able to use it for predictions and inference.\n"
     ]
    },
    {
     "name": "stdout",
     "output_type": "stream",
     "text": [
      "Epoch 1/4\n",
      "80/80 [==============================] - 114s 1s/step - loss: 1.3613 - sparse_categorical_accuracy: 0.3516 - val_loss: 1.3050 - val_sparse_categorical_accuracy: 0.4313\n",
      "Epoch 2/4\n",
      "80/80 [==============================] - 100s 1s/step - loss: 0.9911 - sparse_categorical_accuracy: 0.6859 - val_loss: 0.8730 - val_sparse_categorical_accuracy: 0.6562\n",
      "Epoch 3/4\n",
      "80/80 [==============================] - 99s 1s/step - loss: 0.6588 - sparse_categorical_accuracy: 0.7906 - val_loss: 0.7741 - val_sparse_categorical_accuracy: 0.6812\n",
      "Epoch 4/4\n",
      "80/80 [==============================] - 101s 1s/step - loss: 0.4606 - sparse_categorical_accuracy: 0.8625 - val_loss: 0.7517 - val_sparse_categorical_accuracy: 0.7125\n",
      "20/20 [==============================] - 6s 287ms/step - loss: 0.7517 - sparse_categorical_accuracy: 0.7125\n"
     ]
    },
    {
     "name": "stderr",
     "output_type": "stream",
     "text": [
      "[I 2024-09-06 04:26:41,619] Trial 9 finished with value: 0.7516732215881348 and parameters: {'learning_rate': 1.0910432169885182e-05, 'batch_size': 8, 'num_epochs': 4, 'max_length': 138}. Best is trial 5 with value: 0.7422806024551392.\n"
     ]
    },
    {
     "name": "stdout",
     "output_type": "stream",
     "text": [
      "Best trial: 0.7422806024551392\n",
      "Best hyperparameters: {'learning_rate': 3.590183602004517e-05, 'batch_size': 16, 'num_epochs': 2, 'max_length': 179}\n"
     ]
    }
   ],
   "source": [
    "study = optuna.create_study(direction='minimize')\n",
    "study.optimize(objective, n_trials=10)\n",
    "\n",
    "# Print the best hyperparameters found\n",
    "print(f'Best trial: {study.best_trial.value}')\n",
    "print(f'Best hyperparameters: {study.best_trial.params}')\n"
   ]
  },
  {
   "cell_type": "code",
   "execution_count": 4,
   "id": "e447878e-a7b5-4414-91ae-e1148a56e991",
   "metadata": {},
   "outputs": [
    {
     "name": "stderr",
     "output_type": "stream",
     "text": [
      "Some weights of the PyTorch model were not used when initializing the TF 2.0 model TFDistilBertForSequenceClassification: ['vocab_layer_norm.weight', 'vocab_transform.bias', 'vocab_projector.bias', 'vocab_transform.weight', 'vocab_layer_norm.bias']\n",
      "- This IS expected if you are initializing TFDistilBertForSequenceClassification from a PyTorch model trained on another task or with another architecture (e.g. initializing a TFBertForSequenceClassification model from a BertForPreTraining model).\n",
      "- This IS NOT expected if you are initializing TFDistilBertForSequenceClassification from a PyTorch model that you expect to be exactly identical (e.g. initializing a TFBertForSequenceClassification model from a BertForSequenceClassification model).\n",
      "Some weights or buffers of the TF 2.0 model TFDistilBertForSequenceClassification were not initialized from the PyTorch model and are newly initialized: ['pre_classifier.weight', 'pre_classifier.bias', 'classifier.weight', 'classifier.bias']\n",
      "You should probably TRAIN this model on a down-stream task to be able to use it for predictions and inference.\n"
     ]
    },
    {
     "name": "stdout",
     "output_type": "stream",
     "text": [
      "Epoch 1/2\n",
      "40/40 [==============================] - 127s 3s/step - loss: 1.2441 - sparse_categorical_accuracy: 0.4219 - val_loss: 1.0699 - val_sparse_categorical_accuracy: 0.5875\n",
      "Epoch 2/2\n",
      "40/40 [==============================] - 112s 3s/step - loss: 0.7603 - sparse_categorical_accuracy: 0.7406 - val_loss: 0.7492 - val_sparse_categorical_accuracy: 0.7312\n"
     ]
    },
    {
     "data": {
      "text/plain": [
       "<tf_keras.src.callbacks.History at 0x7f9619b8ae00>"
      ]
     },
     "execution_count": 4,
     "metadata": {},
     "output_type": "execute_result"
    }
   ],
   "source": [
    "best_params = study.best_trial.params\n",
    "\n",
    "# Rebuilding with the DistillBERT model with the best hyperparameters results\n",
    "model = TFDistilBertForSequenceClassification.from_pretrained('distilbert-base-uncased', num_labels=len(label_map))\n",
    "tokenizer = DistilBertTokenizerFast.from_pretrained('distilbert-base-uncased')\n",
    "\n",
    "train_encodings = tokenizer(train_texts, truncation=True, padding=True, max_length=best_params['max_length'])\n",
    "val_encodings = tokenizer(val_texts, truncation=True, padding=True, max_length=best_params['max_length'])\n",
    "\n",
    "train_dataset = tf.data.Dataset.from_tensor_slices((\n",
    "    dict(train_encodings),\n",
    "    train_labels\n",
    ")).shuffle(len(train_texts)).batch(best_params['batch_size'])\n",
    "\n",
    "val_dataset = tf.data.Dataset.from_tensor_slices((\n",
    "    dict(val_encodings),\n",
    "    val_labels\n",
    ")).batch(best_params['batch_size'])\n",
    "\n",
    "model.compile(\n",
    "    optimizer=tf.keras.optimizers.Adam(learning_rate=best_params['learning_rate']),\n",
    "    loss=tf.keras.losses.SparseCategoricalCrossentropy(from_logits=True),\n",
    "    metrics=[tf.keras.metrics.SparseCategoricalAccuracy()],\n",
    ")\n",
    "\n",
    "model.fit(train_dataset, validation_data=val_dataset, epochs=best_params['num_epochs'])\n"
   ]
  },
  {
   "cell_type": "code",
   "execution_count": 5,
   "id": "e56dca13-8426-4953-8567-1091896c568b",
   "metadata": {},
   "outputs": [
    {
     "name": "stdout",
     "output_type": "stream",
     "text": [
      "10/10 [==============================] - 10s 742ms/step\n",
      "Accuracy: 0.73125\n",
      "Precision: 0.742866221134573\n",
      "Recall: 0.73125\n",
      "F1 Score: 0.7241087176999736\n"
     ]
    },
    {
     "name": "stderr",
     "output_type": "stream",
     "text": [
      "2024-09-06 04:31:01.598302: W tensorflow/core/framework/local_rendezvous.cc:404] Local rendezvous is aborting with status: OUT_OF_RANGE: End of sequence\n"
     ]
    },
    {
     "name": "stdout",
     "output_type": "stream",
     "text": [
      "10/10 [==============================] - 8s 769ms/step - loss: 0.7492 - sparse_categorical_accuracy: 0.7312\n",
      "10/10 [==============================] - 8s 769ms/step\n",
      "Validation Loss: 0.7491527795791626\n",
      "Validation Accuracy: 0.731249988079071\n",
      "Classification Report:\n",
      "                   precision    recall  f1-score   support\n",
      "\n",
      " drug and alcohol       0.94      0.78      0.85        37\n",
      "       early life       0.71      0.98      0.82        43\n",
      "      personality       0.74      0.49      0.59        35\n",
      "trauma and stress       0.62      0.64      0.63        45\n",
      "\n",
      "         accuracy                           0.73       160\n",
      "        macro avg       0.75      0.72      0.72       160\n",
      "     weighted avg       0.74      0.73      0.72       160\n",
      "\n"
     ]
    },
    {
     "name": "stderr",
     "output_type": "stream",
     "text": [
      "2024-09-06 04:31:17.046093: W tensorflow/core/framework/local_rendezvous.cc:404] Local rendezvous is aborting with status: OUT_OF_RANGE: End of sequence\n"
     ]
    },
    {
     "data": {
      "image/png": "[encoded data removed]",
      "text/plain": [
       "<Figure size 720x576 with 2 Axes>"
      ]
     },
     "metadata": {
      "needs_background": "light"
     },
     "output_type": "display_data"
    }
   ],
   "source": [
    "import numpy as np\n",
    "from sklearn.metrics import classification_report, confusion_matrix\n",
    "import matplotlib.pyplot as plt\n",
    "import seaborn as sns\n",
    "\n",
    "import numpy as np\n",
    "from sklearn.metrics import accuracy_score, precision_score, recall_score, f1_score, classification_report\n",
    "\n",
    "# Get predictions from the model\n",
    "predictions = model.predict(val_dataset)\n",
    "pred_labels = np.argmax(predictions.logits, axis=-1)\n",
    "\n",
    "# True labels from the validation dataset\n",
    "val_labels_array = np.concatenate([y.numpy() for x, y in val_dataset], axis=0)\n",
    "\n",
    "# Calculate accuracy\n",
    "accuracy = accuracy_score(val_labels_array, pred_labels)\n",
    "\n",
    "# Calculate precision\n",
    "precision = precision_score(val_labels_array, pred_labels, average='weighted')\n",
    "\n",
    "# Calculate recall\n",
    "recall = recall_score(val_labels_array, pred_labels, average='weighted')\n",
    "\n",
    "# Calculate F1 score\n",
    "f1 = f1_score(val_labels_array, pred_labels, average='weighted')\n",
    "\n",
    "# Print the results\n",
    "print(f\"Accuracy: {accuracy}\")\n",
    "print(f\"Precision: {precision}\")\n",
    "print(f\"Recall: {recall}\")\n",
    "print(f\"F1 Score: {f1}\")\n",
    "\n",
    "\n",
    "# Evaluate the model on the validation dataset to get the loss and accuracy\n",
    "loss, accuracy = model.evaluate(val_dataset)\n",
    "\n",
    "# Get predictions from the model\n",
    "predictions = model.predict(val_dataset)\n",
    "pred_labels = np.argmax(predictions.logits, axis=-1)\n",
    "\n",
    "# True labels from the validation dataset\n",
    "val_labels_array = np.concatenate([y.numpy() for x, y in val_dataset], axis=0)\n",
    "\n",
    "# Generate a classification report\n",
    "target_names = [k for k, v in sorted(label_map.items(), key=lambda item: item[1])]\n",
    "report = classification_report(val_labels_array, pred_labels, target_names=target_names)\n",
    "\n",
    "# Print the evaluation metrics\n",
    "print(f\"Validation Loss: {loss}\")\n",
    "print(f\"Validation Accuracy: {accuracy}\")\n",
    "print(\"Classification Report:\")\n",
    "print(report)\n",
    "\n",
    "# Plot the confusion matrix\n",
    "cm = confusion_matrix(val_labels_array, pred_labels)\n",
    "plt.figure(figsize=(10, 8))\n",
    "sns.heatmap(cm, annot=True, fmt='d', cmap='Blues', xticklabels=target_names, yticklabels=target_names)\n",
    "plt.xlabel('Predicted')\n",
    "plt.ylabel('True')\n",
    "plt.title('Confusion Matrix')\n",
    "plt.show()\n"
   ]
  },
  {
   "cell_type": "code",
   "execution_count": null,
   "id": "551a9c97-735f-47d4-831b-e1fb93eda5ad",
   "metadata": {},
   "outputs": [],
   "source": []
  }
 ],
 "metadata": {
  "kernelspec": {
   "display_name": "Python 3 (ipykernel)",
   "language": "python",
   "name": "python3"
  },
  "language_info": {
   "codemirror_mode": {
    "name": "ipython",
    "version": 3
   },
   "file_extension": ".py",
   "mimetype": "text/x-python",
   "name": "python",
   "nbconvert_exporter": "python",
   "pygments_lexer": "ipython3",
   "version": "3.10.12"
  }
 },
 "nbformat": 4,
 "nbformat_minor": 5
}
