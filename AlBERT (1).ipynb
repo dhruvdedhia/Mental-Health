{
 "cells": [
  {
   "cell_type": "code",
   "execution_count": 2,
   "id": "0ec157db-52f6-4ad5-9a48-db7eb8ddad79",
   "metadata": {},
   "outputs": [],
   "source": [
    "import pandas as pd\n",
    "import numpy as np\n",
    "from transformers import AlbertTokenizer, AlbertForSequenceClassification, Trainer, TrainingArguments, DataCollatorWithPadding, EarlyStoppingCallback\n",
    "from sklearn.metrics import accuracy_score, precision_recall_fscore_support, classification_report, confusion_matrix\n",
    "import seaborn as sns\n",
    "import matplotlib.pyplot as plt\n",
    "from datasets import Dataset\n",
    "import torch\n"
   ]
  },
  {
   "cell_type": "code",
   "execution_count": 7,
   "id": "ba5751fe-795b-41a1-9fcd-5ecb20e941d7",
   "metadata": {},
   "outputs": [
    {
     "name": "stdout",
     "output_type": "stream",
     "text": [
      "{'drug and alcohol': 0, 'early life': 1, 'personality': 2, 'trauma and stress': 3}\n"
     ]
    },
    {
     "name": "stderr",
     "output_type": "stream",
     "text": [
      "/tmp/ipykernel_237263/2582620873.py:9: SettingWithCopyWarning: \n",
      "A value is trying to be set on a copy of a slice from a DataFrame.\n",
      "Try using .loc[row_indexer,col_indexer] = value instead\n",
      "\n",
      "See the caveats in the documentation: https://pandas.pydata.org/pandas-docs/stable/user_guide/indexing.html#returning-a-view-versus-a-copy\n",
      "  dataset_clean['Label'] = dataset_clean['Label'].str.lower()\n",
      "/tmp/ipykernel_237263/2582620873.py:12: SettingWithCopyWarning: \n",
      "A value is trying to be set on a copy of a slice from a DataFrame.\n",
      "Try using .loc[row_indexer,col_indexer] = value instead\n",
      "\n",
      "See the caveats in the documentation: https://pandas.pydata.org/pandas-docs/stable/user_guide/indexing.html#returning-a-view-versus-a-copy\n",
      "  dataset_clean['Label'] = dataset_clean['Label'].str.strip()\n",
      "/tmp/ipykernel_237263/2582620873.py:28: SettingWithCopyWarning: \n",
      "A value is trying to be set on a copy of a slice from a DataFrame.\n",
      "Try using .loc[row_indexer,col_indexer] = value instead\n",
      "\n",
      "See the caveats in the documentation: https://pandas.pydata.org/pandas-docs/stable/user_guide/indexing.html#returning-a-view-versus-a-copy\n",
      "  dataset_clean['selftext'] = dataset_clean['selftext'].apply(preprocess_text)\n"
     ]
    }
   ],
   "source": [
    "# Load the dataset\n",
    "file_path = '/user/HS400/dd00830/Downloads/Dissertation/Dataset.csv'\n",
    "dataset = pd.read_csv(file_path)\n",
    "\n",
    "# Drop rows with missing values in 'selftext' and 'Label' columns\n",
    "dataset_clean = dataset.dropna(subset=['selftext', 'Label'])\n",
    "\n",
    "# Map labels in the dataset to integers using the lowercased label map\n",
    "dataset_clean['Label'] = dataset_clean['Label'].str.lower()\n",
    "\n",
    "# Clean the labels by stripping leading/trailing spaces\n",
    "dataset_clean['Label'] = dataset_clean['Label'].str.strip()\n",
    "\n",
    "# Map cleaned labels to integers\n",
    "label_map = {label: idx for idx, label in enumerate(dataset_clean['Label'].unique())}\n",
    "\n",
    "# Print the label map to verify\n",
    "print(label_map)\n",
    "\n",
    "# Text preprocessing function\n",
    "def preprocess_text(text):\n",
    "    text = text.lower()  # Lowercasing\n",
    "    text = text.replace('\\n', ' ')  # Replace newlines with spaces\n",
    "    text = ''.join([c for c in text if c.isalnum() or c.isspace()])  # Remove special characters\n",
    "    return text\n",
    "\n",
    "# Apply text preprocessing to 'selftext'\n",
    "dataset_clean['selftext'] = dataset_clean['selftext'].apply(preprocess_text)\n",
    "\n"
   ]
  },
  {
   "cell_type": "code",
   "execution_count": 9,
   "id": "3d50bca4-6a8e-4542-b797-441d0aaa189b",
   "metadata": {},
   "outputs": [],
   "source": [
    "# Initialize ALBERT tokenizer\n",
    "tokenizer = AlbertTokenizer.from_pretrained('albert-base-v2')\n",
    "\n",
    "# Tokenize the 'selftext' data\n",
    "tokenized_inputs = dataset_clean['selftext'].apply(\n",
    "    lambda x: tokenizer(x, truncation=True, padding='max_length', max_length=128)\n",
    ")\n"
   ]
  },
  {
   "cell_type": "code",
   "execution_count": 10,
   "id": "d2698b85-9092-4c85-9cdf-db1ac2f98362",
   "metadata": {},
   "outputs": [],
   "source": [
    "# Convert to a Hugging Face Dataset\n",
    "dataset = Dataset.from_pandas(pd.DataFrame({\n",
    "    'input_ids': [x['input_ids'] for x in tokenized_inputs],\n",
    "    'attention_mask': [x['attention_mask'] for x in tokenized_inputs],\n",
    "    'labels': dataset_clean['Label'].map(label_map).tolist()\n",
    "}))\n",
    "\n",
    "# Split the dataset into training and testing sets\n",
    "train_dataset, test_dataset = dataset.train_test_split(test_size=0.2).values()\n"
   ]
  },
  {
   "cell_type": "code",
   "execution_count": 11,
   "id": "20094305-bbf3-4ef3-b464-b24f78758edd",
   "metadata": {},
   "outputs": [],
   "source": [
    "# Initialize the data collator with padding\n",
    "data_collator = DataCollatorWithPadding(tokenizer)\n"
   ]
  },
  {
   "cell_type": "code",
   "execution_count": 12,
   "id": "7cd24ce6-d2cf-4e35-9c6c-e4edbbb1924c",
   "metadata": {},
   "outputs": [],
   "source": [
    "# Define accuracy metric function\n",
    "def compute_metrics(pred):\n",
    "    labels = pred.label_ids\n",
    "    preds = np.argmax(pred.predictions, axis=1)\n",
    "    acc = accuracy_score(labels, preds)\n",
    "    precision, recall, f1, _ = precision_recall_fscore_support(labels, preds, average='weighted')\n",
    "    return {\n",
    "        'accuracy': acc,\n",
    "        'precision': precision,\n",
    "        'recall': recall,\n",
    "        'f1': f1,\n",
    "    }\n"
   ]
  },
  {
   "cell_type": "code",
   "execution_count": 13,
   "id": "443cec53-88f0-43ba-9225-036cfa0b8620",
   "metadata": {},
   "outputs": [],
   "source": [
    "# Set up training arguments with logging and evaluation strategy\n",
    "training_args = TrainingArguments(\n",
    "    output_dir='./results',\n",
    "    evaluation_strategy=\"epoch\",  # Evaluate at the end of each epoch\n",
    "    save_strategy=\"epoch\",        # Save the model at the end of each epoch\n",
    "    logging_strategy=\"epoch\",     # Log training metrics at the end of each epoch\n",
    "    learning_rate=2e-5,           # Experiment with different learning rates\n",
    "    per_device_train_batch_size=8,  # Experiment with batch size\n",
    "    per_device_eval_batch_size=8,\n",
    "    num_train_epochs=10,           # Experiment with different numbers of epochs\n",
    "    weight_decay=0.01,\n",
    "    load_best_model_at_end=True,  # Save the best model during training\n",
    "    metric_for_best_model=\"accuracy\",  # Use accuracy to determine the best model\n",
    ")\n"
   ]
  },
  {
   "cell_type": "code",
   "execution_count": 14,
   "id": "49421283-e932-4a64-89bc-a284511f231e",
   "metadata": {},
   "outputs": [
    {
     "name": "stderr",
     "output_type": "stream",
     "text": [
      "Some weights of AlbertForSequenceClassification were not initialized from the model checkpoint at albert-base-v2 and are newly initialized: ['classifier.bias', 'classifier.weight']\n",
      "You should probably TRAIN this model on a down-stream task to be able to use it for predictions and inference.\n"
     ]
    }
   ],
   "source": [
    "# Initialize the ALBERT model\n",
    "model = AlbertForSequenceClassification.from_pretrained('albert-base-v2', num_labels=len(label_map))\n"
   ]
  },
  {
   "cell_type": "code",
   "execution_count": 15,
   "id": "ae416262-c2d6-464c-98a5-d48c8841c694",
   "metadata": {},
   "outputs": [],
   "source": [
    "# Initialize the Trainer\n",
    "trainer = Trainer(\n",
    "    model=model,\n",
    "    args=training_args,\n",
    "    train_dataset=train_dataset,\n",
    "    eval_dataset=test_dataset,\n",
    "    data_collator=data_collator,\n",
    "    compute_metrics=compute_metrics,  # Include additional metrics\n",
    "    #callbacks=[EarlyStoppingCallback(early_stopping_patience=2)]  # Early stopping\n",
    ")\n"
   ]
  },
  {
   "cell_type": "code",
   "execution_count": 16,
   "id": "ea4b4599-2b8d-4f6f-9281-00e59ea31e04",
   "metadata": {},
   "outputs": [
    {
     "data": {
      "text/html": [
       "\n",
       "    <div>\n",
       "      \n",
       "      <progress value='800' max='800' style='width:300px; height:20px; vertical-align: middle;'></progress>\n",
       "      [800/800 03:50, Epoch 10/10]\n",
       "    </div>\n",
       "    <table border=\"1\" class=\"dataframe\">\n",
       "  <thead>\n",
       " <tr style=\"text-align: left;\">\n",
       "      <th>Epoch</th>\n",
       "      <th>Training Loss</th>\n",
       "      <th>Validation Loss</th>\n",
       "      <th>Accuracy</th>\n",
       "      <th>Precision</th>\n",
       "      <th>Recall</th>\n",
       "      <th>F1</th>\n",
       "    </tr>\n",
       "  </thead>\n",
       "  <tbody>\n",
       "    <tr>\n",
       "      <td>1</td>\n",
       "      <td>1.407900</td>\n",
       "      <td>1.386652</td>\n",
       "      <td>0.212500</td>\n",
       "      <td>0.045156</td>\n",
       "      <td>0.212500</td>\n",
       "      <td>0.074485</td>\n",
       "    </tr>\n",
       "    <tr>\n",
       "      <td>2</td>\n",
       "      <td>1.263400</td>\n",
       "      <td>0.961691</td>\n",
       "      <td>0.593750</td>\n",
       "      <td>0.580933</td>\n",
       "      <td>0.593750</td>\n",
       "      <td>0.568243</td>\n",
       "    </tr>\n",
       "    <tr>\n",
       "      <td>3</td>\n",
       "      <td>0.766800</td>\n",
       "      <td>1.193410</td>\n",
       "      <td>0.525000</td>\n",
       "      <td>0.655009</td>\n",
       "      <td>0.525000</td>\n",
       "      <td>0.483127</td>\n",
       "    </tr>\n",
       "    <tr>\n",
       "      <td>4</td>\n",
       "      <td>0.602000</td>\n",
       "      <td>0.851855</td>\n",
       "      <td>0.718750</td>\n",
       "      <td>0.738796</td>\n",
       "      <td>0.718750</td>\n",
       "      <td>0.711644</td>\n",
       "    </tr>\n",
       "    <tr>\n",
       "      <td>5</td>\n",
       "      <td>0.385200</td>\n",
       "      <td>0.917912</td>\n",
       "      <td>0.681250</td>\n",
       "      <td>0.688179</td>\n",
       "      <td>0.681250</td>\n",
       "      <td>0.669889</td>\n",
       "    </tr>\n",
       "    <tr>\n",
       "      <td>6</td>\n",
       "      <td>0.232100</td>\n",
       "      <td>1.157378</td>\n",
       "      <td>0.681250</td>\n",
       "      <td>0.718516</td>\n",
       "      <td>0.681250</td>\n",
       "      <td>0.686007</td>\n",
       "    </tr>\n",
       "    <tr>\n",
       "      <td>7</td>\n",
       "      <td>0.126700</td>\n",
       "      <td>1.224583</td>\n",
       "      <td>0.668750</td>\n",
       "      <td>0.682372</td>\n",
       "      <td>0.668750</td>\n",
       "      <td>0.672584</td>\n",
       "    </tr>\n",
       "    <tr>\n",
       "      <td>8</td>\n",
       "      <td>0.075200</td>\n",
       "      <td>1.428705</td>\n",
       "      <td>0.700000</td>\n",
       "      <td>0.705486</td>\n",
       "      <td>0.700000</td>\n",
       "      <td>0.699170</td>\n",
       "    </tr>\n",
       "    <tr>\n",
       "      <td>9</td>\n",
       "      <td>0.056100</td>\n",
       "      <td>1.428891</td>\n",
       "      <td>0.700000</td>\n",
       "      <td>0.716579</td>\n",
       "      <td>0.700000</td>\n",
       "      <td>0.704902</td>\n",
       "    </tr>\n",
       "    <tr>\n",
       "      <td>10</td>\n",
       "      <td>0.042400</td>\n",
       "      <td>1.441378</td>\n",
       "      <td>0.693750</td>\n",
       "      <td>0.708042</td>\n",
       "      <td>0.693750</td>\n",
       "      <td>0.697701</td>\n",
       "    </tr>\n",
       "  </tbody>\n",
       "</table><p>"
      ],
      "text/plain": [
       "<IPython.core.display.HTML object>"
      ]
     },
     "metadata": {},
     "output_type": "display_data"
    },
    {
     "name": "stderr",
     "output_type": "stream",
     "text": [
      "/user/HS400/dd00830/.local/lib/python3.10/site-packages/sklearn/metrics/_classification.py:1509: UndefinedMetricWarning: Precision is ill-defined and being set to 0.0 in labels with no predicted samples. Use `zero_division` parameter to control this behavior.\n",
      "  _warn_prf(average, modifier, f\"{metric.capitalize()} is\", len(result))\n"
     ]
    },
    {
     "data": {
      "text/plain": [
       "TrainOutput(global_step=800, training_loss=0.49578908294439317, metrics={'train_runtime': 231.2748, 'train_samples_per_second': 27.673, 'train_steps_per_second': 3.459, 'total_flos': 38244522393600.0, 'train_loss': 0.49578908294439317, 'epoch': 10.0})"
      ]
     },
     "execution_count": 16,
     "metadata": {},
     "output_type": "execute_result"
    }
   ],
   "source": [
    "# Train the model\n",
    "trainer.train()\n"
   ]
  },
  {
   "cell_type": "code",
   "execution_count": 17,
   "id": "49c4117c-32e6-43b7-87ba-b6ffdb632edf",
   "metadata": {},
   "outputs": [
    {
     "data": {
      "text/html": [],
      "text/plain": [
       "<IPython.core.display.HTML object>"
      ]
     },
     "metadata": {},
     "output_type": "display_data"
    },
    {
     "name": "stdout",
     "output_type": "stream",
     "text": [
      "{'eval_loss': 0.8518549203872681, 'eval_accuracy': 0.71875, 'eval_precision': 0.7387959898051362, 'eval_recall': 0.71875, 'eval_f1': 0.7116440973360133, 'eval_runtime': 1.708, 'eval_samples_per_second': 93.678, 'eval_steps_per_second': 11.71, 'epoch': 10.0}\n"
     ]
    }
   ],
   "source": [
    "# Evaluate the model on the test set\n",
    "test_results = trainer.evaluate(eval_dataset=test_dataset)\n",
    "print(test_results)  "
   ]
  },
  {
   "cell_type": "code",
   "execution_count": 18,
   "id": "b705a7b8-27f3-498f-a7fe-dc2a0067b431",
   "metadata": {},
   "outputs": [
    {
     "name": "stdout",
     "output_type": "stream",
     "text": [
      "                   precision    recall  f1-score   support\n",
      "\n",
      " drug and alcohol       0.71      0.94      0.81        31\n",
      "       early life       0.82      0.84      0.83        49\n",
      "      personality       0.81      0.48      0.60        46\n",
      "trauma and stress       0.55      0.68      0.61        34\n",
      "\n",
      "         accuracy                           0.72       160\n",
      "        macro avg       0.72      0.73      0.71       160\n",
      "     weighted avg       0.74      0.72      0.71       160\n",
      "\n"
     ]
    },
    {
     "data": {
      "image/png": "[encoded data removed]",
      "text/plain": [
       "<Figure size 720x576 with 2 Axes>"
      ]
     },
     "metadata": {
      "needs_background": "light"
     },
     "output_type": "display_data"
    },
    {
     "data": {
      "image/png": "[encoded data removed]",
      "text/plain": [
       "<Figure size 864x360 with 2 Axes>"
      ]
     },
     "metadata": {
      "needs_background": "light"
     },
     "output_type": "display_data"
    }
   ],
   "source": [
    "# Get predictions for classification report\n",
    "predictions = trainer.predict(test_dataset)\n",
    "predicted_labels = np.argmax(predictions.predictions, axis=1)\n",
    "true_labels = predictions.label_ids\n",
    "\n",
    "# Generate the classification report\n",
    "report = classification_report(true_labels, predicted_labels, target_names=label_map.keys())\n",
    "\n",
    "# Print the classification report\n",
    "print(report)\n",
    "\n",
    "# Generate the confusion matrix\n",
    "conf_matrix = confusion_matrix(true_labels, predicted_labels)\n",
    "\n",
    "# Plot the confusion matrix as a heatmap\n",
    "plt.figure(figsize=(10, 8))\n",
    "sns.heatmap(conf_matrix, annot=True, fmt='d', cmap='Blues', xticklabels=label_map.keys(), yticklabels=label_map.keys())\n",
    "plt.xlabel('Predicted Label')\n",
    "plt.ylabel('True Label')\n",
    "plt.title('Confusion Matrix')\n",
    "plt.show()\n",
    "\n",
    "# Extract loss and accuracy from log history for plotting\n",
    "train_loss = []\n",
    "eval_loss = []\n",
    "train_accuracy = []\n",
    "eval_accuracy = []\n",
    "\n",
    "for log in trainer.state.log_history:\n",
    "    if 'loss' in log:\n",
    "        train_loss.append(log['loss'])\n",
    "    if 'eval_loss' in log:\n",
    "        eval_loss.append(log['eval_loss'])\n",
    "    if 'accuracy' in log:\n",
    "        train_accuracy.append(log['accuracy'])\n",
    "    if 'eval_accuracy' in log:\n",
    "        eval_accuracy.append(log['eval_accuracy'])\n",
    "\n",
    "# Plotting loss and accuracy\n",
    "plt.figure(figsize=(12, 5))\n",
    "\n",
    "# Plotting loss\n",
    "plt.subplot(1, 2, 1)\n",
    "plt.plot(train_loss, label='Training Loss')\n",
    "plt.plot(eval_loss, label='Validation Loss')\n",
    "plt.xlabel('Epoch')\n",
    "plt.ylabel('Loss')\n",
    "plt.title('Training vs. Validation Loss')\n",
    "plt.legend()\n",
    "\n",
    "# Plotting accuracy\n",
    "plt.subplot(1, 2, 2)\n",
    "plt.plot(eval_accuracy, label='Validation Accuracy')\n",
    "plt.xlabel('Epoch')\n",
    "plt.ylabel('Accuracy')\n",
    "plt.title('Validation Accuracy')\n",
    "plt.legend()\n",
    "\n",
    "plt.show()\n",
    "\n",
    "\n"
   ]
  },
  {
   "cell_type": "markdown",
   "id": "02df0477-bc57-49fc-b4b5-ba2d7f7fca80",
   "metadata": {},
   "source": [
    "## HYPER PARAMETER TUNING:-"
   ]
  },
  {
   "cell_type": "code",
   "execution_count": 21,
   "id": "7aaa2c15-f41e-42a8-ad82-a6fb2e1bb512",
   "metadata": {},
   "outputs": [
    {
     "name": "stderr",
     "output_type": "stream",
     "text": [
      "[I 2024-09-04 06:08:26,604] A new study created in memory with name: no-name-30e4fb62-8fdb-434f-a348-83062442f094\n",
      "All PyTorch model weights were used when initializing TFAlbertForSequenceClassification.\n",
      "\n",
      "Some weights or buffers of the TF 2.0 model TFAlbertForSequenceClassification were not initialized from the PyTorch model and are newly initialized: ['classifier.weight', 'classifier.bias']\n",
      "You should probably TRAIN this model on a down-stream task to be able to use it for predictions and inference.\n"
     ]
    },
    {
     "name": "stdout",
     "output_type": "stream",
     "text": [
      "Epoch 1/4\n",
      "WARNING:tensorflow:AutoGraph could not transform <function infer_framework at 0x7f41c7365c60> and will run it as-is.\n",
      "Cause: for/else statement not yet supported\n",
      "To silence this warning, decorate the function with @tf.autograph.experimental.do_not_convert\n",
      "WARNING: AutoGraph could not transform <function infer_framework at 0x7f41c7365c60> and will run it as-is.\n",
      "Cause: for/else statement not yet supported\n",
      "To silence this warning, decorate the function with @tf.autograph.experimental.do_not_convert\n",
      "80/80 [==============================] - 203s 2s/step - loss: 1.4171 - sparse_categorical_accuracy: 0.2719 - val_loss: 1.3991 - val_sparse_categorical_accuracy: 0.2812\n",
      "Epoch 2/4\n",
      "80/80 [==============================] - 173s 2s/step - loss: 1.3913 - sparse_categorical_accuracy: 0.2781 - val_loss: 1.3847 - val_sparse_categorical_accuracy: 0.2688\n",
      "Epoch 3/4\n",
      "80/80 [==============================] - 173s 2s/step - loss: 1.3978 - sparse_categorical_accuracy: 0.2500 - val_loss: 1.4039 - val_sparse_categorical_accuracy: 0.2750\n",
      "Epoch 4/4\n",
      "80/80 [==============================] - 173s 2s/step - loss: 1.4150 - sparse_categorical_accuracy: 0.2734 - val_loss: 1.3899 - val_sparse_categorical_accuracy: 0.2188\n",
      "20/20 [==============================] - 13s 669ms/step - loss: 1.3899 - sparse_categorical_accuracy: 0.2188\n"
     ]
    },
    {
     "name": "stderr",
     "output_type": "stream",
     "text": [
      "[I 2024-09-04 06:20:44,208] Trial 0 finished with value: 1.3898561000823975 and parameters: {'learning_rate': 4.21957939838539e-05, 'batch_size': 8, 'num_epochs': 4, 'max_length': 158}. Best is trial 0 with value: 1.3898561000823975.\n",
      "All PyTorch model weights were used when initializing TFAlbertForSequenceClassification.\n",
      "\n",
      "Some weights or buffers of the TF 2.0 model TFAlbertForSequenceClassification were not initialized from the PyTorch model and are newly initialized: ['classifier.weight', 'classifier.bias']\n",
      "You should probably TRAIN this model on a down-stream task to be able to use it for predictions and inference.\n"
     ]
    },
    {
     "name": "stdout",
     "output_type": "stream",
     "text": [
      "Epoch 1/4\n",
      "40/40 [==============================] - 228s 5s/step - loss: 1.3947 - sparse_categorical_accuracy: 0.3078 - val_loss: 1.3205 - val_sparse_categorical_accuracy: 0.3812\n",
      "Epoch 2/4\n",
      "40/40 [==============================] - 209s 5s/step - loss: 1.1154 - sparse_categorical_accuracy: 0.5203 - val_loss: 0.9851 - val_sparse_categorical_accuracy: 0.6562\n",
      "Epoch 3/4\n",
      "40/40 [==============================] - 209s 5s/step - loss: 0.7303 - sparse_categorical_accuracy: 0.7531 - val_loss: 0.9635 - val_sparse_categorical_accuracy: 0.6187\n",
      "Epoch 4/4\n",
      "40/40 [==============================] - 209s 5s/step - loss: 0.6906 - sparse_categorical_accuracy: 0.7844 - val_loss: 0.8293 - val_sparse_categorical_accuracy: 0.6938\n",
      "10/10 [==============================] - 17s 2s/step - loss: 0.8293 - sparse_categorical_accuracy: 0.6938\n"
     ]
    },
    {
     "name": "stderr",
     "output_type": "stream",
     "text": [
      "[I 2024-09-04 06:35:18,997] Trial 1 finished with value: 0.8292682766914368 and parameters: {'learning_rate': 2.284042292122501e-05, 'batch_size': 16, 'num_epochs': 4, 'max_length': 192}. Best is trial 0 with value: 1.3898561000823975.\n",
      "All PyTorch model weights were used when initializing TFAlbertForSequenceClassification.\n",
      "\n",
      "Some weights or buffers of the TF 2.0 model TFAlbertForSequenceClassification were not initialized from the PyTorch model and are newly initialized: ['classifier.weight', 'classifier.bias']\n",
      "You should probably TRAIN this model on a down-stream task to be able to use it for predictions and inference.\n"
     ]
    },
    {
     "name": "stdout",
     "output_type": "stream",
     "text": [
      "Epoch 1/4\n",
      "20/20 [==============================] - 245s 12s/step - loss: 1.4084 - sparse_categorical_accuracy: 0.2672 - val_loss: 1.3608 - val_sparse_categorical_accuracy: 0.3313\n",
      "Epoch 2/4\n",
      "20/20 [==============================] - 225s 11s/step - loss: 1.2811 - sparse_categorical_accuracy: 0.4297 - val_loss: 1.2039 - val_sparse_categorical_accuracy: 0.4812\n",
      "Epoch 3/4\n",
      "20/20 [==============================] - 224s 11s/step - loss: 1.0009 - sparse_categorical_accuracy: 0.6562 - val_loss: 1.0146 - val_sparse_categorical_accuracy: 0.5938\n",
      "Epoch 4/4\n",
      "20/20 [==============================] - 232s 12s/step - loss: 0.7401 - sparse_categorical_accuracy: 0.7516 - val_loss: 0.8172 - val_sparse_categorical_accuracy: 0.7188\n",
      "5/5 [==============================] - 19s 4s/step - loss: 0.8172 - sparse_categorical_accuracy: 0.7188\n"
     ]
    },
    {
     "name": "stderr",
     "output_type": "stream",
     "text": [
      "[I 2024-09-04 06:51:06,444] Trial 2 finished with value: 0.8172022700309753 and parameters: {'learning_rate': 1.9750669781299764e-05, 'batch_size': 32, 'num_epochs': 4, 'max_length': 199}. Best is trial 0 with value: 1.3898561000823975.\n",
      "All PyTorch model weights were used when initializing TFAlbertForSequenceClassification.\n",
      "\n",
      "Some weights or buffers of the TF 2.0 model TFAlbertForSequenceClassification were not initialized from the PyTorch model and are newly initialized: ['classifier.weight', 'classifier.bias']\n",
      "You should probably TRAIN this model on a down-stream task to be able to use it for predictions and inference.\n"
     ]
    },
    {
     "name": "stdout",
     "output_type": "stream",
     "text": [
      "Epoch 1/4\n",
      "20/20 [==============================] - 216s 10s/step - loss: 1.3951 - sparse_categorical_accuracy: 0.2766 - val_loss: 1.3876 - val_sparse_categorical_accuracy: 0.2500\n",
      "Epoch 2/4\n",
      "20/20 [==============================] - 198s 10s/step - loss: 1.3375 - sparse_categorical_accuracy: 0.3500 - val_loss: 1.2688 - val_sparse_categorical_accuracy: 0.5437\n",
      "Epoch 3/4\n",
      "20/20 [==============================] - 198s 10s/step - loss: 1.0904 - sparse_categorical_accuracy: 0.6000 - val_loss: 0.9648 - val_sparse_categorical_accuracy: 0.6438\n",
      "Epoch 4/4\n",
      "20/20 [==============================] - 197s 10s/step - loss: 0.7936 - sparse_categorical_accuracy: 0.7578 - val_loss: 0.8256 - val_sparse_categorical_accuracy: 0.6750\n",
      "5/5 [==============================] - 17s 3s/step - loss: 0.8256 - sparse_categorical_accuracy: 0.6750\n"
     ]
    },
    {
     "name": "stderr",
     "output_type": "stream",
     "text": [
      "[I 2024-09-04 07:04:54,411] Trial 3 finished with value: 0.8256260752677917 and parameters: {'learning_rate': 1.980691820038876e-05, 'batch_size': 32, 'num_epochs': 4, 'max_length': 179}. Best is trial 0 with value: 1.3898561000823975.\n",
      "All PyTorch model weights were used when initializing TFAlbertForSequenceClassification.\n",
      "\n",
      "Some weights or buffers of the TF 2.0 model TFAlbertForSequenceClassification were not initialized from the PyTorch model and are newly initialized: ['classifier.weight', 'classifier.bias']\n",
      "You should probably TRAIN this model on a down-stream task to be able to use it for predictions and inference.\n"
     ]
    },
    {
     "name": "stdout",
     "output_type": "stream",
     "text": [
      "Epoch 1/2\n",
      "20/20 [==============================] - 275s 13s/step - loss: 1.3720 - sparse_categorical_accuracy: 0.3266 - val_loss: 1.3487 - val_sparse_categorical_accuracy: 0.3438\n",
      "Epoch 2/2\n",
      "20/20 [==============================] - 256s 13s/step - loss: 1.2487 - sparse_categorical_accuracy: 0.4547 - val_loss: 1.1945 - val_sparse_categorical_accuracy: 0.5000\n",
      "5/5 [==============================] - 22s 4s/step - loss: 1.1945 - sparse_categorical_accuracy: 0.5000\n"
     ]
    },
    {
     "name": "stderr",
     "output_type": "stream",
     "text": [
      "[I 2024-09-04 07:14:10,348] Trial 4 finished with value: 1.194483995437622 and parameters: {'learning_rate': 2.402189142495765e-05, 'batch_size': 32, 'num_epochs': 2, 'max_length': 221}. Best is trial 0 with value: 1.3898561000823975.\n",
      "All PyTorch model weights were used when initializing TFAlbertForSequenceClassification.\n",
      "\n",
      "Some weights or buffers of the TF 2.0 model TFAlbertForSequenceClassification were not initialized from the PyTorch model and are newly initialized: ['classifier.weight', 'classifier.bias']\n",
      "You should probably TRAIN this model on a down-stream task to be able to use it for predictions and inference.\n"
     ]
    },
    {
     "name": "stdout",
     "output_type": "stream",
     "text": [
      "Epoch 1/2\n",
      "80/80 [==============================] - 273s 3s/step - loss: 1.3598 - sparse_categorical_accuracy: 0.3281 - val_loss: 1.0880 - val_sparse_categorical_accuracy: 0.5625\n",
      "Epoch 2/2\n",
      "80/80 [==============================] - 252s 3s/step - loss: 0.9495 - sparse_categorical_accuracy: 0.6203 - val_loss: 0.7748 - val_sparse_categorical_accuracy: 0.6938\n",
      "20/20 [==============================] - 20s 1s/step - loss: 0.7748 - sparse_categorical_accuracy: 0.6938\n"
     ]
    },
    {
     "name": "stderr",
     "output_type": "stream",
     "text": [
      "[I 2024-09-04 07:23:17,868] Trial 5 finished with value: 0.774789571762085 and parameters: {'learning_rate': 3.103636201095353e-05, 'batch_size': 8, 'num_epochs': 2, 'max_length': 226}. Best is trial 0 with value: 1.3898561000823975.\n",
      "All PyTorch model weights were used when initializing TFAlbertForSequenceClassification.\n",
      "\n",
      "Some weights or buffers of the TF 2.0 model TFAlbertForSequenceClassification were not initialized from the PyTorch model and are newly initialized: ['classifier.weight', 'classifier.bias']\n",
      "You should probably TRAIN this model on a down-stream task to be able to use it for predictions and inference.\n"
     ]
    },
    {
     "name": "stdout",
     "output_type": "stream",
     "text": [
      "Epoch 1/2\n",
      "20/20 [==============================] - 245s 12s/step - loss: 1.4062 - sparse_categorical_accuracy: 0.2766 - val_loss: 1.3721 - val_sparse_categorical_accuracy: 0.3500\n",
      "Epoch 2/2\n",
      "20/20 [==============================] - 226s 11s/step - loss: 1.3285 - sparse_categorical_accuracy: 0.3469 - val_loss: 1.3291 - val_sparse_categorical_accuracy: 0.3438\n",
      "5/5 [==============================] - 19s 4s/step - loss: 1.3291 - sparse_categorical_accuracy: 0.3438\n"
     ]
    },
    {
     "name": "stderr",
     "output_type": "stream",
     "text": [
      "[I 2024-09-04 07:31:30,502] Trial 6 finished with value: 1.329083800315857 and parameters: {'learning_rate': 3.4565605577192e-05, 'batch_size': 32, 'num_epochs': 2, 'max_length': 200}. Best is trial 0 with value: 1.3898561000823975.\n",
      "All PyTorch model weights were used when initializing TFAlbertForSequenceClassification.\n",
      "\n",
      "Some weights or buffers of the TF 2.0 model TFAlbertForSequenceClassification were not initialized from the PyTorch model and are newly initialized: ['classifier.weight', 'classifier.bias']\n",
      "You should probably TRAIN this model on a down-stream task to be able to use it for predictions and inference.\n"
     ]
    },
    {
     "name": "stdout",
     "output_type": "stream",
     "text": [
      "Epoch 1/4\n",
      "80/80 [==============================] - 179s 2s/step - loss: 1.3693 - sparse_categorical_accuracy: 0.3000 - val_loss: 1.2334 - val_sparse_categorical_accuracy: 0.4187\n",
      "Epoch 2/4\n",
      "80/80 [==============================] - 160s 2s/step - loss: 1.1248 - sparse_categorical_accuracy: 0.5437 - val_loss: 1.1736 - val_sparse_categorical_accuracy: 0.4250\n",
      "Epoch 3/4\n",
      "80/80 [==============================] - 160s 2s/step - loss: 0.8434 - sparse_categorical_accuracy: 0.6859 - val_loss: 0.8635 - val_sparse_categorical_accuracy: 0.6687\n",
      "Epoch 4/4\n",
      "80/80 [==============================] - 161s 2s/step - loss: 0.6887 - sparse_categorical_accuracy: 0.7422 - val_loss: 0.7811 - val_sparse_categorical_accuracy: 0.7000\n",
      "20/20 [==============================] - 12s 617ms/step - loss: 0.7811 - sparse_categorical_accuracy: 0.7000\n"
     ]
    },
    {
     "name": "stderr",
     "output_type": "stream",
     "text": [
      "[I 2024-09-04 07:42:45,193] Trial 7 finished with value: 0.7810708284378052 and parameters: {'learning_rate': 1.9310906742159628e-05, 'batch_size': 8, 'num_epochs': 4, 'max_length': 146}. Best is trial 0 with value: 1.3898561000823975.\n",
      "All PyTorch model weights were used when initializing TFAlbertForSequenceClassification.\n",
      "\n",
      "Some weights or buffers of the TF 2.0 model TFAlbertForSequenceClassification were not initialized from the PyTorch model and are newly initialized: ['classifier.weight', 'classifier.bias']\n",
      "You should probably TRAIN this model on a down-stream task to be able to use it for predictions and inference.\n"
     ]
    },
    {
     "name": "stdout",
     "output_type": "stream",
     "text": [
      "Epoch 1/2\n",
      "40/40 [==============================] - 267s 6s/step - loss: 1.4023 - sparse_categorical_accuracy: 0.2562 - val_loss: 1.4077 - val_sparse_categorical_accuracy: 0.2375\n",
      "Epoch 2/2\n",
      "40/40 [==============================] - 247s 6s/step - loss: 1.4047 - sparse_categorical_accuracy: 0.2500 - val_loss: 1.3859 - val_sparse_categorical_accuracy: 0.2313\n",
      "10/10 [==============================] - 20s 2s/step - loss: 1.3859 - sparse_categorical_accuracy: 0.2313\n"
     ]
    },
    {
     "name": "stderr",
     "output_type": "stream",
     "text": [
      "[I 2024-09-04 07:51:41,225] Trial 8 finished with value: 1.385923981666565 and parameters: {'learning_rate': 3.4561002926290344e-05, 'batch_size': 16, 'num_epochs': 2, 'max_length': 217}. Best is trial 0 with value: 1.3898561000823975.\n",
      "All PyTorch model weights were used when initializing TFAlbertForSequenceClassification.\n",
      "\n",
      "Some weights or buffers of the TF 2.0 model TFAlbertForSequenceClassification were not initialized from the PyTorch model and are newly initialized: ['classifier.weight', 'classifier.bias']\n",
      "You should probably TRAIN this model on a down-stream task to be able to use it for predictions and inference.\n"
     ]
    },
    {
     "name": "stdout",
     "output_type": "stream",
     "text": [
      "Epoch 1/2\n",
      "80/80 [==============================] - 218s 3s/step - loss: 1.4256 - sparse_categorical_accuracy: 0.2266 - val_loss: 1.4100 - val_sparse_categorical_accuracy: 0.2125\n",
      "Epoch 2/2\n",
      "80/80 [==============================] - 201s 3s/step - loss: 1.4083 - sparse_categorical_accuracy: 0.2609 - val_loss: 1.4072 - val_sparse_categorical_accuracy: 0.2750\n",
      "20/20 [==============================] - 16s 777ms/step - loss: 1.4072 - sparse_categorical_accuracy: 0.2750\n"
     ]
    },
    {
     "name": "stderr",
     "output_type": "stream",
     "text": [
      "[I 2024-09-04 07:58:57,265] Trial 9 finished with value: 1.4072058200836182 and parameters: {'learning_rate': 2.4849516877809842e-05, 'batch_size': 8, 'num_epochs': 2, 'max_length': 181}. Best is trial 9 with value: 1.4072058200836182.\n"
     ]
    },
    {
     "name": "stdout",
     "output_type": "stream",
     "text": [
      "Best hyperparameters found:  {'learning_rate': 2.4849516877809842e-05, 'batch_size': 8, 'num_epochs': 2, 'max_length': 181}\n"
     ]
    }
   ],
   "source": [
    "import optuna\n",
    "import tensorflow as tf\n",
    "from transformers import AlbertTokenizer, TFAlbertForSequenceClassification\n",
    "from sklearn.model_selection import train_test_split\n",
    "from sklearn.preprocessing import LabelEncoder\n",
    "\n",
    "# Assuming `dataset_clean` has 'selftext' and 'Label'\n",
    "texts = dataset_clean['selftext'].tolist()\n",
    "labels = dataset_clean['Label'].tolist()\n",
    "\n",
    "# Convert labels to numeric values\n",
    "label_encoder = LabelEncoder()\n",
    "labels = label_encoder.fit_transform(labels)\n",
    "\n",
    "# Split the data into training and validation sets\n",
    "train_texts, val_texts, train_labels, val_labels = train_test_split(texts, labels, test_size=0.2, random_state=42)\n",
    "\n",
    "def objective(trial):\n",
    "    # Define the hyperparameters to tune\n",
    "    learning_rate = trial.suggest_float('learning_rate', 1e-5, 5e-5, log=True)\n",
    "    batch_size = trial.suggest_categorical('batch_size', [8, 16, 32])\n",
    "    num_epochs = trial.suggest_int('num_epochs', 2, 4)\n",
    "    max_length = trial.suggest_int('max_length', 128, 256)\n",
    "\n",
    "    # Load the tokenizer and model\n",
    "    tokenizer = AlbertTokenizer.from_pretrained('albert-base-v2')\n",
    "    model = TFAlbertForSequenceClassification.from_pretrained('albert-base-v2', num_labels=len(label_map))\n",
    "\n",
    "    # Tokenize the data\n",
    "    train_encodings = tokenizer(train_texts, truncation=True, padding=True, max_length=max_length)\n",
    "    val_encodings = tokenizer(val_texts, truncation=True, padding=True, max_length=max_length)\n",
    "\n",
    "    # Convert to TensorFlow datasets\n",
    "    train_dataset = tf.data.Dataset.from_tensor_slices((\n",
    "        dict(train_encodings),\n",
    "        train_labels\n",
    "    )).shuffle(len(train_texts)).batch(batch_size)\n",
    "\n",
    "    val_dataset = tf.data.Dataset.from_tensor_slices((\n",
    "        dict(val_encodings),\n",
    "        val_labels\n",
    "    )).batch(batch_size)\n",
    "\n",
    "    # Compile the model\n",
    "    model.compile(\n",
    "        optimizer=tf.keras.optimizers.Adam(learning_rate=learning_rate),\n",
    "        loss=tf.keras.losses.SparseCategoricalCrossentropy(from_logits=True),\n",
    "        metrics=[tf.keras.metrics.SparseCategoricalAccuracy()],\n",
    "    )\n",
    "\n",
    "    # Train the model\n",
    "    model.fit(train_dataset, validation_data=val_dataset, epochs=num_epochs)\n",
    "\n",
    "    # Evaluate the model\n",
    "    eval_loss, eval_accuracy = model.evaluate(val_dataset)\n",
    "\n",
    "    # We want to minimize the loss\n",
    "    return eval_loss  # or return -eval_accuracy if you want to maximize accuracy\n",
    "\n",
    "# Run the hyperparameter tuning\n",
    "study = optuna.create_study(direction='maximize')\n",
    "study.optimize(objective, n_trials=10)\n",
    "\n",
    "# Print the best hyperparameters\n",
    "print(\"Best hyperparameters found: \", study.best_params)\n"
   ]
  },
  {
   "cell_type": "code",
   "execution_count": 22,
   "id": "006d1d2a-c91c-40a6-bfb1-d70f7415176d",
   "metadata": {},
   "outputs": [
    {
     "name": "stderr",
     "output_type": "stream",
     "text": [
      "All PyTorch model weights were used when initializing TFAlbertForSequenceClassification.\n",
      "\n",
      "Some weights or buffers of the TF 2.0 model TFAlbertForSequenceClassification were not initialized from the PyTorch model and are newly initialized: ['classifier.weight', 'classifier.bias']\n",
      "You should probably TRAIN this model on a down-stream task to be able to use it for predictions and inference.\n"
     ]
    }
   ],
   "source": [
    "import tensorflow as tf\n",
    "from transformers import AlbertTokenizer, TFAlbertForSequenceClassification\n",
    "\n",
    "# Extract best hyperparameters\n",
    "learning_rate = best_params['learning_rate']\n",
    "batch_size = best_params['batch_size']\n",
    "num_epochs = best_params['num_epochs']\n",
    "max_length = best_params['max_length']\n",
    "\n",
    "# Load the tokenizer and model with best parameters\n",
    "tokenizer = AlbertTokenizer.from_pretrained('albert-base-v2')\n",
    "model = TFAlbertForSequenceClassification.from_pretrained('albert-base-v2', num_labels=len(label_map))\n",
    "\n",
    "# Tokenize the full training data (train + validation)\n",
    "train_encodings = tokenizer(train_texts, truncation=True, padding=True, max_length=max_length)\n",
    "val_encodings = tokenizer(val_texts, truncation=True, padding=True, max_length=max_length)\n",
    "\n",
    "# Convert to TensorFlow datasets\n",
    "train_dataset = tf.data.Dataset.from_tensor_slices((\n",
    "    dict(train_encodings),\n",
    "    train_labels\n",
    ")).shuffle(len(train_texts)).batch(batch_size)\n",
    "\n",
    "val_dataset = tf.data.Dataset.from_tensor_slices((\n",
    "    dict(val_encodings),\n",
    "    val_labels\n",
    ")).batch(batch_size)\n"
   ]
  },
  {
   "cell_type": "code",
   "execution_count": 23,
   "id": "0ba37074-6bc8-4a5b-8a93-b7dd6c05b665",
   "metadata": {},
   "outputs": [
    {
     "name": "stdout",
     "output_type": "stream",
     "text": [
      "Epoch 1/3\n",
      "80/80 [==============================] - 221s 3s/step - loss: 1.3784 - sparse_categorical_accuracy: 0.2672 - val_loss: 1.3208 - val_sparse_categorical_accuracy: 0.4375\n",
      "Epoch 2/3\n",
      "80/80 [==============================] - 199s 2s/step - loss: 1.1475 - sparse_categorical_accuracy: 0.5422 - val_loss: 1.0958 - val_sparse_categorical_accuracy: 0.5188\n",
      "Epoch 3/3\n",
      "80/80 [==============================] - 198s 2s/step - loss: 0.8103 - sparse_categorical_accuracy: 0.7312 - val_loss: 0.8057 - val_sparse_categorical_accuracy: 0.6687\n"
     ]
    },
    {
     "data": {
      "text/plain": [
       "('best_albert_tokenizer/tokenizer_config.json',\n",
       " 'best_albert_tokenizer/special_tokens_map.json',\n",
       " 'best_albert_tokenizer/spiece.model',\n",
       " 'best_albert_tokenizer/added_tokens.json')"
      ]
     },
     "execution_count": 23,
     "metadata": {},
     "output_type": "execute_result"
    }
   ],
   "source": [
    "# Compile the model with the best learning rate\n",
    "model.compile(\n",
    "    optimizer=tf.keras.optimizers.Adam(learning_rate=learning_rate),\n",
    "    loss=tf.keras.losses.SparseCategoricalCrossentropy(from_logits=True),\n",
    "    metrics=[tf.keras.metrics.SparseCategoricalAccuracy()],\n",
    ")\n",
    "\n",
    "# Train the model using the best number of epochs\n",
    "model.fit(train_dataset, validation_data=val_dataset, epochs=num_epochs)\n",
    "\n",
    "# Save the trained model and tokenizer\n",
    "model.save_pretrained('best_albert_model')\n",
    "tokenizer.save_pretrained('best_albert_tokenizer')\n"
   ]
  },
  {
   "cell_type": "code",
   "execution_count": 24,
   "id": "e5df13e0-ff43-494b-ac6a-b90a2bf78590",
   "metadata": {},
   "outputs": [
    {
     "name": "stdout",
     "output_type": "stream",
     "text": [
      "20/20 [==============================] - 16s 780ms/step - loss: 0.8057 - sparse_categorical_accuracy: 0.6687\n",
      "Val Loss: 0.8056706190109253\n",
      "Val Accuracy: 0.668749988079071\n"
     ]
    }
   ],
   "source": [
    "val_encodings = tokenizer(val_texts, truncation=True, padding=True, max_length=max_length)\n",
    "val_dataset = tf.data.Dataset.from_tensor_slices((\n",
    "    dict(val_encodings),\n",
    "    val_labels\n",
    ")).batch(batch_size)\n",
    "\n",
    "# Evaluate the model on the val set\n",
    "eval_loss, eval_accuracy = model.evaluate(val_dataset)\n",
    "print(f\"Val Loss: {eval_loss}\")\n",
    "print(f\"Val Accuracy: {eval_accuracy}\")\n"
   ]
  },
  {
   "cell_type": "code",
   "execution_count": 25,
   "id": "69031eef-7c39-49fe-a4b8-0cad364fca56",
   "metadata": {},
   "outputs": [
    {
     "name": "stdout",
     "output_type": "stream",
     "text": [
      "20/20 [==============================] - 20s 736ms/step\n",
      "Accuracy: 0.6687\n",
      "Classification Report:\n",
      "                   precision    recall  f1-score   support\n",
      "\n",
      " drug and alcohol       0.80      0.86      0.83        37\n",
      "       early life       0.80      0.86      0.83        43\n",
      "      personality       0.57      0.34      0.43        35\n",
      "trauma and stress       0.49      0.58      0.53        45\n",
      "\n",
      "         accuracy                           0.67       160\n",
      "        macro avg       0.67      0.66      0.66       160\n",
      "     weighted avg       0.66      0.67      0.66       160\n",
      "\n"
     ]
    },
    {
     "data": {
      "image/png": "[encoded data removed]",
      "text/plain": [
       "<Figure size 576x432 with 2 Axes>"
      ]
     },
     "metadata": {
      "needs_background": "light"
     },
     "output_type": "display_data"
    }
   ],
   "source": [
    "import numpy as np\n",
    "from sklearn.metrics import classification_report, confusion_matrix, accuracy_score, precision_score, recall_score, f1_score\n",
    "import seaborn as sns\n",
    "import matplotlib.pyplot as plt\n",
    "\n",
    "# Tokenize the validation data using the best max_length\n",
    "val_encodings = tokenizer(val_texts, truncation=True, padding=True, max_length=best_params['max_length'])\n",
    "\n",
    "# Convert to TensorFlow dataset\n",
    "val_dataset = tf.data.Dataset.from_tensor_slices((\n",
    "    dict(val_encodings),\n",
    "    val_labels\n",
    ")).batch(best_params['batch_size'])\n",
    "\n",
    "# Get predictions on the validation set\n",
    "predictions = model.predict(val_dataset)\n",
    "predicted_labels = np.argmax(predictions.logits, axis=1)  \n",
    "\n",
    "# True labels (validation set labels)\n",
    "true_labels = val_labels\n",
    "\n",
    "# Compute Accuracy, Precision, Recall, and F1-Score\n",
    "accuracy = accuracy_score(true_labels, predicted_labels)\n",
    "precision = precision_score(true_labels, predicted_labels, average='weighted')\n",
    "recall = recall_score(true_labels, predicted_labels, average='weighted')\n",
    "f1 = f1_score(true_labels, predicted_labels, average='weighted')\n",
    "\n",
    "# Print the metrics\n",
    "print(f\"Accuracy: {accuracy:.4f}\")\n",
    "print(f\"Precision: {precision:.4f}\")\n",
    "print(f\"Recall: {recall:.4f}\")\n",
    "print(f\"F1-Score: {f1:.4f}\")\n",
    "\n",
    "# Classification Report\n",
    "report = classification_report(true_labels, predicted_labels, target_names=label_map.keys())\n",
    "print(\"\\nClassification Report:\")\n",
    "print(report)\n",
    "\n",
    "# Confusion Matrix\n",
    "conf_matrix = confusion_matrix(true_labels, predicted_labels)\n",
    "\n",
    "# Plot Confusion Matrix\n",
    "plt.figure(figsize=(8, 6))\n",
    "sns.heatmap(conf_matrix, annot=True, fmt='d', cmap='Blues', xticklabels=label_map.keys(), yticklabels=label_map.keys())\n",
    "plt.xlabel('Predicted Labels')\n",
    "plt.ylabel('True Labels')\n",
    "plt.title('Confusion Matrix')\n",
    "plt.show()\n"
   ]
  },
  {
   "cell_type": "code",
   "execution_count": null,
   "id": "dad6898f-c529-44c0-9f61-1567bfcad5a9",
   "metadata": {},
   "outputs": [],
   "source": []
  }
 ],
 "metadata": {
  "kernelspec": {
   "display_name": "Python 3 (ipykernel)",
   "language": "python",
   "name": "python3"
  },
  "language_info": {
   "codemirror_mode": {
    "name": "ipython",
    "version": 3
   },
   "file_extension": ".py",
   "mimetype": "text/x-python",
   "name": "python",
   "nbconvert_exporter": "python",
   "pygments_lexer": "ipython3",
   "version": "3.10.12"
  }
 },
 "nbformat": 4,
 "nbformat_minor": 5
}
