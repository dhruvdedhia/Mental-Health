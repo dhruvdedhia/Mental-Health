{
 "cells": [
  {
   "cell_type": "code",
   "execution_count": 1,
   "id": "e6a686a9-7bc4-4964-a531-f54fcf7dc771",
   "metadata": {},
   "outputs": [
    {
     "name": "stderr",
     "output_type": "stream",
     "text": [
      "2024-09-08 05:33:20.432441: I tensorflow/core/platform/cpu_feature_guard.cc:210] This TensorFlow binary is optimized to use available CPU instructions in performance-critical operations.\n",
      "To enable the following instructions: AVX2 FMA, in other operations, rebuild TensorFlow with the appropriate compiler flags.\n",
      "2024-09-08 05:33:57.471808: W tensorflow/compiler/tf2tensorrt/utils/py_utils.cc:38] TF-TRT Warning: Could not find TensorRT\n"
     ]
    }
   ],
   "source": [
    "import pandas as pd\n",
    "from transformers import RobertaTokenizer, RobertaForSequenceClassification, Trainer, TrainingArguments, DataCollatorWithPadding\n",
    "from sklearn.metrics import accuracy_score\n",
    "from datasets import Dataset\n",
    "import numpy as np\n",
    "import os"
   ]
  },
  {
   "cell_type": "code",
   "execution_count": 2,
   "id": "8c695bfe-703a-4231-bfe8-2839376bf849",
   "metadata": {},
   "outputs": [
    {
     "name": "stdout",
     "output_type": "stream",
     "text": [
      "   score                                           selftext subreddit  \\\n",
      "0    1.0  Tried to watch this documentary “anxious Ameri...   Anxiety   \n",
      "1    1.0  i’m currently laying in bed wide awake, feelin...   Anxiety   \n",
      "2    2.0  Second time trying weed. First time felt close...   Anxiety   \n",
      "3    1.0  I am not posting this for me, but rather for m...   Anxiety   \n",
      "4    1.0  21 year old male been dealing with anxiety eve...   Anxiety   \n",
      "\n",
      "                                               title             Label CAT 1  \n",
      "0                        Do people get over anxiety?  Drug and Alcohol   NaN  \n",
      "1  does anyone else have this big fear of suddenl...  Drug and Alcohol   NaN  \n",
      "2         3 hour long panic attack after trying weed  Drug and Alcohol   NaN  \n",
      "3  Please leave in the comments ANYTHING that has...  Drug and Alcohol   NaN  \n",
      "4                                    Alcohol induced  Drug and Alcohol   NaN  \n"
     ]
    }
   ],
   "source": [
    "# Load the dataset\n",
    "file_path = '/user/HS400/dd00830/Downloads/Dissertation/Dataset.csv' \n",
    "dataset = pd.read_csv(file_path)\n",
    "\n",
    "# Display the first few rows to inspect the dataset\n",
    "print(dataset.head())\n"
   ]
  },
  {
   "cell_type": "code",
   "execution_count": 3,
   "id": "e8b89611-a6fe-48d2-8ca4-6ddcb69c9a53",
   "metadata": {},
   "outputs": [
    {
     "name": "stdout",
     "output_type": "stream",
     "text": [
      "   score                                           selftext subreddit  \\\n",
      "0    1.0  Tried to watch this documentary “anxious Ameri...   Anxiety   \n",
      "1    1.0  i’m currently laying in bed wide awake, feelin...   Anxiety   \n",
      "2    2.0  Second time trying weed. First time felt close...   Anxiety   \n",
      "3    1.0  I am not posting this for me, but rather for m...   Anxiety   \n",
      "4    1.0  21 year old male been dealing with anxiety eve...   Anxiety   \n",
      "\n",
      "                                               title             Label CAT 1  \n",
      "0                        Do people get over anxiety?  Drug and Alcohol   NaN  \n",
      "1  does anyone else have this big fear of suddenl...  Drug and Alcohol   NaN  \n",
      "2         3 hour long panic attack after trying weed  Drug and Alcohol   NaN  \n",
      "3  Please leave in the comments ANYTHING that has...  Drug and Alcohol   NaN  \n",
      "4                                    Alcohol induced  Drug and Alcohol   NaN  \n"
     ]
    }
   ],
   "source": [
    "# Drop rows with missing values in 'selftext' and 'Label' columns\n",
    "dataset_clean = dataset.dropna(subset=['selftext', 'Label'])\n",
    "\n",
    "# Display the cleaned dataset\n",
    "print(dataset_clean.head())\n"
   ]
  },
  {
   "cell_type": "code",
   "execution_count": 4,
   "id": "6688cb23-d15a-4a38-b9eb-f1f076fe7c3a",
   "metadata": {},
   "outputs": [
    {
     "name": "stdout",
     "output_type": "stream",
     "text": [
      "                                            selftext             Label\n",
      "0  tried to watch this documentary anxious americ...  Drug and Alcohol\n",
      "1  im currently laying in bed wide awake feeling ...  Drug and Alcohol\n",
      "2  second time trying weed first time felt close ...  Drug and Alcohol\n",
      "3  i am not posting this for me but rather for my...  Drug and Alcohol\n",
      "4  21 year old male been dealing with anxiety eve...  Drug and Alcohol\n"
     ]
    },
    {
     "name": "stderr",
     "output_type": "stream",
     "text": [
      "/tmp/ipykernel_852032/2435479343.py:9: SettingWithCopyWarning: \n",
      "A value is trying to be set on a copy of a slice from a DataFrame.\n",
      "Try using .loc[row_indexer,col_indexer] = value instead\n",
      "\n",
      "See the caveats in the documentation: https://pandas.pydata.org/pandas-docs/stable/user_guide/indexing.html#returning-a-view-versus-a-copy\n",
      "  dataset_clean['selftext'] = dataset_clean['selftext'].apply(preprocess_text)\n"
     ]
    }
   ],
   "source": [
    "# Text preprocessing function\n",
    "def preprocess_text(text):\n",
    "    text = text.lower()  # Lowercasing\n",
    "    text = text.replace('\\n', ' ')  # Replace newlines with spaces\n",
    "    text = ''.join([c for c in text if c.isalnum() or c.isspace()])  # Remove special characters\n",
    "    return text\n",
    "\n",
    "# Apply text preprocessing to 'selftext'\n",
    "dataset_clean['selftext'] = dataset_clean['selftext'].apply(preprocess_text)\n",
    "\n",
    "# Display the preprocessed text\n",
    "print(dataset_clean[['selftext', 'Label']].head())\n"
   ]
  },
  {
   "cell_type": "code",
   "execution_count": 5,
   "id": "11fa66bc-8675-48dc-af4b-30f626694aad",
   "metadata": {},
   "outputs": [
    {
     "name": "stdout",
     "output_type": "stream",
     "text": [
      "Label mapping: {'drug and alcohol': 0, 'early life': 1, 'personality': 2, 'trauma and stress': 3}\n"
     ]
    },
    {
     "name": "stderr",
     "output_type": "stream",
     "text": [
      "/tmp/ipykernel_852032/3008239461.py:2: SettingWithCopyWarning: \n",
      "A value is trying to be set on a copy of a slice from a DataFrame.\n",
      "Try using .loc[row_indexer,col_indexer] = value instead\n",
      "\n",
      "See the caveats in the documentation: https://pandas.pydata.org/pandas-docs/stable/user_guide/indexing.html#returning-a-view-versus-a-copy\n",
      "  dataset_clean['Label'] = dataset_clean['Label'].str.lower().str.strip()\n"
     ]
    }
   ],
   "source": [
    "# Normalize labels to lowercase\n",
    "dataset_clean['Label'] = dataset_clean['Label'].str.lower().str.strip()\n",
    "\n",
    "# Map labels to integers after normalization\n",
    "label_map = {label: idx for idx, label in enumerate(dataset_clean['Label'].unique())}\n",
    "\n",
    "# Display the label mapping\n",
    "print(\"Label mapping:\", label_map)\n"
   ]
  },
  {
   "cell_type": "code",
   "execution_count": 6,
   "id": "dbe32aab-83bb-41ec-a9da-d4478601d41d",
   "metadata": {},
   "outputs": [
    {
     "name": "stderr",
     "output_type": "stream",
     "text": [
      "/user/HS400/dd00830/.local/lib/python3.10/site-packages/huggingface_hub/file_download.py:1150: FutureWarning: `resume_download` is deprecated and will be removed in version 1.0.0. Downloads always resume when possible. If you want to force a new download, use `force_download=True`.\n",
      "  warnings.warn(\n"
     ]
    }
   ],
   "source": [
    "# Initialize RoBERTa tokenizer\n",
    "tokenizer = RobertaTokenizer.from_pretrained('roberta-base')\n",
    "\n",
    "# Tokenize the 'selftext' data\n",
    "tokenized_inputs = dataset_clean['selftext'].apply(\n",
    "    lambda x: tokenizer(x, truncation=True, padding='max_length', max_length=128)\n",
    ")\n"
   ]
  },
  {
   "cell_type": "code",
   "execution_count": 7,
   "id": "7e2aca86-eb57-492c-979b-6d5f320bc946",
   "metadata": {},
   "outputs": [],
   "source": [
    "# Convert to a Hugging Face Dataset\n",
    "dataset = Dataset.from_pandas(pd.DataFrame({\n",
    "    'input_ids': [x['input_ids'] for x in tokenized_inputs],\n",
    "    'attention_mask': [x['attention_mask'] for x in tokenized_inputs],\n",
    "    'labels': dataset_clean['Label'].map(label_map).tolist()\n",
    "}))\n",
    "\n",
    "# Split the dataset into training and testing sets\n",
    "train_test_split = dataset.train_test_split(test_size=0.2)\n",
    "train_dataset = train_test_split['train']\n",
    "test_dataset = train_test_split['test']\n"
   ]
  },
  {
   "cell_type": "code",
   "execution_count": 8,
   "id": "02bb4002-0777-4eaf-84ae-03737caef1d2",
   "metadata": {},
   "outputs": [],
   "source": [
    "# Disable tqdm progress bars\n",
    "os.environ[\"DISABLE_TQDM\"] = \"True\"\n"
   ]
  },
  {
   "cell_type": "code",
   "execution_count": 9,
   "id": "698e34ad-07d4-4377-977e-e744d2c49d28",
   "metadata": {},
   "outputs": [
    {
     "name": "stderr",
     "output_type": "stream",
     "text": [
      "Some weights of RobertaForSequenceClassification were not initialized from the model checkpoint at roberta-base and are newly initialized: ['classifier.dense.bias', 'classifier.dense.weight', 'classifier.out_proj.bias', 'classifier.out_proj.weight']\n",
      "You should probably TRAIN this model on a down-stream task to be able to use it for predictions and inference.\n"
     ]
    }
   ],
   "source": [
    "# Initialize the data collator with padding\n",
    "data_collator = DataCollatorWithPadding(tokenizer)\n",
    "\n",
    "# Set up training arguments with logging and evaluation strategy\n",
    "training_args = TrainingArguments(\n",
    "    output_dir='./results',\n",
    "    evaluation_strategy=\"epoch\",  # Evaluate at the end of each epoch\n",
    "    save_strategy=\"no\",        # Save the model at the end of each epoch\n",
    "    logging_strategy=\"epoch\",     # Log training metrics at the end of each epoch\n",
    "    learning_rate=2e-5,\n",
    "    per_device_train_batch_size=8,  # Adjust as needed\n",
    "    per_device_eval_batch_size=8,    # Adjust as needed\n",
    "    num_train_epochs=10,\n",
    "    weight_decay=0.01,\n",
    "    load_best_model_at_end=False,  # Save the best model during training\n",
    "    metric_for_best_model=\"accuracy\",  # Use accuracy to determine the best model\n",
    "    fp16=True,  # Enable mixed precision training for memory efficiency\n",
    ")\n",
    "\n",
    "# Initialize the RoBERTa model\n",
    "model = RobertaForSequenceClassification.from_pretrained('roberta-base', num_labels=len(label_map))\n"
   ]
  },
  {
   "cell_type": "code",
   "execution_count": 10,
   "id": "6d273051-087f-4253-bac3-85fa482e1858",
   "metadata": {},
   "outputs": [],
   "source": [
    "# Define the compute_metrics function to include accuracy\n",
    "def compute_metrics(pred):\n",
    "    labels = pred.label_ids\n",
    "    preds = np.argmax(pred.predictions, axis=1)\n",
    "    acc = accuracy_score(labels, preds)\n",
    "    return {'accuracy': acc}\n"
   ]
  },
  {
   "cell_type": "code",
   "execution_count": 11,
   "id": "f1543fa0-7e30-4314-a5f2-aff928f0f565",
   "metadata": {},
   "outputs": [],
   "source": [
    "# Initialize the Trainer\n",
    "trainer = Trainer(\n",
    "    model=model,\n",
    "    args=training_args,\n",
    "    train_dataset=train_dataset,\n",
    "    eval_dataset=test_dataset,\n",
    "    data_collator=data_collator,\n",
    "    compute_metrics=compute_metrics\n",
    ")\n"
   ]
  },
  {
   "cell_type": "code",
   "execution_count": 12,
   "id": "d4471c01-18f7-4370-bbc3-7224a7f58089",
   "metadata": {},
   "outputs": [
    {
     "data": {
      "text/html": [
       "\n",
       "    <div>\n",
       "      \n",
       "      <progress value='800' max='800' style='width:300px; height:20px; vertical-align: middle;'></progress>\n",
       "      [800/800 04:40, Epoch 10/10]\n",
       "    </div>\n",
       "    <table border=\"1\" class=\"dataframe\">\n",
       "  <thead>\n",
       " <tr style=\"text-align: left;\">\n",
       "      <th>Epoch</th>\n",
       "      <th>Training Loss</th>\n",
       "      <th>Validation Loss</th>\n",
       "      <th>Accuracy</th>\n",
       "    </tr>\n",
       "  </thead>\n",
       "  <tbody>\n",
       "    <tr>\n",
       "      <td>1</td>\n",
       "      <td>1.212600</td>\n",
       "      <td>0.831615</td>\n",
       "      <td>0.568750</td>\n",
       "    </tr>\n",
       "    <tr>\n",
       "      <td>2</td>\n",
       "      <td>0.682400</td>\n",
       "      <td>0.722288</td>\n",
       "      <td>0.718750</td>\n",
       "    </tr>\n",
       "    <tr>\n",
       "      <td>3</td>\n",
       "      <td>0.503200</td>\n",
       "      <td>0.694237</td>\n",
       "      <td>0.750000</td>\n",
       "    </tr>\n",
       "    <tr>\n",
       "      <td>4</td>\n",
       "      <td>0.332400</td>\n",
       "      <td>0.757944</td>\n",
       "      <td>0.781250</td>\n",
       "    </tr>\n",
       "    <tr>\n",
       "      <td>5</td>\n",
       "      <td>0.177800</td>\n",
       "      <td>1.187632</td>\n",
       "      <td>0.731250</td>\n",
       "    </tr>\n",
       "    <tr>\n",
       "      <td>6</td>\n",
       "      <td>0.133500</td>\n",
       "      <td>1.264610</td>\n",
       "      <td>0.756250</td>\n",
       "    </tr>\n",
       "    <tr>\n",
       "      <td>7</td>\n",
       "      <td>0.061400</td>\n",
       "      <td>1.309558</td>\n",
       "      <td>0.762500</td>\n",
       "    </tr>\n",
       "    <tr>\n",
       "      <td>8</td>\n",
       "      <td>0.044600</td>\n",
       "      <td>1.546968</td>\n",
       "      <td>0.750000</td>\n",
       "    </tr>\n",
       "    <tr>\n",
       "      <td>9</td>\n",
       "      <td>0.028800</td>\n",
       "      <td>1.449072</td>\n",
       "      <td>0.743750</td>\n",
       "    </tr>\n",
       "    <tr>\n",
       "      <td>10</td>\n",
       "      <td>0.025200</td>\n",
       "      <td>1.486415</td>\n",
       "      <td>0.750000</td>\n",
       "    </tr>\n",
       "  </tbody>\n",
       "</table><p>"
      ],
      "text/plain": [
       "<IPython.core.display.HTML object>"
      ]
     },
     "metadata": {},
     "output_type": "display_data"
    },
    {
     "data": {
      "text/plain": [
       "TrainOutput(global_step=800, training_loss=0.3201902136206627, metrics={'train_runtime': 282.0001, 'train_samples_per_second': 22.695, 'train_steps_per_second': 2.837, 'total_flos': 420985248153600.0, 'train_loss': 0.3201902136206627, 'epoch': 10.0})"
      ]
     },
     "execution_count": 12,
     "metadata": {},
     "output_type": "execute_result"
    }
   ],
   "source": [
    "# Train the model\n",
    "trainer.train()\n"
   ]
  },
  {
   "cell_type": "code",
   "execution_count": 13,
   "id": "60b1b719-13fd-448d-b796-ffd628216832",
   "metadata": {},
   "outputs": [
    {
     "data": {
      "text/html": [],
      "text/plain": [
       "<IPython.core.display.HTML object>"
      ]
     },
     "metadata": {},
     "output_type": "display_data"
    }
   ],
   "source": [
    "# Make predictions on the test dataset\n",
    "predictions = trainer.predict(test_dataset)\n",
    "pred_labels = np.argmax(predictions.predictions, axis=1)\n",
    "true_labels = predictions.label_ids\n"
   ]
  },
  {
   "cell_type": "code",
   "execution_count": 14,
   "id": "cdc92808-2af0-416d-bc09-30eb5ee5b357",
   "metadata": {},
   "outputs": [
    {
     "name": "stdout",
     "output_type": "stream",
     "text": [
      "                   precision    recall  f1-score   support\n",
      "\n",
      " drug and alcohol       0.82      0.86      0.84        37\n",
      "       early life       0.75      0.84      0.79        43\n",
      "      personality       0.91      0.65      0.76        46\n",
      "trauma and stress       0.55      0.65      0.59        34\n",
      "\n",
      "         accuracy                           0.75       160\n",
      "        macro avg       0.76      0.75      0.75       160\n",
      "     weighted avg       0.77      0.75      0.75       160\n",
      "\n"
     ]
    }
   ],
   "source": [
    "from sklearn.metrics import classification_report\n",
    "\n",
    "# Generate classification report\n",
    "report = classification_report(true_labels, pred_labels, target_names=list(label_map.keys()))\n",
    "\n",
    "# Print the classification report\n",
    "print(report)\n"
   ]
  },
  {
   "cell_type": "code",
   "execution_count": 15,
   "id": "b86cda7a-009f-4b08-8954-20e23e5247be",
   "metadata": {},
   "outputs": [
    {
     "data": {
      "image/png": "[encoded data removed]",
      "text/plain": [
       "<Figure size 432x288 with 2 Axes>"
      ]
     },
     "metadata": {
      "needs_background": "light"
     },
     "output_type": "display_data"
    }
   ],
   "source": [
    "import matplotlib.pyplot as plt\n",
    "from sklearn.metrics import confusion_matrix, ConfusionMatrixDisplay\n",
    "\n",
    "# Compute the confusion matrix\n",
    "cm = confusion_matrix(true_labels, pred_labels)\n",
    "\n",
    "# Plot the confusion matrix\n",
    "disp = ConfusionMatrixDisplay(confusion_matrix=cm, display_labels=list(label_map.keys()))\n",
    "disp.plot(cmap=plt.cm.Blues)\n",
    "plt.xticks(rotation=45)  # Rotate the x-axis labels for better readability\n",
    "plt.show()\n"
   ]
  },
  {
   "cell_type": "code",
   "execution_count": 19,
   "id": "c8ddb06f-50e2-40fa-bc16-c712ac93fbcb",
   "metadata": {},
   "outputs": [
    {
     "data": {
      "image/png": "[encoded data removed]",
      "text/plain": [
       "<Figure size 720x432 with 2 Axes>"
      ]
     },
     "metadata": {
      "needs_background": "light"
     },
     "output_type": "display_data"
    }
   ],
   "source": [
    "import matplotlib.pyplot as plt\n",
    "\n",
    "# Initialize lists to hold the metrics\n",
    "train_loss = []\n",
    "eval_loss = []\n",
    "train_accuracy = []\n",
    "eval_accuracy = []\n",
    "\n",
    "# Extract metrics from the trainer's log history\n",
    "for log in trainer.state.log_history:\n",
    "    if 'loss' in log and 'epoch' in log:\n",
    "        train_loss.append(log['loss'])\n",
    "    if 'eval_loss' in log:\n",
    "        eval_loss.append(log['eval_loss'])\n",
    "    if 'accuracy' in log and 'epoch' in log:\n",
    "        train_accuracy.append(log['accuracy'])\n",
    "    if 'eval_accuracy' in log:\n",
    "        eval_accuracy.append(log['eval_accuracy'])\n",
    "\n",
    "# Get the number of epochs\n",
    "epochs = range(1, len(train_loss) + 1)\n",
    "\n",
    "# Create subplots to plot metrics\n",
    "plt.figure(figsize=(10, 6))\n",
    "\n",
    "# Plot training and evaluation loss\n",
    "plt.subplot(1, 2, 1)\n",
    "plt.plot(epochs, train_loss, label='Training Loss')\n",
    "plt.plot(epochs, eval_loss, label='Validation Loss')\n",
    "plt.xlabel('Epoch')\n",
    "plt.ylabel('Loss')\n",
    "plt.title('Training vs. Validation Loss')\n",
    "plt.legend()\n",
    "\n",
    "# Plot training and evaluation accuracy\n",
    "plt.subplot(1, 2, 2)\n",
    "plt.plot(epochs, eval_accuracy, label='Validation Accuracy')\n",
    "plt.xlabel('Epoch')\n",
    "plt.ylabel('Accuracy')\n",
    "plt.title('Validation Accuracy')\n",
    "plt.legend()\n",
    "\n",
    "# Show the plots\n",
    "plt.tight_layout()\n",
    "plt.show()\n"
   ]
  },
  {
   "cell_type": "markdown",
   "id": "d5eae81f-300a-4161-b3ea-2183c81069f9",
   "metadata": {},
   "source": [
    "## HYPER PARAMETER TUNING:-"
   ]
  },
  {
   "cell_type": "code",
   "execution_count": 7,
   "id": "fa8c247a-7143-485b-b3cf-2bc8f04bd142",
   "metadata": {},
   "outputs": [
    {
     "name": "stderr",
     "output_type": "stream",
     "text": [
      "2024-09-08 04:41:53.974583: I external/local_xla/xla/stream_executor/cuda/cuda_executor.cc:998] successful NUMA node read from SysFS had negative value (-1), but there must be at least one NUMA node, so returning NUMA node zero. See more at https://github.com/torvalds/linux/blob/v6.0/Documentation/ABI/testing/sysfs-bus-pci#L344-L355\n",
      "2024-09-08 04:41:54.005532: W tensorflow/core/common_runtime/gpu/gpu_device.cc:2251] Cannot dlopen some GPU libraries. Please make sure the missing libraries mentioned above are installed properly if you would like to use GPU. Follow the guide at https://www.tensorflow.org/install/gpu for how to download and setup the required libraries for your platform.\n",
      "Skipping registering GPU devices...\n"
     ]
    }
   ],
   "source": [
    "import tensorflow as tf\n",
    "gpus = tf.config.experimental.list_physical_devices('GPU')\n",
    "if gpus:\n",
    "    try:\n",
    "        for gpu in gpus:\n",
    "            tf.config.experimental.set_memory_growth(gpu, True)\n",
    "    except RuntimeError as e:\n",
    "        print(e)\n"
   ]
  },
  {
   "cell_type": "code",
   "execution_count": 7,
   "id": "83b9eeb3-e1d7-4c4a-8004-792d68a1fcba",
   "metadata": {},
   "outputs": [
    {
     "name": "stderr",
     "output_type": "stream",
     "text": [
      "[I 2024-09-08 05:36:15,618] A new study created in memory with name: no-name-53ad43e8-7b02-4586-946e-c08d2e19b618\n",
      "/user/HS400/dd00830/.local/lib/python3.10/site-packages/huggingface_hub/file_download.py:1150: FutureWarning: `resume_download` is deprecated and will be removed in version 1.0.0. Downloads always resume when possible. If you want to force a new download, use `force_download=True`.\n",
      "  warnings.warn(\n",
      "2024-09-08 05:36:16.580460: I external/local_xla/xla/stream_executor/cuda/cuda_executor.cc:998] successful NUMA node read from SysFS had negative value (-1), but there must be at least one NUMA node, so returning NUMA node zero. See more at https://github.com/torvalds/linux/blob/v6.0/Documentation/ABI/testing/sysfs-bus-pci#L344-L355\n",
      "2024-09-08 05:36:16.736984: W tensorflow/core/common_runtime/gpu/gpu_device.cc:2251] Cannot dlopen some GPU libraries. Please make sure the missing libraries mentioned above are installed properly if you would like to use GPU. Follow the guide at https://www.tensorflow.org/install/gpu for how to download and setup the required libraries for your platform.\n",
      "Skipping registering GPU devices...\n",
      "Some weights of the PyTorch model were not used when initializing the TF 2.0 model TFRobertaForSequenceClassification: ['roberta.embeddings.position_ids']\n",
      "- This IS expected if you are initializing TFRobertaForSequenceClassification from a PyTorch model trained on another task or with another architecture (e.g. initializing a TFBertForSequenceClassification model from a BertForPreTraining model).\n",
      "- This IS NOT expected if you are initializing TFRobertaForSequenceClassification from a PyTorch model that you expect to be exactly identical (e.g. initializing a TFBertForSequenceClassification model from a BertForSequenceClassification model).\n",
      "Some weights or buffers of the TF 2.0 model TFRobertaForSequenceClassification were not initialized from the PyTorch model and are newly initialized: ['classifier.dense.weight', 'classifier.dense.bias', 'classifier.out_proj.weight', 'classifier.out_proj.bias']\n",
      "You should probably TRAIN this model on a down-stream task to be able to use it for predictions and inference.\n"
     ]
    },
    {
     "name": "stdout",
     "output_type": "stream",
     "text": [
      "Epoch 1/3\n",
      "WARNING:tensorflow:AutoGraph could not transform <function infer_framework at 0x7f5759fbfe20> and will run it as-is.\n",
      "Cause: for/else statement not yet supported\n",
      "To silence this warning, decorate the function with @tf.autograph.experimental.do_not_convert\n",
      "WARNING: AutoGraph could not transform <function infer_framework at 0x7f5759fbfe20> and will run it as-is.\n",
      "Cause: for/else statement not yet supported\n",
      "To silence this warning, decorate the function with @tf.autograph.experimental.do_not_convert\n",
      "160/160 [==============================] - 278s 1s/step - loss: 1.1937 - sparse_categorical_accuracy: 0.4250 - val_loss: 0.8848 - val_sparse_categorical_accuracy: 0.6750\n",
      "Epoch 2/3\n",
      "160/160 [==============================] - 233s 1s/step - loss: 0.7425 - sparse_categorical_accuracy: 0.7141 - val_loss: 0.8621 - val_sparse_categorical_accuracy: 0.6687\n",
      "Epoch 3/3\n",
      "160/160 [==============================] - 233s 1s/step - loss: 0.4748 - sparse_categorical_accuracy: 0.8406 - val_loss: 0.8724 - val_sparse_categorical_accuracy: 0.7000\n",
      "40/40 [==============================] - 11s 269ms/step - loss: 0.8724 - sparse_categorical_accuracy: 0.7000\n"
     ]
    },
    {
     "name": "stderr",
     "output_type": "stream",
     "text": [
      "[I 2024-09-08 05:49:24,441] Trial 0 finished with value: 0.8723586201667786 and parameters: {'learning_rate': 1.6496991171384256e-05, 'batch_size': 4, 'num_epochs': 3, 'max_length': 131}. Best is trial 0 with value: 0.8723586201667786.\n",
      "Some weights of the PyTorch model were not used when initializing the TF 2.0 model TFRobertaForSequenceClassification: ['roberta.embeddings.position_ids']\n",
      "- This IS expected if you are initializing TFRobertaForSequenceClassification from a PyTorch model trained on another task or with another architecture (e.g. initializing a TFBertForSequenceClassification model from a BertForPreTraining model).\n",
      "- This IS NOT expected if you are initializing TFRobertaForSequenceClassification from a PyTorch model that you expect to be exactly identical (e.g. initializing a TFBertForSequenceClassification model from a BertForSequenceClassification model).\n",
      "Some weights or buffers of the TF 2.0 model TFRobertaForSequenceClassification were not initialized from the PyTorch model and are newly initialized: ['classifier.dense.weight', 'classifier.dense.bias', 'classifier.out_proj.weight', 'classifier.out_proj.bias']\n",
      "You should probably TRAIN this model on a down-stream task to be able to use it for predictions and inference.\n"
     ]
    },
    {
     "name": "stdout",
     "output_type": "stream",
     "text": [
      "Epoch 1/3\n",
      "160/160 [==============================] - 268s 2s/step - loss: 1.1156 - sparse_categorical_accuracy: 0.4906 - val_loss: 0.8805 - val_sparse_categorical_accuracy: 0.6687\n",
      "Epoch 2/3\n",
      "160/160 [==============================] - 236s 1s/step - loss: 0.6324 - sparse_categorical_accuracy: 0.7750 - val_loss: 0.7326 - val_sparse_categorical_accuracy: 0.7063\n",
      "Epoch 3/3\n",
      "160/160 [==============================] - 236s 1s/step - loss: 0.4520 - sparse_categorical_accuracy: 0.8406 - val_loss: 0.7371 - val_sparse_categorical_accuracy: 0.7000\n",
      "40/40 [==============================] - 11s 276ms/step - loss: 0.7371 - sparse_categorical_accuracy: 0.7000\n"
     ]
    },
    {
     "name": "stderr",
     "output_type": "stream",
     "text": [
      "[I 2024-09-08 06:01:57,632] Trial 1 finished with value: 0.7370930314064026 and parameters: {'learning_rate': 1.0352221430890854e-05, 'batch_size': 4, 'num_epochs': 3, 'max_length': 133}. Best is trial 1 with value: 0.7370930314064026.\n",
      "Some weights of the PyTorch model were not used when initializing the TF 2.0 model TFRobertaForSequenceClassification: ['roberta.embeddings.position_ids']\n",
      "- This IS expected if you are initializing TFRobertaForSequenceClassification from a PyTorch model trained on another task or with another architecture (e.g. initializing a TFBertForSequenceClassification model from a BertForPreTraining model).\n",
      "- This IS NOT expected if you are initializing TFRobertaForSequenceClassification from a PyTorch model that you expect to be exactly identical (e.g. initializing a TFBertForSequenceClassification model from a BertForSequenceClassification model).\n",
      "Some weights or buffers of the TF 2.0 model TFRobertaForSequenceClassification were not initialized from the PyTorch model and are newly initialized: ['classifier.dense.weight', 'classifier.dense.bias', 'classifier.out_proj.weight', 'classifier.out_proj.bias']\n",
      "You should probably TRAIN this model on a down-stream task to be able to use it for predictions and inference.\n"
     ]
    },
    {
     "name": "stdout",
     "output_type": "stream",
     "text": [
      "Epoch 1/2\n",
      "160/160 [==============================] - 291s 2s/step - loss: 1.1569 - sparse_categorical_accuracy: 0.4578 - val_loss: 0.7205 - val_sparse_categorical_accuracy: 0.7563\n",
      "Epoch 2/2\n",
      "160/160 [==============================] - 259s 2s/step - loss: 0.6177 - sparse_categorical_accuracy: 0.7625 - val_loss: 0.7217 - val_sparse_categorical_accuracy: 0.7625\n",
      "40/40 [==============================] - 13s 320ms/step - loss: 0.7217 - sparse_categorical_accuracy: 0.7625\n"
     ]
    },
    {
     "name": "stderr",
     "output_type": "stream",
     "text": [
      "[I 2024-09-08 06:11:22,341] Trial 2 finished with value: 0.7216511964797974 and parameters: {'learning_rate': 1.4049512657188667e-05, 'batch_size': 4, 'num_epochs': 2, 'max_length': 154}. Best is trial 2 with value: 0.7216511964797974.\n",
      "Some weights of the PyTorch model were not used when initializing the TF 2.0 model TFRobertaForSequenceClassification: ['roberta.embeddings.position_ids']\n",
      "- This IS expected if you are initializing TFRobertaForSequenceClassification from a PyTorch model trained on another task or with another architecture (e.g. initializing a TFBertForSequenceClassification model from a BertForPreTraining model).\n",
      "- This IS NOT expected if you are initializing TFRobertaForSequenceClassification from a PyTorch model that you expect to be exactly identical (e.g. initializing a TFBertForSequenceClassification model from a BertForSequenceClassification model).\n",
      "Some weights or buffers of the TF 2.0 model TFRobertaForSequenceClassification were not initialized from the PyTorch model and are newly initialized: ['classifier.dense.weight', 'classifier.dense.bias', 'classifier.out_proj.weight', 'classifier.out_proj.bias']\n",
      "You should probably TRAIN this model on a down-stream task to be able to use it for predictions and inference.\n"
     ]
    },
    {
     "name": "stdout",
     "output_type": "stream",
     "text": [
      "Epoch 1/2\n",
      "80/80 [==============================] - 277s 3s/step - loss: 1.3429 - sparse_categorical_accuracy: 0.3375 - val_loss: 0.9116 - val_sparse_categorical_accuracy: 0.6562\n",
      "Epoch 2/2\n",
      "80/80 [==============================] - 245s 3s/step - loss: 0.6998 - sparse_categorical_accuracy: 0.7328 - val_loss: 0.7460 - val_sparse_categorical_accuracy: 0.7125\n",
      "20/20 [==============================] - 15s 757ms/step - loss: 0.7460 - sparse_categorical_accuracy: 0.7125\n"
     ]
    },
    {
     "name": "stderr",
     "output_type": "stream",
     "text": [
      "[I 2024-09-08 06:20:21,293] Trial 3 finished with value: 0.7460393309593201 and parameters: {'learning_rate': 1.5893846468672843e-05, 'batch_size': 8, 'num_epochs': 2, 'max_length': 179}. Best is trial 2 with value: 0.7216511964797974.\n",
      "Some weights of the PyTorch model were not used when initializing the TF 2.0 model TFRobertaForSequenceClassification: ['roberta.embeddings.position_ids']\n",
      "- This IS expected if you are initializing TFRobertaForSequenceClassification from a PyTorch model trained on another task or with another architecture (e.g. initializing a TFBertForSequenceClassification model from a BertForPreTraining model).\n",
      "- This IS NOT expected if you are initializing TFRobertaForSequenceClassification from a PyTorch model that you expect to be exactly identical (e.g. initializing a TFBertForSequenceClassification model from a BertForSequenceClassification model).\n",
      "Some weights or buffers of the TF 2.0 model TFRobertaForSequenceClassification were not initialized from the PyTorch model and are newly initialized: ['classifier.dense.weight', 'classifier.dense.bias', 'classifier.out_proj.weight', 'classifier.out_proj.bias']\n",
      "You should probably TRAIN this model on a down-stream task to be able to use it for predictions and inference.\n"
     ]
    },
    {
     "name": "stdout",
     "output_type": "stream",
     "text": [
      "Epoch 1/2\n",
      "80/80 [==============================] - 290s 3s/step - loss: 1.3266 - sparse_categorical_accuracy: 0.3453 - val_loss: 0.9169 - val_sparse_categorical_accuracy: 0.6500\n",
      "Epoch 2/2\n",
      "80/80 [==============================] - 256s 3s/step - loss: 0.7387 - sparse_categorical_accuracy: 0.7141 - val_loss: 0.6362 - val_sparse_categorical_accuracy: 0.7437\n",
      "20/20 [==============================] - 16s 798ms/step - loss: 0.6362 - sparse_categorical_accuracy: 0.7437\n"
     ]
    },
    {
     "name": "stderr",
     "output_type": "stream",
     "text": [
      "[I 2024-09-08 06:29:44,956] Trial 4 finished with value: 0.6362490057945251 and parameters: {'learning_rate': 1.5590236997640684e-05, 'batch_size': 8, 'num_epochs': 2, 'max_length': 189}. Best is trial 4 with value: 0.6362490057945251.\n",
      "Some weights of the PyTorch model were not used when initializing the TF 2.0 model TFRobertaForSequenceClassification: ['roberta.embeddings.position_ids']\n",
      "- This IS expected if you are initializing TFRobertaForSequenceClassification from a PyTorch model trained on another task or with another architecture (e.g. initializing a TFBertForSequenceClassification model from a BertForPreTraining model).\n",
      "- This IS NOT expected if you are initializing TFRobertaForSequenceClassification from a PyTorch model that you expect to be exactly identical (e.g. initializing a TFBertForSequenceClassification model from a BertForSequenceClassification model).\n",
      "Some weights or buffers of the TF 2.0 model TFRobertaForSequenceClassification were not initialized from the PyTorch model and are newly initialized: ['classifier.dense.weight', 'classifier.dense.bias', 'classifier.out_proj.weight', 'classifier.out_proj.bias']\n",
      "You should probably TRAIN this model on a down-stream task to be able to use it for predictions and inference.\n"
     ]
    },
    {
     "name": "stdout",
     "output_type": "stream",
     "text": [
      "Epoch 1/3\n",
      "160/160 [==============================] - 371s 2s/step - loss: 1.1460 - sparse_categorical_accuracy: 0.4594 - val_loss: 0.9562 - val_sparse_categorical_accuracy: 0.6187\n",
      "Epoch 2/3\n",
      "160/160 [==============================] - 337s 2s/step - loss: 0.6380 - sparse_categorical_accuracy: 0.7500 - val_loss: 0.6800 - val_sparse_categorical_accuracy: 0.7188\n",
      "Epoch 3/3\n",
      "160/160 [==============================] - 339s 2s/step - loss: 0.4120 - sparse_categorical_accuracy: 0.8547 - val_loss: 0.6886 - val_sparse_categorical_accuracy: 0.7688\n",
      "40/40 [==============================] - 19s 468ms/step - loss: 0.6886 - sparse_categorical_accuracy: 0.7688\n"
     ]
    },
    {
     "name": "stderr",
     "output_type": "stream",
     "text": [
      "[I 2024-09-08 06:47:32,458] Trial 5 finished with value: 0.688551127910614 and parameters: {'learning_rate': 1.7540089686552948e-05, 'batch_size': 4, 'num_epochs': 3, 'max_length': 219}. Best is trial 4 with value: 0.6362490057945251.\n",
      "Some weights of the PyTorch model were not used when initializing the TF 2.0 model TFRobertaForSequenceClassification: ['roberta.embeddings.position_ids']\n",
      "- This IS expected if you are initializing TFRobertaForSequenceClassification from a PyTorch model trained on another task or with another architecture (e.g. initializing a TFBertForSequenceClassification model from a BertForPreTraining model).\n",
      "- This IS NOT expected if you are initializing TFRobertaForSequenceClassification from a PyTorch model that you expect to be exactly identical (e.g. initializing a TFBertForSequenceClassification model from a BertForSequenceClassification model).\n",
      "Some weights or buffers of the TF 2.0 model TFRobertaForSequenceClassification were not initialized from the PyTorch model and are newly initialized: ['classifier.dense.weight', 'classifier.dense.bias', 'classifier.out_proj.weight', 'classifier.out_proj.bias']\n",
      "You should probably TRAIN this model on a down-stream task to be able to use it for predictions and inference.\n"
     ]
    },
    {
     "name": "stdout",
     "output_type": "stream",
     "text": [
      "160/160 [==============================] - 291s 2s/step - loss: 1.1930 - sparse_categorical_accuracy: 0.4500 - val_loss: 0.8373 - val_sparse_categorical_accuracy: 0.6562\n",
      "40/40 [==============================] - 13s 314ms/step - loss: 0.8373 - sparse_categorical_accuracy: 0.6562\n"
     ]
    },
    {
     "name": "stderr",
     "output_type": "stream",
     "text": [
      "[I 2024-09-08 06:52:37,662] Trial 6 finished with value: 0.8373271822929382 and parameters: {'learning_rate': 1.2098818688916646e-05, 'batch_size': 4, 'num_epochs': 1, 'max_length': 151}. Best is trial 4 with value: 0.6362490057945251.\n",
      "Some weights of the PyTorch model were not used when initializing the TF 2.0 model TFRobertaForSequenceClassification: ['roberta.embeddings.position_ids']\n",
      "- This IS expected if you are initializing TFRobertaForSequenceClassification from a PyTorch model trained on another task or with another architecture (e.g. initializing a TFBertForSequenceClassification model from a BertForPreTraining model).\n",
      "- This IS NOT expected if you are initializing TFRobertaForSequenceClassification from a PyTorch model that you expect to be exactly identical (e.g. initializing a TFBertForSequenceClassification model from a BertForSequenceClassification model).\n",
      "Some weights or buffers of the TF 2.0 model TFRobertaForSequenceClassification were not initialized from the PyTorch model and are newly initialized: ['classifier.dense.weight', 'classifier.dense.bias', 'classifier.out_proj.weight', 'classifier.out_proj.bias']\n",
      "You should probably TRAIN this model on a down-stream task to be able to use it for predictions and inference.\n"
     ]
    },
    {
     "name": "stdout",
     "output_type": "stream",
     "text": [
      "Epoch 1/3\n",
      "80/80 [==============================] - 214s 2s/step - loss: 1.2768 - sparse_categorical_accuracy: 0.3844 - val_loss: 0.9650 - val_sparse_categorical_accuracy: 0.5875\n",
      "Epoch 2/3\n",
      "80/80 [==============================] - 181s 2s/step - loss: 0.7299 - sparse_categorical_accuracy: 0.7234 - val_loss: 0.7078 - val_sparse_categorical_accuracy: 0.7312\n",
      "Epoch 3/3\n",
      "80/80 [==============================] - 182s 2s/step - loss: 0.4856 - sparse_categorical_accuracy: 0.8469 - val_loss: 0.8323 - val_sparse_categorical_accuracy: 0.6875\n",
      "20/20 [==============================] - 10s 519ms/step - loss: 0.8323 - sparse_categorical_accuracy: 0.6875\n"
     ]
    },
    {
     "name": "stderr",
     "output_type": "stream",
     "text": [
      "[I 2024-09-08 07:02:27,401] Trial 7 finished with value: 0.8322893977165222 and parameters: {'learning_rate': 1.3896835938347669e-05, 'batch_size': 8, 'num_epochs': 3, 'max_length': 128}. Best is trial 4 with value: 0.6362490057945251.\n",
      "Some weights of the PyTorch model were not used when initializing the TF 2.0 model TFRobertaForSequenceClassification: ['roberta.embeddings.position_ids']\n",
      "- This IS expected if you are initializing TFRobertaForSequenceClassification from a PyTorch model trained on another task or with another architecture (e.g. initializing a TFBertForSequenceClassification model from a BertForPreTraining model).\n",
      "- This IS NOT expected if you are initializing TFRobertaForSequenceClassification from a PyTorch model that you expect to be exactly identical (e.g. initializing a TFBertForSequenceClassification model from a BertForSequenceClassification model).\n",
      "Some weights or buffers of the TF 2.0 model TFRobertaForSequenceClassification were not initialized from the PyTorch model and are newly initialized: ['classifier.dense.weight', 'classifier.dense.bias', 'classifier.out_proj.weight', 'classifier.out_proj.bias']\n",
      "You should probably TRAIN this model on a down-stream task to be able to use it for predictions and inference.\n"
     ]
    },
    {
     "name": "stdout",
     "output_type": "stream",
     "text": [
      "Epoch 1/3\n",
      "80/80 [==============================] - 358s 4s/step - loss: 1.3130 - sparse_categorical_accuracy: 0.3344 - val_loss: 1.0152 - val_sparse_categorical_accuracy: 0.6125\n",
      "Epoch 2/3\n",
      "80/80 [==============================] - 325s 4s/step - loss: 0.6729 - sparse_categorical_accuracy: 0.7484 - val_loss: 0.6977 - val_sparse_categorical_accuracy: 0.6938\n",
      "Epoch 3/3\n",
      "80/80 [==============================] - 325s 4s/step - loss: 0.4625 - sparse_categorical_accuracy: 0.8359 - val_loss: 0.6363 - val_sparse_categorical_accuracy: 0.7750\n",
      "20/20 [==============================] - 21s 1s/step - loss: 0.6363 - sparse_categorical_accuracy: 0.7750\n"
     ]
    },
    {
     "name": "stderr",
     "output_type": "stream",
     "text": [
      "[I 2024-09-08 07:19:39,131] Trial 8 finished with value: 0.6362766623497009 and parameters: {'learning_rate': 1.347574455797612e-05, 'batch_size': 8, 'num_epochs': 3, 'max_length': 242}. Best is trial 4 with value: 0.6362490057945251.\n",
      "Some weights of the PyTorch model were not used when initializing the TF 2.0 model TFRobertaForSequenceClassification: ['roberta.embeddings.position_ids']\n",
      "- This IS expected if you are initializing TFRobertaForSequenceClassification from a PyTorch model trained on another task or with another architecture (e.g. initializing a TFBertForSequenceClassification model from a BertForPreTraining model).\n",
      "- This IS NOT expected if you are initializing TFRobertaForSequenceClassification from a PyTorch model that you expect to be exactly identical (e.g. initializing a TFBertForSequenceClassification model from a BertForSequenceClassification model).\n",
      "Some weights or buffers of the TF 2.0 model TFRobertaForSequenceClassification were not initialized from the PyTorch model and are newly initialized: ['classifier.dense.weight', 'classifier.dense.bias', 'classifier.out_proj.weight', 'classifier.out_proj.bias']\n",
      "You should probably TRAIN this model on a down-stream task to be able to use it for predictions and inference.\n"
     ]
    },
    {
     "name": "stdout",
     "output_type": "stream",
     "text": [
      "160/160 [==============================] - 313s 2s/step - loss: 1.1536 - sparse_categorical_accuracy: 0.4375 - val_loss: 0.8708 - val_sparse_categorical_accuracy: 0.6875\n",
      "40/40 [==============================] - 14s 360ms/step - loss: 0.8708 - sparse_categorical_accuracy: 0.6875\n"
     ]
    },
    {
     "name": "stderr",
     "output_type": "stream",
     "text": [
      "[I 2024-09-08 07:25:08,636] Trial 9 finished with value: 0.8708280324935913 and parameters: {'learning_rate': 1.9953442911899407e-05, 'batch_size': 4, 'num_epochs': 1, 'max_length': 174}. Best is trial 4 with value: 0.6362490057945251.\n"
     ]
    },
    {
     "name": "stdout",
     "output_type": "stream",
     "text": [
      "Best hyperparameters found:  {'learning_rate': 1.5590236997640684e-05, 'batch_size': 8, 'num_epochs': 2, 'max_length': 189}\n"
     ]
    }
   ],
   "source": [
    "import optuna\n",
    "import tensorflow as tf\n",
    "from transformers import RobertaTokenizerFast, TFRobertaForSequenceClassification\n",
    "from sklearn.model_selection import train_test_split\n",
    "from sklearn.preprocessing import LabelEncoder\n",
    "\n",
    "# Assuming `dataset_clean` has 'selftext' and 'Label'\n",
    "texts = dataset_clean['selftext'].tolist()\n",
    "labels = dataset_clean['Label'].tolist()\n",
    "\n",
    "# Convert labels to numeric values\n",
    "label_encoder = LabelEncoder()\n",
    "labels = label_encoder.fit_transform(labels)\n",
    "\n",
    "# Split the data into training and validation sets\n",
    "train_texts, val_texts, train_labels, val_labels = train_test_split(texts, labels, test_size=0.2, random_state=42)\n",
    "\n",
    "def objective(trial):\n",
    "    # Define the hyperparameters to tune\n",
    "    learning_rate = trial.suggest_float('learning_rate', 1e-5, 2e-5, log=True)\n",
    "    batch_size = trial.suggest_categorical('batch_size', [4, 8])\n",
    "    num_epochs = trial.suggest_int('num_epochs', 1, 3)\n",
    "    max_length = trial.suggest_int('max_length', 128, 256)\n",
    "\n",
    "    # Load the tokenizer and model\n",
    "    tokenizer = RobertaTokenizerFast.from_pretrained('roberta-base')\n",
    "    model = TFRobertaForSequenceClassification.from_pretrained('roberta-base', num_labels=len(label_map))\n",
    "\n",
    "    # Tokenize the data\n",
    "    train_encodings = tokenizer(train_texts, truncation=True, padding=True, max_length=max_length)\n",
    "    val_encodings = tokenizer(val_texts, truncation=True, padding=True, max_length=max_length)\n",
    "\n",
    "    # Convert to TensorFlow datasets\n",
    "    train_dataset = tf.data.Dataset.from_tensor_slices((\n",
    "        dict(train_encodings),\n",
    "        train_labels\n",
    "    )).shuffle(len(train_texts)).batch(batch_size)\n",
    "\n",
    "    val_dataset = tf.data.Dataset.from_tensor_slices((\n",
    "        dict(val_encodings),\n",
    "        val_labels\n",
    "    )).batch(batch_size)\n",
    "\n",
    "    # Compile the model\n",
    "    model.compile(\n",
    "        optimizer=tf.keras.optimizers.Adam(learning_rate=learning_rate),\n",
    "        loss=tf.keras.losses.SparseCategoricalCrossentropy(from_logits=True),\n",
    "        metrics=[tf.keras.metrics.SparseCategoricalAccuracy()],\n",
    "    )\n",
    "\n",
    "    # Train the model\n",
    "    model.fit(train_dataset, validation_data=val_dataset, epochs=num_epochs)\n",
    "    \n",
    "\n",
    "    # Evaluate the model\n",
    "    eval_loss, eval_accuracy = model.evaluate(val_dataset)\n",
    "\n",
    "    # We want to minimize the loss\n",
    "    return eval_loss \n",
    "\n",
    "\n",
    "# Run the hyperparameter tuning\n",
    "study = optuna.create_study(direction='minimize')\n",
    "study.optimize(objective, n_trials=10)\n",
    "\n",
    "# Print the best hyperparameters\n",
    "print(\"Best hyperparameters found: \", study.best_params)\n"
   ]
  },
  {
   "cell_type": "markdown",
   "id": "c50ca770-95f2-440c-bc43-cd9cbd848fe4",
   "metadata": {},
   "source": [
    "## BEST HYPER PARAMETER"
   ]
  },
  {
   "cell_type": "code",
   "execution_count": 8,
   "id": "a10d9718-d0e1-4291-ac0b-963c0b1cdb22",
   "metadata": {},
   "outputs": [
    {
     "name": "stderr",
     "output_type": "stream",
     "text": [
      "Some weights of the PyTorch model were not used when initializing the TF 2.0 model TFRobertaForSequenceClassification: ['roberta.embeddings.position_ids']\n",
      "- This IS expected if you are initializing TFRobertaForSequenceClassification from a PyTorch model trained on another task or with another architecture (e.g. initializing a TFBertForSequenceClassification model from a BertForPreTraining model).\n",
      "- This IS NOT expected if you are initializing TFRobertaForSequenceClassification from a PyTorch model that you expect to be exactly identical (e.g. initializing a TFBertForSequenceClassification model from a BertForSequenceClassification model).\n",
      "Some weights or buffers of the TF 2.0 model TFRobertaForSequenceClassification were not initialized from the PyTorch model and are newly initialized: ['classifier.dense.weight', 'classifier.dense.bias', 'classifier.out_proj.weight', 'classifier.out_proj.bias']\n",
      "You should probably TRAIN this model on a down-stream task to be able to use it for predictions and inference.\n"
     ]
    },
    {
     "name": "stdout",
     "output_type": "stream",
     "text": [
      "Epoch 1/2\n",
      "80/80 [==============================] - 288s 3s/step - loss: 1.3172 - sparse_categorical_accuracy: 0.3453 - val_loss: 0.9365 - val_sparse_categorical_accuracy: 0.6812\n",
      "Epoch 2/2\n",
      "80/80 [==============================] - 254s 3s/step - loss: 0.7289 - sparse_categorical_accuracy: 0.7328 - val_loss: 0.6522 - val_sparse_categorical_accuracy: 0.7312\n",
      "20/20 [==============================] - 16s 791ms/step - loss: 0.6522 - sparse_categorical_accuracy: 0.7312\n",
      "Evaluation Loss: 0.6522265672683716, Evaluation Accuracy: 0.731249988079071\n"
     ]
    }
   ],
   "source": [
    "# Retrieve best hyperparameters\n",
    "best_params = study.best_params\n",
    "\n",
    "# Retrain the model on the full dataset using the best hyperparameters\n",
    "model = TFRobertaForSequenceClassification.from_pretrained('roberta-base', num_labels=len(label_map))\n",
    "\n",
    "# Tokenize the full dataset\n",
    "train_encodings = tokenizer(train_texts, truncation=True, padding=True, max_length=best_params['max_length'])\n",
    "val_encodings = tokenizer(val_texts, truncation=True, padding=True, max_length=best_params['max_length'])\n",
    "\n",
    "train_dataset = tf.data.Dataset.from_tensor_slices((\n",
    "    dict(train_encodings),\n",
    "    train_labels\n",
    ")).shuffle(len(train_texts)).batch(best_params['batch_size'])\n",
    "\n",
    "val_dataset = tf.data.Dataset.from_tensor_slices((\n",
    "    dict(val_encodings),\n",
    "    val_labels\n",
    ")).batch(best_params['batch_size'])\n",
    "\n",
    "# Compile the model with the best learning rate\n",
    "model.compile(\n",
    "    optimizer=tf.keras.optimizers.Adam(learning_rate=best_params['learning_rate']),\n",
    "    loss=tf.keras.losses.SparseCategoricalCrossentropy(from_logits=True),\n",
    "    metrics=[tf.keras.metrics.SparseCategoricalAccuracy()],\n",
    ")\n",
    "\n",
    "# Train with potentially more epochs\n",
    "model.fit(train_dataset, validation_data=val_dataset, epochs=best_params['num_epochs'])\n",
    "\n",
    "# Evaluate the model\n",
    "eval_loss, eval_accuracy = model.evaluate(val_dataset)\n",
    "print(f\"Evaluation Loss: {eval_loss}, Evaluation Accuracy: {eval_accuracy}\")\n"
   ]
  },
  {
   "cell_type": "code",
   "execution_count": 9,
   "id": "6372cf0a-5616-4226-9e66-ba629c3aaf02",
   "metadata": {},
   "outputs": [
    {
     "name": "stdout",
     "output_type": "stream",
     "text": [
      "20/20 [==============================] - 21s 792ms/step\n",
      "                   precision    recall  f1-score   support\n",
      "\n",
      " drug and alcohol       0.86      0.84      0.85        37\n",
      "       early life       0.81      0.91      0.86        43\n",
      "      personality       0.66      0.60      0.63        35\n",
      "trauma and stress       0.59      0.58      0.58        45\n",
      "\n",
      "         accuracy                           0.73       160\n",
      "        macro avg       0.73      0.73      0.73       160\n",
      "     weighted avg       0.73      0.73      0.73       160\n",
      "\n"
     ]
    },
    {
     "data": {
      "image/png": "[encoded data removed]",
      "text/plain": [
       "<Figure size 720x576 with 2 Axes>"
      ]
     },
     "metadata": {
      "needs_background": "light"
     },
     "output_type": "display_data"
    }
   ],
   "source": [
    "from sklearn.metrics import classification_report, confusion_matrix\n",
    "import matplotlib.pyplot as plt\n",
    "import seaborn as sns\n",
    "\n",
    "# Make predictions\n",
    "val_predictions = model.predict(val_dataset).logits\n",
    "val_predictions = tf.argmax(val_predictions, axis=1).numpy()\n",
    "\n",
    "# Generate the classification report\n",
    "print(classification_report(val_labels, val_predictions, target_names=list(label_map.keys())))\n",
    "\n",
    "# Generate the confusion matrix\n",
    "cm = confusion_matrix(val_labels, val_predictions)\n",
    "\n",
    "# Plot confusion matrix\n",
    "plt.figure(figsize=(10, 8))\n",
    "sns.heatmap(cm, annot=True, fmt=\"d\", cmap=\"Blues\", xticklabels=list(label_map.keys()), yticklabels=list(label_map.keys()))\n",
    "plt.xlabel('Predicted')\n",
    "plt.ylabel('True')\n",
    "plt.show()\n"
   ]
  },
  {
   "cell_type": "code",
   "execution_count": null,
   "id": "327b7c94-c2b5-42c3-bf07-131ba0bb280b",
   "metadata": {},
   "outputs": [],
   "source": []
  }
 ],
 "metadata": {
  "kernelspec": {
   "display_name": "Python 3 (ipykernel)",
   "language": "python",
   "name": "python3"
  },
  "language_info": {
   "codemirror_mode": {
    "name": "ipython",
    "version": 3
   },
   "file_extension": ".py",
   "mimetype": "text/x-python",
   "name": "python",
   "nbconvert_exporter": "python",
   "pygments_lexer": "ipython3",
   "version": "3.10.12"
  }
 },
 "nbformat": 4,
 "nbformat_minor": 5
}
