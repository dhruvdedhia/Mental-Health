{
 "cells": [
  {
   "cell_type": "code",
   "execution_count": 2,
   "id": "e3307436-20a9-4971-bdfb-2aef60e6c2d8",
   "metadata": {},
   "outputs": [
    {
     "data": {
      "text/html": [
       "<div>\n",
       "<style scoped>\n",
       "    .dataframe tbody tr th:only-of-type {\n",
       "        vertical-align: middle;\n",
       "    }\n",
       "\n",
       "    .dataframe tbody tr th {\n",
       "        vertical-align: top;\n",
       "    }\n",
       "\n",
       "    .dataframe thead th {\n",
       "        text-align: right;\n",
       "    }\n",
       "</style>\n",
       "<table border=\"1\" class=\"dataframe\">\n",
       "  <thead>\n",
       "    <tr style=\"text-align: right;\">\n",
       "      <th></th>\n",
       "      <th>score</th>\n",
       "      <th>selftext</th>\n",
       "      <th>subreddit</th>\n",
       "      <th>title</th>\n",
       "      <th>Label</th>\n",
       "      <th>CAT 1</th>\n",
       "    </tr>\n",
       "  </thead>\n",
       "  <tbody>\n",
       "    <tr>\n",
       "      <th>0</th>\n",
       "      <td>1.0</td>\n",
       "      <td>Tried to watch this documentary “anxious Ameri...</td>\n",
       "      <td>Anxiety</td>\n",
       "      <td>Do people get over anxiety?</td>\n",
       "      <td>Drug and Alcohol</td>\n",
       "      <td>NaN</td>\n",
       "    </tr>\n",
       "    <tr>\n",
       "      <th>1</th>\n",
       "      <td>1.0</td>\n",
       "      <td>i’m currently laying in bed wide awake, feelin...</td>\n",
       "      <td>Anxiety</td>\n",
       "      <td>does anyone else have this big fear of suddenl...</td>\n",
       "      <td>Drug and Alcohol</td>\n",
       "      <td>NaN</td>\n",
       "    </tr>\n",
       "    <tr>\n",
       "      <th>2</th>\n",
       "      <td>2.0</td>\n",
       "      <td>Second time trying weed. First time felt close...</td>\n",
       "      <td>Anxiety</td>\n",
       "      <td>3 hour long panic attack after trying weed</td>\n",
       "      <td>Drug and Alcohol</td>\n",
       "      <td>NaN</td>\n",
       "    </tr>\n",
       "    <tr>\n",
       "      <th>3</th>\n",
       "      <td>1.0</td>\n",
       "      <td>I am not posting this for me, but rather for m...</td>\n",
       "      <td>Anxiety</td>\n",
       "      <td>Please leave in the comments ANYTHING that has...</td>\n",
       "      <td>Drug and Alcohol</td>\n",
       "      <td>NaN</td>\n",
       "    </tr>\n",
       "    <tr>\n",
       "      <th>4</th>\n",
       "      <td>1.0</td>\n",
       "      <td>21 year old male been dealing with anxiety eve...</td>\n",
       "      <td>Anxiety</td>\n",
       "      <td>Alcohol induced</td>\n",
       "      <td>Drug and Alcohol</td>\n",
       "      <td>NaN</td>\n",
       "    </tr>\n",
       "  </tbody>\n",
       "</table>\n",
       "</div>"
      ],
      "text/plain": [
       "   score                                           selftext subreddit  \\\n",
       "0    1.0  Tried to watch this documentary “anxious Ameri...   Anxiety   \n",
       "1    1.0  i’m currently laying in bed wide awake, feelin...   Anxiety   \n",
       "2    2.0  Second time trying weed. First time felt close...   Anxiety   \n",
       "3    1.0  I am not posting this for me, but rather for m...   Anxiety   \n",
       "4    1.0  21 year old male been dealing with anxiety eve...   Anxiety   \n",
       "\n",
       "                                               title             Label CAT 1  \n",
       "0                        Do people get over anxiety?  Drug and Alcohol   NaN  \n",
       "1  does anyone else have this big fear of suddenl...  Drug and Alcohol   NaN  \n",
       "2         3 hour long panic attack after trying weed  Drug and Alcohol   NaN  \n",
       "3  Please leave in the comments ANYTHING that has...  Drug and Alcohol   NaN  \n",
       "4                                    Alcohol induced  Drug and Alcohol   NaN  "
      ]
     },
     "execution_count": 2,
     "metadata": {},
     "output_type": "execute_result"
    }
   ],
   "source": [
    "import pandas as pd\n",
    "\n",
    "# Load the dataset\n",
    "file_path = '/user/HS400/dd00830/Downloads/Dissertation/Dataset.csv'  \n",
    "dataset = pd.read_csv(file_path)\n",
    "\n",
    "# Drop rows with missing values in 'selftext' and 'Label' columns\n",
    "dataset_clean = dataset.dropna(subset=['selftext', 'Label'])\n",
    "\n",
    "# Display the cleaned dataset\n",
    "dataset_clean.head()\n"
   ]
  },
  {
   "cell_type": "code",
   "execution_count": 3,
   "id": "44b01287-033e-46b3-bda7-cd6c90efc7c4",
   "metadata": {},
   "outputs": [
    {
     "name": "stderr",
     "output_type": "stream",
     "text": [
      "/tmp/ipykernel_52177/4104052476.py:9: SettingWithCopyWarning: \n",
      "A value is trying to be set on a copy of a slice from a DataFrame.\n",
      "Try using .loc[row_indexer,col_indexer] = value instead\n",
      "\n",
      "See the caveats in the documentation: https://pandas.pydata.org/pandas-docs/stable/user_guide/indexing.html#returning-a-view-versus-a-copy\n",
      "  dataset_clean['selftext'] = dataset_clean['selftext'].apply(preprocess_text)\n"
     ]
    },
    {
     "data": {
      "text/html": [
       "<div>\n",
       "<style scoped>\n",
       "    .dataframe tbody tr th:only-of-type {\n",
       "        vertical-align: middle;\n",
       "    }\n",
       "\n",
       "    .dataframe tbody tr th {\n",
       "        vertical-align: top;\n",
       "    }\n",
       "\n",
       "    .dataframe thead th {\n",
       "        text-align: right;\n",
       "    }\n",
       "</style>\n",
       "<table border=\"1\" class=\"dataframe\">\n",
       "  <thead>\n",
       "    <tr style=\"text-align: right;\">\n",
       "      <th></th>\n",
       "      <th>selftext</th>\n",
       "      <th>Label</th>\n",
       "    </tr>\n",
       "  </thead>\n",
       "  <tbody>\n",
       "    <tr>\n",
       "      <th>0</th>\n",
       "      <td>tried to watch this documentary anxious americ...</td>\n",
       "      <td>Drug and Alcohol</td>\n",
       "    </tr>\n",
       "    <tr>\n",
       "      <th>1</th>\n",
       "      <td>im currently laying in bed wide awake feeling ...</td>\n",
       "      <td>Drug and Alcohol</td>\n",
       "    </tr>\n",
       "    <tr>\n",
       "      <th>2</th>\n",
       "      <td>second time trying weed first time felt close ...</td>\n",
       "      <td>Drug and Alcohol</td>\n",
       "    </tr>\n",
       "    <tr>\n",
       "      <th>3</th>\n",
       "      <td>i am not posting this for me but rather for my...</td>\n",
       "      <td>Drug and Alcohol</td>\n",
       "    </tr>\n",
       "    <tr>\n",
       "      <th>4</th>\n",
       "      <td>21 year old male been dealing with anxiety eve...</td>\n",
       "      <td>Drug and Alcohol</td>\n",
       "    </tr>\n",
       "  </tbody>\n",
       "</table>\n",
       "</div>"
      ],
      "text/plain": [
       "                                            selftext             Label\n",
       "0  tried to watch this documentary anxious americ...  Drug and Alcohol\n",
       "1  im currently laying in bed wide awake feeling ...  Drug and Alcohol\n",
       "2  second time trying weed first time felt close ...  Drug and Alcohol\n",
       "3  i am not posting this for me but rather for my...  Drug and Alcohol\n",
       "4  21 year old male been dealing with anxiety eve...  Drug and Alcohol"
      ]
     },
     "execution_count": 3,
     "metadata": {},
     "output_type": "execute_result"
    }
   ],
   "source": [
    "# Text preprocessing function\n",
    "def preprocess_text(text):\n",
    "    text = text.lower()  # Lowercasing\n",
    "    text = text.replace('\\n', ' ')  # Replace newlines with spaces\n",
    "    text = ''.join([c for c in text if c.isalnum() or c.isspace()])  # Remove special characters\n",
    "    return text\n",
    "\n",
    "# Apply text preprocessing to 'selftext'\n",
    "dataset_clean['selftext'] = dataset_clean['selftext'].apply(preprocess_text)\n",
    "\n",
    "# Display the preprocessed text\n",
    "dataset_clean[['selftext', 'Label']].head()\n"
   ]
  },
  {
   "cell_type": "code",
   "execution_count": 4,
   "id": "73c9190a-380a-4584-8d9f-ec844b108fc8",
   "metadata": {},
   "outputs": [
    {
     "name": "stderr",
     "output_type": "stream",
     "text": [
      "/tmp/ipykernel_52177/3517559097.py:2: SettingWithCopyWarning: \n",
      "A value is trying to be set on a copy of a slice from a DataFrame.\n",
      "Try using .loc[row_indexer,col_indexer] = value instead\n",
      "\n",
      "See the caveats in the documentation: https://pandas.pydata.org/pandas-docs/stable/user_guide/indexing.html#returning-a-view-versus-a-copy\n",
      "  dataset_clean['Label'] = dataset_clean['Label'].str.lower().str.strip()\n",
      "/tmp/ipykernel_52177/3517559097.py:6: SettingWithCopyWarning: \n",
      "A value is trying to be set on a copy of a slice from a DataFrame.\n",
      "Try using .loc[row_indexer,col_indexer] = value instead\n",
      "\n",
      "See the caveats in the documentation: https://pandas.pydata.org/pandas-docs/stable/user_guide/indexing.html#returning-a-view-versus-a-copy\n",
      "  dataset_clean['Label'] = dataset_clean['Label'].map(label_map)\n"
     ]
    },
    {
     "data": {
      "text/plain": [
       "{'drug and alcohol': 0,\n",
       " 'early life': 1,\n",
       " 'personality': 2,\n",
       " 'trauma and stress': 3}"
      ]
     },
     "execution_count": 4,
     "metadata": {},
     "output_type": "execute_result"
    }
   ],
   "source": [
    "# Normalize labels to lowercase\n",
    "dataset_clean['Label'] = dataset_clean['Label'].str.lower().str.strip()\n",
    "\n",
    "# Map labels to integers after normalization\n",
    "label_map = {label: idx for idx, label in enumerate(dataset_clean['Label'].unique())}\n",
    "dataset_clean['Label'] = dataset_clean['Label'].map(label_map)\n",
    "\n",
    "# Display the label mapping\n",
    "label_map\n"
   ]
  },
  {
   "cell_type": "code",
   "execution_count": 5,
   "id": "62d317db-1283-4dcd-b6da-344904cbbf87",
   "metadata": {},
   "outputs": [
    {
     "data": {
      "text/plain": [
       "0    [input_ids, token_type_ids, attention_mask]\n",
       "1    [input_ids, token_type_ids, attention_mask]\n",
       "2    [input_ids, token_type_ids, attention_mask]\n",
       "3    [input_ids, token_type_ids, attention_mask]\n",
       "4    [input_ids, token_type_ids, attention_mask]\n",
       "Name: selftext, dtype: object"
      ]
     },
     "execution_count": 5,
     "metadata": {},
     "output_type": "execute_result"
    }
   ],
   "source": [
    "from transformers import BertTokenizer\n",
    "\n",
    "# Initialize BERT tokenizer\n",
    "tokenizer = BertTokenizer.from_pretrained('bert-base-uncased')\n",
    "\n",
    "# Tokenize the 'selftext' data\n",
    "tokenized_inputs = dataset_clean['selftext'].apply(\n",
    "    lambda x: tokenizer(x, truncation=True, padding='max_length', max_length=128)\n",
    ")\n",
    "\n",
    "# Display the tokenized inputs\n",
    "tokenized_inputs.head()\n"
   ]
  },
  {
   "cell_type": "code",
   "execution_count": 6,
   "id": "50fbbc94-01a8-4804-a74a-d5a140f53b36",
   "metadata": {},
   "outputs": [
    {
     "data": {
      "text/plain": [
       "(640, 160)"
      ]
     },
     "execution_count": 6,
     "metadata": {},
     "output_type": "execute_result"
    }
   ],
   "source": [
    "from datasets import Dataset\n",
    "\n",
    "# Convert to a Hugging Face Dataset\n",
    "dataset = Dataset.from_pandas(pd.DataFrame({\n",
    "    'input_ids': [x['input_ids'] for x in tokenized_inputs],\n",
    "    'attention_mask': [x['attention_mask'] for x in tokenized_inputs],\n",
    "    'labels': dataset_clean['Label'].tolist()  # Ensure this is named 'labels'\n",
    "}))\n",
    "\n",
    "# Split the dataset into training and testing sets\n",
    "train_dataset, test_dataset = dataset.train_test_split(test_size=0.2).values()\n",
    "\n",
    "# Display the sizes of the datasets\n",
    "len(train_dataset), len(test_dataset)\n"
   ]
  },
  {
   "cell_type": "code",
   "execution_count": 7,
   "id": "264bdf7f-f7e5-4399-a5f0-8f8e7b5ff97d",
   "metadata": {},
   "outputs": [
    {
     "name": "stderr",
     "output_type": "stream",
     "text": [
      "Some weights of BertForSequenceClassification were not initialized from the model checkpoint at bert-base-uncased and are newly initialized: ['classifier.bias', 'classifier.weight']\n",
      "You should probably TRAIN this model on a down-stream task to be able to use it for predictions and inference.\n"
     ]
    }
   ],
   "source": [
    "from transformers import BertForSequenceClassification\n",
    "\n",
    "# Initialize the BERT Model\n",
    "model = BertForSequenceClassification.from_pretrained('bert-base-uncased', num_labels=len(label_map))\n"
   ]
  },
  {
   "cell_type": "code",
   "execution_count": 8,
   "id": "25a7322a-d37a-4638-832e-45ae871817fd",
   "metadata": {},
   "outputs": [],
   "source": [
    "from transformers import TrainingArguments\n",
    "\n",
    "# Define Training Arguments\n",
    "training_args = TrainingArguments(\n",
    "    output_dir='./results',\n",
    "    num_train_epochs=10,                # Number of training epochs\n",
    "    per_device_train_batch_size=8,     # Batch size for training\n",
    "    per_device_eval_batch_size=8,      # Batch size for evaluation\n",
    "    warmup_steps=500,                  # Number of warmup steps for learning rate scheduler\n",
    "    weight_decay=0.01,                 # Strength of weight decay\n",
    "    logging_dir='./logs',              # Directory for storing logs\n",
    "    logging_steps=10,                  # Log every X updates steps\n",
    "    evaluation_strategy=\"epoch\"        # Evaluate at the end of each epoch\n",
    ")\n"
   ]
  },
  {
   "cell_type": "code",
   "execution_count": 9,
   "id": "51d90ee2-a539-4e26-b8c8-5b157718f957",
   "metadata": {},
   "outputs": [],
   "source": [
    "from sklearn.metrics import accuracy_score, precision_recall_fscore_support\n",
    "\n",
    "# Define Compute Metrics Function\n",
    "def compute_metrics(pred):\n",
    "    labels = pred.label_ids\n",
    "    preds = pred.predictions.argmax(-1)\n",
    "    precision, recall, f1, _ = precision_recall_fscore_support(labels, preds, average='weighted')\n",
    "    acc = accuracy_score(labels, preds)\n",
    "    return {\n",
    "        'accuracy': acc,\n",
    "        'f1': f1,\n",
    "        'precision': precision,\n",
    "        'recall': recall\n",
    "    }\n"
   ]
  },
  {
   "cell_type": "code",
   "execution_count": 10,
   "id": "d901542a-3478-4cb0-9a68-48ebc5ccec1e",
   "metadata": {},
   "outputs": [
    {
     "name": "stderr",
     "output_type": "stream",
     "text": [
      "2024-09-02 01:14:52.667306: I tensorflow/core/platform/cpu_feature_guard.cc:210] This TensorFlow binary is optimized to use available CPU instructions in performance-critical operations.\n",
      "To enable the following instructions: AVX2 FMA, in other operations, rebuild TensorFlow with the appropriate compiler flags.\n",
      "2024-09-02 01:15:27.548364: W tensorflow/compiler/tf2tensorrt/utils/py_utils.cc:38] TF-TRT Warning: Could not find TensorRT\n"
     ]
    },
    {
     "data": {
      "text/html": [
       "\n",
       "    <div>\n",
       "      \n",
       "      <progress value='800' max='800' style='width:300px; height:20px; vertical-align: middle;'></progress>\n",
       "      [800/800 04:11, Epoch 10/10]\n",
       "    </div>\n",
       "    <table border=\"1\" class=\"dataframe\">\n",
       "  <thead>\n",
       " <tr style=\"text-align: left;\">\n",
       "      <th>Epoch</th>\n",
       "      <th>Training Loss</th>\n",
       "      <th>Validation Loss</th>\n",
       "      <th>Accuracy</th>\n",
       "      <th>F1</th>\n",
       "      <th>Precision</th>\n",
       "      <th>Recall</th>\n",
       "    </tr>\n",
       "  </thead>\n",
       "  <tbody>\n",
       "    <tr>\n",
       "      <td>1</td>\n",
       "      <td>1.392900</td>\n",
       "      <td>1.369321</td>\n",
       "      <td>0.281250</td>\n",
       "      <td>0.169952</td>\n",
       "      <td>0.167187</td>\n",
       "      <td>0.281250</td>\n",
       "    </tr>\n",
       "    <tr>\n",
       "      <td>2</td>\n",
       "      <td>1.209700</td>\n",
       "      <td>1.142301</td>\n",
       "      <td>0.612500</td>\n",
       "      <td>0.565617</td>\n",
       "      <td>0.638567</td>\n",
       "      <td>0.612500</td>\n",
       "    </tr>\n",
       "    <tr>\n",
       "      <td>3</td>\n",
       "      <td>0.786300</td>\n",
       "      <td>0.790460</td>\n",
       "      <td>0.700000</td>\n",
       "      <td>0.655769</td>\n",
       "      <td>0.731950</td>\n",
       "      <td>0.700000</td>\n",
       "    </tr>\n",
       "    <tr>\n",
       "      <td>4</td>\n",
       "      <td>0.601200</td>\n",
       "      <td>0.711580</td>\n",
       "      <td>0.737500</td>\n",
       "      <td>0.735287</td>\n",
       "      <td>0.751316</td>\n",
       "      <td>0.737500</td>\n",
       "    </tr>\n",
       "    <tr>\n",
       "      <td>5</td>\n",
       "      <td>0.396300</td>\n",
       "      <td>0.983061</td>\n",
       "      <td>0.693750</td>\n",
       "      <td>0.680045</td>\n",
       "      <td>0.702226</td>\n",
       "      <td>0.693750</td>\n",
       "    </tr>\n",
       "    <tr>\n",
       "      <td>6</td>\n",
       "      <td>0.211800</td>\n",
       "      <td>1.144792</td>\n",
       "      <td>0.762500</td>\n",
       "      <td>0.755101</td>\n",
       "      <td>0.761613</td>\n",
       "      <td>0.762500</td>\n",
       "    </tr>\n",
       "    <tr>\n",
       "      <td>7</td>\n",
       "      <td>0.065500</td>\n",
       "      <td>1.149452</td>\n",
       "      <td>0.731250</td>\n",
       "      <td>0.722529</td>\n",
       "      <td>0.721671</td>\n",
       "      <td>0.731250</td>\n",
       "    </tr>\n",
       "    <tr>\n",
       "      <td>8</td>\n",
       "      <td>0.065900</td>\n",
       "      <td>1.351964</td>\n",
       "      <td>0.756250</td>\n",
       "      <td>0.754075</td>\n",
       "      <td>0.757740</td>\n",
       "      <td>0.756250</td>\n",
       "    </tr>\n",
       "    <tr>\n",
       "      <td>9</td>\n",
       "      <td>0.003300</td>\n",
       "      <td>1.442459</td>\n",
       "      <td>0.768750</td>\n",
       "      <td>0.766893</td>\n",
       "      <td>0.766776</td>\n",
       "      <td>0.768750</td>\n",
       "    </tr>\n",
       "    <tr>\n",
       "      <td>10</td>\n",
       "      <td>0.061000</td>\n",
       "      <td>1.429721</td>\n",
       "      <td>0.762500</td>\n",
       "      <td>0.760166</td>\n",
       "      <td>0.758864</td>\n",
       "      <td>0.762500</td>\n",
       "    </tr>\n",
       "  </tbody>\n",
       "</table><p>"
      ],
      "text/plain": [
       "<IPython.core.display.HTML object>"
      ]
     },
     "metadata": {},
     "output_type": "display_data"
    },
    {
     "data": {
      "text/plain": [
       "TrainOutput(global_step=800, training_loss=0.5276467365992721, metrics={'train_runtime': 253.6128, 'train_samples_per_second': 25.235, 'train_steps_per_second': 3.154, 'total_flos': 420985248153600.0, 'train_loss': 0.5276467365992721, 'epoch': 10.0})"
      ]
     },
     "execution_count": 10,
     "metadata": {},
     "output_type": "execute_result"
    }
   ],
   "source": [
    "from transformers import Trainer\n",
    "\n",
    "# Initialize Trainer\n",
    "trainer = Trainer(\n",
    "    model=model,\n",
    "    args=training_args,\n",
    "    train_dataset=train_dataset,       # The dataset for training with 'labels'\n",
    "    eval_dataset=test_dataset,         # The dataset for evaluation with 'labels'\n",
    "    compute_metrics=compute_metrics\n",
    ")\n",
    "\n",
    "# Start Training\n",
    "trainer.train()\n"
   ]
  },
  {
   "cell_type": "code",
   "execution_count": 11,
   "id": "e2b19d15-7549-458c-aec5-c32372adac07",
   "metadata": {},
   "outputs": [
    {
     "data": {
      "text/html": [],
      "text/plain": [
       "<IPython.core.display.HTML object>"
      ]
     },
     "metadata": {},
     "output_type": "display_data"
    },
    {
     "name": "stdout",
     "output_type": "stream",
     "text": [
      "Evaluation Results:\n",
      "Accuracy: 0.7625\n",
      "Precision: 0.7589\n",
      "Recall: 0.7625\n",
      "F1 Score: 0.7602\n"
     ]
    }
   ],
   "source": [
    "# Evaluate the Model\n",
    "eval_result = trainer.evaluate()\n",
    "\n",
    "# Display Evaluation Results\n",
    "print(\"Evaluation Results:\")\n",
    "print(f\"Accuracy: {eval_result['eval_accuracy']:.4f}\")\n",
    "print(f\"Precision: {eval_result['eval_precision']:.4f}\")\n",
    "print(f\"Recall: {eval_result['eval_recall']:.4f}\")\n",
    "print(f\"F1 Score: {eval_result['eval_f1']:.4f}\")\n"
   ]
  },
  {
   "cell_type": "code",
   "execution_count": 12,
   "id": "ad0e01cb-e337-4f79-a3b1-3a23e814b871",
   "metadata": {},
   "outputs": [
    {
     "name": "stdout",
     "output_type": "stream",
     "text": [
      "Validation Accuracy: 0.7625\n",
      "Validation Loss: 1.4297\n"
     ]
    }
   ],
   "source": [
    "# Evaluate the model\n",
    "evaluation_metrics = trainer.evaluate()\n",
    "\n",
    "print(f\"Validation Accuracy: {evaluation_metrics['eval_accuracy']:.4f}\")\n",
    "print(f\"Validation Loss: {evaluation_metrics['eval_loss']:.4f}\")\n"
   ]
  },
  {
   "cell_type": "code",
   "execution_count": 13,
   "id": "68dc2046-9fad-40de-9b80-7b69505338e1",
   "metadata": {},
   "outputs": [
    {
     "data": {
      "image/png": "[encoded data removed]",
      "text/plain": [
       "<Figure size 864x360 with 2 Axes>"
      ]
     },
     "metadata": {
      "needs_background": "light"
     },
     "output_type": "display_data"
    }
   ],
   "source": [
    "import matplotlib.pyplot as plt\n",
    "\n",
    "# Extract loss and accuracy from log history for plotting\n",
    "epochs = []\n",
    "train_loss = []\n",
    "eval_loss = []\n",
    "train_accuracy = []\n",
    "eval_accuracy = []\n",
    "\n",
    "for log in trainer.state.log_history:\n",
    "    if 'loss' in log and 'epoch' in log:\n",
    "        epochs.append(log['epoch'])\n",
    "        train_loss.append(log['loss'])\n",
    "    if 'eval_loss' in log:\n",
    "        eval_loss.append(log['eval_loss'])\n",
    "    if 'eval_accuracy' in log:\n",
    "        eval_accuracy.append(log['eval_accuracy'])\n",
    "\n",
    "# Plotting loss and accuracy\n",
    "plt.figure(figsize=(12, 5))\n",
    "\n",
    "# Plotting loss\n",
    "plt.subplot(1, 2, 1)\n",
    "plt.plot(epochs[:len(train_loss)], train_loss, label='Training Loss')\n",
    "plt.plot(epochs[:len(eval_loss)], eval_loss, label='Validation Loss')\n",
    "plt.xlabel('Epoch')\n",
    "plt.ylabel('Loss')\n",
    "plt.title('Training vs. Validation Loss')\n",
    "plt.legend()\n",
    "\n",
    "# Plotting accuracy\n",
    "plt.subplot(1, 2, 2)\n",
    "plt.plot(epochs[:len(eval_accuracy)], eval_accuracy, label='Validation Accuracy')\n",
    "plt.xlabel('Epoch')\n",
    "plt.ylabel('Accuracy')\n",
    "plt.title('Validation Accuracy')\n",
    "plt.legend()\n",
    "\n",
    "plt.show()\n"
   ]
  },
  {
   "cell_type": "code",
   "execution_count": 14,
   "id": "649f5828-5cdd-403a-a52e-860cc0f43e58",
   "metadata": {},
   "outputs": [],
   "source": [
    "# Get predictions on the test dataset\n",
    "predictions = trainer.predict(test_dataset)\n",
    "preds = predictions.predictions.argmax(-1)\n",
    "true_labels = predictions.label_ids\n"
   ]
  },
  {
   "cell_type": "code",
   "execution_count": 15,
   "id": "0879bf87-da3c-4b74-bb63-6c06bf064121",
   "metadata": {},
   "outputs": [
    {
     "name": "stdout",
     "output_type": "stream",
     "text": [
      "Classification Report:\n",
      "                   precision    recall  f1-score   support\n",
      "\n",
      " drug and alcohol       0.85      0.91      0.88        44\n",
      "       early life       0.84      0.84      0.84        38\n",
      "      personality       0.68      0.68      0.68        40\n",
      "trauma and stress       0.66      0.61      0.63        38\n",
      "\n",
      "         accuracy                           0.76       160\n",
      "        macro avg       0.76      0.76      0.76       160\n",
      "     weighted avg       0.76      0.76      0.76       160\n",
      "\n"
     ]
    }
   ],
   "source": [
    "from sklearn.metrics import classification_report\n",
    "\n",
    "# Generate a classification report\n",
    "report = classification_report(true_labels, preds, target_names=list(label_map.keys()))\n",
    "print(\"Classification Report:\")\n",
    "print(report)\n"
   ]
  },
  {
   "cell_type": "code",
   "execution_count": 16,
   "id": "92d84d62-b53c-43b7-af71-d2a8d9e270c3",
   "metadata": {},
   "outputs": [
    {
     "data": {
      "image/png": "[encoded data removed]",
      "text/plain": [
       "<Figure size 720x576 with 2 Axes>"
      ]
     },
     "metadata": {
      "needs_background": "light"
     },
     "output_type": "display_data"
    }
   ],
   "source": [
    "from sklearn.metrics import confusion_matrix\n",
    "import seaborn as sns\n",
    "import matplotlib.pyplot as plt\n",
    "\n",
    "# Generate confusion matrix\n",
    "cm = confusion_matrix(true_labels, preds)\n",
    "\n",
    "# Plot confusion matrix\n",
    "plt.figure(figsize=(10, 8))\n",
    "sns.heatmap(cm, annot=True, fmt='d', cmap='Blues', xticklabels=list(label_map.keys()), yticklabels=list(label_map.keys()))\n",
    "plt.xlabel('Predicted Label')\n",
    "plt.ylabel('True Label')\n",
    "plt.title('Confusion Matrix')\n",
    "plt.show()\n"
   ]
  },
  {
   "cell_type": "markdown",
   "id": "e8b1edf1-f1a4-4262-b4cb-ca9597ff5dcb",
   "metadata": {},
   "source": [
    "## HYPERPARAMETER TUNING:-\n"
   ]
  },
  {
   "cell_type": "code",
   "execution_count": 17,
   "id": "48bd6110-a6d2-4d64-a756-5b2e9ae0f331",
   "metadata": {},
   "outputs": [
    {
     "name": "stdout",
     "output_type": "stream",
     "text": [
      "Defaulting to user installation because normal site-packages is not writeable\n",
      "Requirement already satisfied: optuna in /user/HS400/dd00830/.local/lib/python3.10/site-packages (3.6.1)\n",
      "Requirement already satisfied: colorlog in /user/HS400/dd00830/.local/lib/python3.10/site-packages (from optuna) (6.8.2)\n",
      "Requirement already satisfied: sqlalchemy>=1.3.0 in /user/HS400/dd00830/.local/lib/python3.10/site-packages (from optuna) (2.0.32)\n",
      "Requirement already satisfied: tqdm in /user/HS400/dd00830/.local/lib/python3.10/site-packages (from optuna) (4.66.2)\n",
      "Requirement already satisfied: alembic>=1.5.0 in /user/HS400/dd00830/.local/lib/python3.10/site-packages (from optuna) (1.13.2)\n",
      "Requirement already satisfied: PyYAML in /usr/lib/python3/dist-packages (from optuna) (5.4.1)\n",
      "Requirement already satisfied: packaging>=20.0 in /usr/local/lib/python3.10/dist-packages (from optuna) (24.1)\n",
      "Requirement already satisfied: numpy in /user/HS400/dd00830/.local/lib/python3.10/site-packages (from optuna) (1.26.4)\n",
      "Requirement already satisfied: typing-extensions>=4 in /usr/local/lib/python3.10/dist-packages (from alembic>=1.5.0->optuna) (4.12.2)\n",
      "Requirement already satisfied: Mako in /user/HS400/dd00830/.local/lib/python3.10/site-packages (from alembic>=1.5.0->optuna) (1.3.5)\n",
      "Requirement already satisfied: greenlet!=0.4.17 in /user/HS400/dd00830/.local/lib/python3.10/site-packages (from sqlalchemy>=1.3.0->optuna) (3.0.3)\n",
      "Requirement already satisfied: MarkupSafe>=0.9.2 in /user/HS400/dd00830/.local/lib/python3.10/site-packages (from Mako->alembic>=1.5.0->optuna) (2.1.5)\n",
      "Note: you may need to restart the kernel to use updated packages.\n"
     ]
    }
   ],
   "source": [
    "pip install optuna\n"
   ]
  },
  {
   "cell_type": "code",
   "execution_count": 18,
   "id": "677d90e1-0b87-4b4a-bd9e-44a31b635c16",
   "metadata": {},
   "outputs": [
    {
     "name": "stderr",
     "output_type": "stream",
     "text": [
      "Some weights of BertForSequenceClassification were not initialized from the model checkpoint at bert-base-uncased and are newly initialized: ['classifier.bias', 'classifier.weight']\n",
      "You should probably TRAIN this model on a down-stream task to be able to use it for predictions and inference.\n",
      "[I 2024-09-02 01:30:36,668] A new study created in memory with name: no-name-b9124ea3-0d2e-4e97-a71a-c28f22b0c65c\n",
      "Some weights of BertForSequenceClassification were not initialized from the model checkpoint at bert-base-uncased and are newly initialized: ['classifier.bias', 'classifier.weight']\n",
      "You should probably TRAIN this model on a down-stream task to be able to use it for predictions and inference.\n"
     ]
    },
    {
     "data": {
      "text/html": [
       "\n",
       "    <div>\n",
       "      \n",
       "      <progress value='40' max='40' style='width:300px; height:20px; vertical-align: middle;'></progress>\n",
       "      [40/40 00:36, Epoch 2/2]\n",
       "    </div>\n",
       "    <table border=\"1\" class=\"dataframe\">\n",
       "  <thead>\n",
       " <tr style=\"text-align: left;\">\n",
       "      <th>Epoch</th>\n",
       "      <th>Training Loss</th>\n",
       "      <th>Validation Loss</th>\n",
       "      <th>Accuracy</th>\n",
       "      <th>F1</th>\n",
       "      <th>Precision</th>\n",
       "      <th>Recall</th>\n",
       "    </tr>\n",
       "  </thead>\n",
       "  <tbody>\n",
       "    <tr>\n",
       "      <td>1</td>\n",
       "      <td>1.391800</td>\n",
       "      <td>1.390563</td>\n",
       "      <td>0.243750</td>\n",
       "      <td>0.182419</td>\n",
       "      <td>0.197780</td>\n",
       "      <td>0.243750</td>\n",
       "    </tr>\n",
       "    <tr>\n",
       "      <td>2</td>\n",
       "      <td>1.360500</td>\n",
       "      <td>1.374971</td>\n",
       "      <td>0.300000</td>\n",
       "      <td>0.282311</td>\n",
       "      <td>0.277741</td>\n",
       "      <td>0.300000</td>\n",
       "    </tr>\n",
       "  </tbody>\n",
       "</table><p>"
      ],
      "text/plain": [
       "<IPython.core.display.HTML object>"
      ]
     },
     "metadata": {},
     "output_type": "display_data"
    },
    {
     "name": "stderr",
     "output_type": "stream",
     "text": [
      "[I 2024-09-02 01:31:14,470] Trial 0 finished with value: 1.1600518680485332 and parameters: {'learning_rate': 1.8544216043100707e-05, 'num_train_epochs': 2, 'per_device_train_batch_size': 32, 'weight_decay': 0.08041443465880166}. Best is trial 0 with value: 1.1600518680485332.\n",
      "Some weights of BertForSequenceClassification were not initialized from the model checkpoint at bert-base-uncased and are newly initialized: ['classifier.bias', 'classifier.weight']\n",
      "You should probably TRAIN this model on a down-stream task to be able to use it for predictions and inference.\n"
     ]
    },
    {
     "data": {
      "text/html": [
       "\n",
       "    <div>\n",
       "      \n",
       "      <progress value='120' max='120' style='width:300px; height:20px; vertical-align: middle;'></progress>\n",
       "      [120/120 01:00, Epoch 3/3]\n",
       "    </div>\n",
       "    <table border=\"1\" class=\"dataframe\">\n",
       "  <thead>\n",
       " <tr style=\"text-align: left;\">\n",
       "      <th>Epoch</th>\n",
       "      <th>Training Loss</th>\n",
       "      <th>Validation Loss</th>\n",
       "      <th>Accuracy</th>\n",
       "      <th>F1</th>\n",
       "      <th>Precision</th>\n",
       "      <th>Recall</th>\n",
       "    </tr>\n",
       "  </thead>\n",
       "  <tbody>\n",
       "    <tr>\n",
       "      <td>1</td>\n",
       "      <td>1.385100</td>\n",
       "      <td>1.355036</td>\n",
       "      <td>0.350000</td>\n",
       "      <td>0.293271</td>\n",
       "      <td>0.349003</td>\n",
       "      <td>0.350000</td>\n",
       "    </tr>\n",
       "    <tr>\n",
       "      <td>2</td>\n",
       "      <td>1.193700</td>\n",
       "      <td>1.186485</td>\n",
       "      <td>0.525000</td>\n",
       "      <td>0.489096</td>\n",
       "      <td>0.515332</td>\n",
       "      <td>0.525000</td>\n",
       "    </tr>\n",
       "    <tr>\n",
       "      <td>3</td>\n",
       "      <td>1.060600</td>\n",
       "      <td>1.082795</td>\n",
       "      <td>0.575000</td>\n",
       "      <td>0.550447</td>\n",
       "      <td>0.556532</td>\n",
       "      <td>0.575000</td>\n",
       "    </tr>\n",
       "  </tbody>\n",
       "</table><p>"
      ],
      "text/plain": [
       "<IPython.core.display.HTML object>"
      ]
     },
     "metadata": {},
     "output_type": "display_data"
    },
    {
     "name": "stderr",
     "output_type": "stream",
     "text": [
      "[I 2024-09-02 01:32:16,573] Trial 1 finished with value: 2.256979431792063 and parameters: {'learning_rate': 1.784419369671113e-05, 'num_train_epochs': 3, 'per_device_train_batch_size': 16, 'weight_decay': 0.02456501936484788}. Best is trial 1 with value: 2.256979431792063.\n",
      "Some weights of BertForSequenceClassification were not initialized from the model checkpoint at bert-base-uncased and are newly initialized: ['classifier.bias', 'classifier.weight']\n",
      "You should probably TRAIN this model on a down-stream task to be able to use it for predictions and inference.\n"
     ]
    },
    {
     "data": {
      "text/html": [
       "\n",
       "    <div>\n",
       "      \n",
       "      <progress value='160' max='160' style='width:300px; height:20px; vertical-align: middle;'></progress>\n",
       "      [160/160 00:47, Epoch 2/2]\n",
       "    </div>\n",
       "    <table border=\"1\" class=\"dataframe\">\n",
       "  <thead>\n",
       " <tr style=\"text-align: left;\">\n",
       "      <th>Epoch</th>\n",
       "      <th>Training Loss</th>\n",
       "      <th>Validation Loss</th>\n",
       "      <th>Accuracy</th>\n",
       "      <th>F1</th>\n",
       "      <th>Precision</th>\n",
       "      <th>Recall</th>\n",
       "    </tr>\n",
       "  </thead>\n",
       "  <tbody>\n",
       "    <tr>\n",
       "      <td>1</td>\n",
       "      <td>1.244600</td>\n",
       "      <td>1.213131</td>\n",
       "      <td>0.425000</td>\n",
       "      <td>0.337009</td>\n",
       "      <td>0.319609</td>\n",
       "      <td>0.425000</td>\n",
       "    </tr>\n",
       "    <tr>\n",
       "      <td>2</td>\n",
       "      <td>0.976300</td>\n",
       "      <td>0.938436</td>\n",
       "      <td>0.718750</td>\n",
       "      <td>0.709803</td>\n",
       "      <td>0.709385</td>\n",
       "      <td>0.718750</td>\n",
       "    </tr>\n",
       "  </tbody>\n",
       "</table><p>"
      ],
      "text/plain": [
       "<IPython.core.display.HTML object>"
      ]
     },
     "metadata": {},
     "output_type": "display_data"
    },
    {
     "name": "stderr",
     "output_type": "stream",
     "text": [
      "/user/HS400/dd00830/.local/lib/python3.10/site-packages/sklearn/metrics/_classification.py:1509: UndefinedMetricWarning: Precision is ill-defined and being set to 0.0 in labels with no predicted samples. Use `zero_division` parameter to control this behavior.\n",
      "  _warn_prf(average, modifier, f\"{metric.capitalize()} is\", len(result))\n",
      "[I 2024-09-02 01:33:05,028] Trial 2 finished with value: 2.85668824218875 and parameters: {'learning_rate': 2.346750711993078e-05, 'num_train_epochs': 2, 'per_device_train_batch_size': 8, 'weight_decay': 0.23976240965409512}. Best is trial 2 with value: 2.85668824218875.\n",
      "Some weights of BertForSequenceClassification were not initialized from the model checkpoint at bert-base-uncased and are newly initialized: ['classifier.bias', 'classifier.weight']\n",
      "You should probably TRAIN this model on a down-stream task to be able to use it for predictions and inference.\n"
     ]
    },
    {
     "data": {
      "text/html": [
       "\n",
       "    <div>\n",
       "      \n",
       "      <progress value='480' max='480' style='width:300px; height:20px; vertical-align: middle;'></progress>\n",
       "      [480/480 02:22, Epoch 6/6]\n",
       "    </div>\n",
       "    <table border=\"1\" class=\"dataframe\">\n",
       "  <thead>\n",
       " <tr style=\"text-align: left;\">\n",
       "      <th>Epoch</th>\n",
       "      <th>Training Loss</th>\n",
       "      <th>Validation Loss</th>\n",
       "      <th>Accuracy</th>\n",
       "      <th>F1</th>\n",
       "      <th>Precision</th>\n",
       "      <th>Recall</th>\n",
       "    </tr>\n",
       "  </thead>\n",
       "  <tbody>\n",
       "    <tr>\n",
       "      <td>1</td>\n",
       "      <td>1.134200</td>\n",
       "      <td>1.076990</td>\n",
       "      <td>0.562500</td>\n",
       "      <td>0.495982</td>\n",
       "      <td>0.544755</td>\n",
       "      <td>0.562500</td>\n",
       "    </tr>\n",
       "    <tr>\n",
       "      <td>2</td>\n",
       "      <td>0.690700</td>\n",
       "      <td>0.683654</td>\n",
       "      <td>0.706250</td>\n",
       "      <td>0.702426</td>\n",
       "      <td>0.702466</td>\n",
       "      <td>0.706250</td>\n",
       "    </tr>\n",
       "    <tr>\n",
       "      <td>3</td>\n",
       "      <td>0.451500</td>\n",
       "      <td>0.817882</td>\n",
       "      <td>0.700000</td>\n",
       "      <td>0.675075</td>\n",
       "      <td>0.800933</td>\n",
       "      <td>0.700000</td>\n",
       "    </tr>\n",
       "    <tr>\n",
       "      <td>4</td>\n",
       "      <td>0.286100</td>\n",
       "      <td>0.863635</td>\n",
       "      <td>0.743750</td>\n",
       "      <td>0.741963</td>\n",
       "      <td>0.741871</td>\n",
       "      <td>0.743750</td>\n",
       "    </tr>\n",
       "    <tr>\n",
       "      <td>5</td>\n",
       "      <td>0.110400</td>\n",
       "      <td>0.976014</td>\n",
       "      <td>0.743750</td>\n",
       "      <td>0.742308</td>\n",
       "      <td>0.741332</td>\n",
       "      <td>0.743750</td>\n",
       "    </tr>\n",
       "    <tr>\n",
       "      <td>6</td>\n",
       "      <td>0.090800</td>\n",
       "      <td>1.021490</td>\n",
       "      <td>0.750000</td>\n",
       "      <td>0.749201</td>\n",
       "      <td>0.749404</td>\n",
       "      <td>0.750000</td>\n",
       "    </tr>\n",
       "  </tbody>\n",
       "</table><p>"
      ],
      "text/plain": [
       "<IPython.core.display.HTML object>"
      ]
     },
     "metadata": {},
     "output_type": "display_data"
    },
    {
     "name": "stderr",
     "output_type": "stream",
     "text": [
      "[I 2024-09-02 01:35:28,617] Trial 3 finished with value: 2.9986042565956117 and parameters: {'learning_rate': 2.8239956063382995e-05, 'num_train_epochs': 6, 'per_device_train_batch_size': 8, 'weight_decay': 0.11697265685064687}. Best is trial 3 with value: 2.9986042565956117.\n",
      "Some weights of BertForSequenceClassification were not initialized from the model checkpoint at bert-base-uncased and are newly initialized: ['classifier.bias', 'classifier.weight']\n",
      "You should probably TRAIN this model on a down-stream task to be able to use it for predictions and inference.\n"
     ]
    },
    {
     "data": {
      "text/html": [
       "\n",
       "    <div>\n",
       "      \n",
       "      <progress value='40' max='40' style='width:300px; height:20px; vertical-align: middle;'></progress>\n",
       "      [40/40 00:36, Epoch 2/2]\n",
       "    </div>\n",
       "    <table border=\"1\" class=\"dataframe\">\n",
       "  <thead>\n",
       " <tr style=\"text-align: left;\">\n",
       "      <th>Epoch</th>\n",
       "      <th>Training Loss</th>\n",
       "      <th>Validation Loss</th>\n",
       "      <th>Accuracy</th>\n",
       "      <th>F1</th>\n",
       "      <th>Precision</th>\n",
       "      <th>Recall</th>\n",
       "    </tr>\n",
       "  </thead>\n",
       "  <tbody>\n",
       "    <tr>\n",
       "      <td>1</td>\n",
       "      <td>1.381200</td>\n",
       "      <td>1.362010</td>\n",
       "      <td>0.306250</td>\n",
       "      <td>0.231936</td>\n",
       "      <td>0.286039</td>\n",
       "      <td>0.306250</td>\n",
       "    </tr>\n",
       "    <tr>\n",
       "      <td>2</td>\n",
       "      <td>1.263000</td>\n",
       "      <td>1.290186</td>\n",
       "      <td>0.550000</td>\n",
       "      <td>0.531658</td>\n",
       "      <td>0.570749</td>\n",
       "      <td>0.550000</td>\n",
       "    </tr>\n",
       "  </tbody>\n",
       "</table><p>"
      ],
      "text/plain": [
       "<IPython.core.display.HTML object>"
      ]
     },
     "metadata": {},
     "output_type": "display_data"
    },
    {
     "name": "stderr",
     "output_type": "stream",
     "text": [
      "/user/HS400/dd00830/.local/lib/python3.10/site-packages/sklearn/metrics/_classification.py:1509: UndefinedMetricWarning: Precision is ill-defined and being set to 0.0 in labels with no predicted samples. Use `zero_division` parameter to control this behavior.\n",
      "  _warn_prf(average, modifier, f\"{metric.capitalize()} is\", len(result))\n",
      "[I 2024-09-02 01:36:06,281] Trial 4 finished with value: 2.2024076577429197 and parameters: {'learning_rate': 3.9037549315115997e-05, 'num_train_epochs': 2, 'per_device_train_batch_size': 32, 'weight_decay': 0.18072052958199605}. Best is trial 3 with value: 2.9986042565956117.\n",
      "Some weights of BertForSequenceClassification were not initialized from the model checkpoint at bert-base-uncased and are newly initialized: ['classifier.bias', 'classifier.weight']\n",
      "You should probably TRAIN this model on a down-stream task to be able to use it for predictions and inference.\n"
     ]
    },
    {
     "data": {
      "text/html": [
       "\n",
       "    <div>\n",
       "      \n",
       "      <progress value='80' max='480' style='width:300px; height:20px; vertical-align: middle;'></progress>\n",
       "      [ 80/480 00:23 < 02:00, 3.31 it/s, Epoch 1/6]\n",
       "    </div>\n",
       "    <table border=\"1\" class=\"dataframe\">\n",
       "  <thead>\n",
       " <tr style=\"text-align: left;\">\n",
       "      <th>Epoch</th>\n",
       "      <th>Training Loss</th>\n",
       "      <th>Validation Loss</th>\n",
       "      <th>Accuracy</th>\n",
       "      <th>F1</th>\n",
       "      <th>Precision</th>\n",
       "      <th>Recall</th>\n",
       "    </tr>\n",
       "  </thead>\n",
       "  <tbody>\n",
       "    <tr>\n",
       "      <td>1</td>\n",
       "      <td>1.159400</td>\n",
       "      <td>1.109821</td>\n",
       "      <td>0.493750</td>\n",
       "      <td>0.420985</td>\n",
       "      <td>0.367258</td>\n",
       "      <td>0.493750</td>\n",
       "    </tr>\n",
       "  </tbody>\n",
       "</table><p>"
      ],
      "text/plain": [
       "<IPython.core.display.HTML object>"
      ]
     },
     "metadata": {},
     "output_type": "display_data"
    },
    {
     "name": "stderr",
     "output_type": "stream",
     "text": [
      "/user/HS400/dd00830/.local/lib/python3.10/site-packages/sklearn/metrics/_classification.py:1509: UndefinedMetricWarning: Precision is ill-defined and being set to 0.0 in labels with no predicted samples. Use `zero_division` parameter to control this behavior.\n",
      "  _warn_prf(average, modifier, f\"{metric.capitalize()} is\", len(result))\n",
      "[I 2024-09-02 01:36:30,726] Trial 5 pruned. \n",
      "Some weights of BertForSequenceClassification were not initialized from the model checkpoint at bert-base-uncased and are newly initialized: ['classifier.bias', 'classifier.weight']\n",
      "You should probably TRAIN this model on a down-stream task to be able to use it for predictions and inference.\n"
     ]
    },
    {
     "data": {
      "text/html": [
       "\n",
       "    <div>\n",
       "      \n",
       "      <progress value='80' max='320' style='width:300px; height:20px; vertical-align: middle;'></progress>\n",
       "      [ 80/320 00:23 < 01:12, 3.31 it/s, Epoch 1/4]\n",
       "    </div>\n",
       "    <table border=\"1\" class=\"dataframe\">\n",
       "  <thead>\n",
       " <tr style=\"text-align: left;\">\n",
       "      <th>Epoch</th>\n",
       "      <th>Training Loss</th>\n",
       "      <th>Validation Loss</th>\n",
       "      <th>Accuracy</th>\n",
       "      <th>F1</th>\n",
       "      <th>Precision</th>\n",
       "      <th>Recall</th>\n",
       "    </tr>\n",
       "  </thead>\n",
       "  <tbody>\n",
       "    <tr>\n",
       "      <td>1</td>\n",
       "      <td>1.341800</td>\n",
       "      <td>1.344067</td>\n",
       "      <td>0.325000</td>\n",
       "      <td>0.220162</td>\n",
       "      <td>0.286506</td>\n",
       "      <td>0.325000</td>\n",
       "    </tr>\n",
       "  </tbody>\n",
       "</table><p>"
      ],
      "text/plain": [
       "<IPython.core.display.HTML object>"
      ]
     },
     "metadata": {},
     "output_type": "display_data"
    },
    {
     "name": "stderr",
     "output_type": "stream",
     "text": [
      "[I 2024-09-02 01:36:55,088] Trial 6 pruned. \n",
      "Some weights of BertForSequenceClassification were not initialized from the model checkpoint at bert-base-uncased and are newly initialized: ['classifier.bias', 'classifier.weight']\n",
      "You should probably TRAIN this model on a down-stream task to be able to use it for predictions and inference.\n"
     ]
    },
    {
     "data": {
      "text/html": [
       "\n",
       "    <div>\n",
       "      \n",
       "      <progress value='240' max='240' style='width:300px; height:20px; vertical-align: middle;'></progress>\n",
       "      [240/240 01:11, Epoch 3/3]\n",
       "    </div>\n",
       "    <table border=\"1\" class=\"dataframe\">\n",
       "  <thead>\n",
       " <tr style=\"text-align: left;\">\n",
       "      <th>Epoch</th>\n",
       "      <th>Training Loss</th>\n",
       "      <th>Validation Loss</th>\n",
       "      <th>Accuracy</th>\n",
       "      <th>F1</th>\n",
       "      <th>Precision</th>\n",
       "      <th>Recall</th>\n",
       "    </tr>\n",
       "  </thead>\n",
       "  <tbody>\n",
       "    <tr>\n",
       "      <td>1</td>\n",
       "      <td>1.110800</td>\n",
       "      <td>1.050894</td>\n",
       "      <td>0.600000</td>\n",
       "      <td>0.552109</td>\n",
       "      <td>0.557991</td>\n",
       "      <td>0.600000</td>\n",
       "    </tr>\n",
       "    <tr>\n",
       "      <td>2</td>\n",
       "      <td>0.693900</td>\n",
       "      <td>0.682454</td>\n",
       "      <td>0.743750</td>\n",
       "      <td>0.738940</td>\n",
       "      <td>0.746733</td>\n",
       "      <td>0.743750</td>\n",
       "    </tr>\n",
       "    <tr>\n",
       "      <td>3</td>\n",
       "      <td>0.391100</td>\n",
       "      <td>0.621227</td>\n",
       "      <td>0.781250</td>\n",
       "      <td>0.780113</td>\n",
       "      <td>0.784373</td>\n",
       "      <td>0.781250</td>\n",
       "    </tr>\n",
       "  </tbody>\n",
       "</table><p>"
      ],
      "text/plain": [
       "<IPython.core.display.HTML object>"
      ]
     },
     "metadata": {},
     "output_type": "display_data"
    },
    {
     "name": "stderr",
     "output_type": "stream",
     "text": [
      "[I 2024-09-02 01:38:07,077] Trial 7 finished with value: 3.1269859236476476 and parameters: {'learning_rate': 4.465967058613261e-05, 'num_train_epochs': 3, 'per_device_train_batch_size': 8, 'weight_decay': 0.10772097257846291}. Best is trial 7 with value: 3.1269859236476476.\n",
      "Some weights of BertForSequenceClassification were not initialized from the model checkpoint at bert-base-uncased and are newly initialized: ['classifier.bias', 'classifier.weight']\n",
      "You should probably TRAIN this model on a down-stream task to be able to use it for predictions and inference.\n"
     ]
    },
    {
     "data": {
      "text/html": [
       "\n",
       "    <div>\n",
       "      \n",
       "      <progress value='80' max='160' style='width:300px; height:20px; vertical-align: middle;'></progress>\n",
       "      [ 80/160 00:23 < 00:24, 3.32 it/s, Epoch 1/2]\n",
       "    </div>\n",
       "    <table border=\"1\" class=\"dataframe\">\n",
       "  <thead>\n",
       " <tr style=\"text-align: left;\">\n",
       "      <th>Epoch</th>\n",
       "      <th>Training Loss</th>\n",
       "      <th>Validation Loss</th>\n",
       "      <th>Accuracy</th>\n",
       "      <th>F1</th>\n",
       "      <th>Precision</th>\n",
       "      <th>Recall</th>\n",
       "    </tr>\n",
       "  </thead>\n",
       "  <tbody>\n",
       "    <tr>\n",
       "      <td>1</td>\n",
       "      <td>1.334100</td>\n",
       "      <td>1.324580</td>\n",
       "      <td>0.381250</td>\n",
       "      <td>0.310880</td>\n",
       "      <td>0.398409</td>\n",
       "      <td>0.381250</td>\n",
       "    </tr>\n",
       "  </tbody>\n",
       "</table><p>"
      ],
      "text/plain": [
       "<IPython.core.display.HTML object>"
      ]
     },
     "metadata": {},
     "output_type": "display_data"
    },
    {
     "name": "stderr",
     "output_type": "stream",
     "text": [
      "[I 2024-09-02 01:38:31,386] Trial 8 pruned. \n",
      "Some weights of BertForSequenceClassification were not initialized from the model checkpoint at bert-base-uncased and are newly initialized: ['classifier.bias', 'classifier.weight']\n",
      "You should probably TRAIN this model on a down-stream task to be able to use it for predictions and inference.\n"
     ]
    },
    {
     "data": {
      "text/html": [
       "\n",
       "    <div>\n",
       "      \n",
       "      <progress value='100' max='100' style='width:300px; height:20px; vertical-align: middle;'></progress>\n",
       "      [100/100 01:31, Epoch 5/5]\n",
       "    </div>\n",
       "    <table border=\"1\" class=\"dataframe\">\n",
       "  <thead>\n",
       " <tr style=\"text-align: left;\">\n",
       "      <th>Epoch</th>\n",
       "      <th>Training Loss</th>\n",
       "      <th>Validation Loss</th>\n",
       "      <th>Accuracy</th>\n",
       "      <th>F1</th>\n",
       "      <th>Precision</th>\n",
       "      <th>Recall</th>\n",
       "    </tr>\n",
       "  </thead>\n",
       "  <tbody>\n",
       "    <tr>\n",
       "      <td>1</td>\n",
       "      <td>1.390900</td>\n",
       "      <td>1.377086</td>\n",
       "      <td>0.368750</td>\n",
       "      <td>0.282773</td>\n",
       "      <td>0.277851</td>\n",
       "      <td>0.368750</td>\n",
       "    </tr>\n",
       "    <tr>\n",
       "      <td>2</td>\n",
       "      <td>1.304200</td>\n",
       "      <td>1.284767</td>\n",
       "      <td>0.481250</td>\n",
       "      <td>0.468436</td>\n",
       "      <td>0.526840</td>\n",
       "      <td>0.481250</td>\n",
       "    </tr>\n",
       "    <tr>\n",
       "      <td>3</td>\n",
       "      <td>1.132400</td>\n",
       "      <td>1.124293</td>\n",
       "      <td>0.568750</td>\n",
       "      <td>0.562734</td>\n",
       "      <td>0.566334</td>\n",
       "      <td>0.568750</td>\n",
       "    </tr>\n",
       "    <tr>\n",
       "      <td>4</td>\n",
       "      <td>0.962000</td>\n",
       "      <td>0.990940</td>\n",
       "      <td>0.637500</td>\n",
       "      <td>0.630642</td>\n",
       "      <td>0.637149</td>\n",
       "      <td>0.637500</td>\n",
       "    </tr>\n",
       "    <tr>\n",
       "      <td>5</td>\n",
       "      <td>0.879200</td>\n",
       "      <td>0.935604</td>\n",
       "      <td>0.675000</td>\n",
       "      <td>0.674612</td>\n",
       "      <td>0.674332</td>\n",
       "      <td>0.675000</td>\n",
       "    </tr>\n",
       "  </tbody>\n",
       "</table><p>"
      ],
      "text/plain": [
       "<IPython.core.display.HTML object>"
      ]
     },
     "metadata": {},
     "output_type": "display_data"
    },
    {
     "name": "stderr",
     "output_type": "stream",
     "text": [
      "/user/HS400/dd00830/.local/lib/python3.10/site-packages/sklearn/metrics/_classification.py:1509: UndefinedMetricWarning: Precision is ill-defined and being set to 0.0 in labels with no predicted samples. Use `zero_division` parameter to control this behavior.\n",
      "  _warn_prf(average, modifier, f\"{metric.capitalize()} is\", len(result))\n",
      "[I 2024-09-02 01:40:04,557] Trial 9 finished with value: 2.6989441913823935 and parameters: {'learning_rate': 2.5979260862561525e-05, 'num_train_epochs': 5, 'per_device_train_batch_size': 32, 'weight_decay': 0.16833866077797854}. Best is trial 7 with value: 3.1269859236476476.\n"
     ]
    }
   ],
   "source": [
    "import optuna\n",
    "from transformers import Trainer, TrainingArguments\n",
    "\n",
    "def model_init():\n",
    "    return BertForSequenceClassification.from_pretrained('bert-base-uncased', num_labels=len(label_map))\n",
    "\n",
    "def hp_search(trial):\n",
    "    return {\n",
    "        \"learning_rate\": trial.suggest_float(\"learning_rate\", 1e-5, 5e-5, log=True),\n",
    "        \"num_train_epochs\": trial.suggest_int(\"num_train_epochs\", 2, 6),\n",
    "        \"per_device_train_batch_size\": trial.suggest_categorical(\"per_device_train_batch_size\", [8, 16, 32]),\n",
    "        \"weight_decay\": trial.suggest_float(\"weight_decay\", 0.01, 0.3)\n",
    "    }\n",
    "\n",
    "training_args = TrainingArguments(\n",
    "    output_dir=\"./results\",\n",
    "    evaluation_strategy=\"epoch\",\n",
    "    logging_dir='./logs',\n",
    "    logging_steps=10,\n",
    "    do_train=True,\n",
    "    do_eval=True,\n",
    ")\n",
    "\n",
    "trainer = Trainer(\n",
    "    model_init=model_init,\n",
    "    args=training_args,\n",
    "    train_dataset=train_dataset,\n",
    "    eval_dataset=test_dataset,\n",
    "    compute_metrics=compute_metrics\n",
    ")\n",
    "\n",
    "best_run = trainer.hyperparameter_search(\n",
    "    direction=\"maximize\",\n",
    "    backend=\"optuna\",\n",
    "    hp_space=hp_search,\n",
    "    n_trials=10\n",
    ")\n"
   ]
  },
  {
   "cell_type": "code",
   "execution_count": 19,
   "id": "d09acd97-45f9-460f-bf10-759a3e337488",
   "metadata": {},
   "outputs": [
    {
     "name": "stdout",
     "output_type": "stream",
     "text": [
      "Best Hyperparameters: BestRun(run_id='7', objective=3.1269859236476476, hyperparameters={'learning_rate': 4.465967058613261e-05, 'num_train_epochs': 3, 'per_device_train_batch_size': 8, 'weight_decay': 0.10772097257846291}, run_summary=None)\n"
     ]
    }
   ],
   "source": [
    "print(\"Best Hyperparameters:\", best_run)\n"
   ]
  },
  {
   "cell_type": "markdown",
   "id": "06d080bc-3bb7-4559-9b74-3e9dd3944e6b",
   "metadata": {},
   "source": [
    "## BEST HYPER PARAMETER:-\n"
   ]
  },
  {
   "cell_type": "code",
   "execution_count": 20,
   "id": "44d8485c-d3be-4e6d-af61-df9941e5fd5f",
   "metadata": {},
   "outputs": [
    {
     "name": "stderr",
     "output_type": "stream",
     "text": [
      "Some weights of BertForSequenceClassification were not initialized from the model checkpoint at bert-base-uncased and are newly initialized: ['classifier.bias', 'classifier.weight']\n",
      "You should probably TRAIN this model on a down-stream task to be able to use it for predictions and inference.\n",
      "Some weights of BertForSequenceClassification were not initialized from the model checkpoint at bert-base-uncased and are newly initialized: ['classifier.bias', 'classifier.weight']\n",
      "You should probably TRAIN this model on a down-stream task to be able to use it for predictions and inference.\n"
     ]
    },
    {
     "data": {
      "text/html": [
       "\n",
       "    <div>\n",
       "      \n",
       "      <progress value='240' max='240' style='width:300px; height:20px; vertical-align: middle;'></progress>\n",
       "      [240/240 01:11, Epoch 3/3]\n",
       "    </div>\n",
       "    <table border=\"1\" class=\"dataframe\">\n",
       "  <thead>\n",
       " <tr style=\"text-align: left;\">\n",
       "      <th>Epoch</th>\n",
       "      <th>Training Loss</th>\n",
       "      <th>Validation Loss</th>\n",
       "      <th>Accuracy</th>\n",
       "      <th>F1</th>\n",
       "      <th>Precision</th>\n",
       "      <th>Recall</th>\n",
       "    </tr>\n",
       "  </thead>\n",
       "  <tbody>\n",
       "    <tr>\n",
       "      <td>1</td>\n",
       "      <td>1.110800</td>\n",
       "      <td>1.050894</td>\n",
       "      <td>0.600000</td>\n",
       "      <td>0.552109</td>\n",
       "      <td>0.557991</td>\n",
       "      <td>0.600000</td>\n",
       "    </tr>\n",
       "    <tr>\n",
       "      <td>2</td>\n",
       "      <td>0.693900</td>\n",
       "      <td>0.682454</td>\n",
       "      <td>0.743750</td>\n",
       "      <td>0.738940</td>\n",
       "      <td>0.746733</td>\n",
       "      <td>0.743750</td>\n",
       "    </tr>\n",
       "    <tr>\n",
       "      <td>3</td>\n",
       "      <td>0.391100</td>\n",
       "      <td>0.621227</td>\n",
       "      <td>0.781250</td>\n",
       "      <td>0.780113</td>\n",
       "      <td>0.784373</td>\n",
       "      <td>0.781250</td>\n",
       "    </tr>\n",
       "  </tbody>\n",
       "</table><p>"
      ],
      "text/plain": [
       "<IPython.core.display.HTML object>"
      ]
     },
     "metadata": {},
     "output_type": "display_data"
    },
    {
     "data": {
      "text/plain": [
       "TrainOutput(global_step=240, training_loss=0.8714175194501876, metrics={'train_runtime': 71.7577, 'train_samples_per_second': 26.757, 'train_steps_per_second': 3.345, 'total_flos': 126295574446080.0, 'train_loss': 0.8714175194501876, 'epoch': 3.0})"
      ]
     },
     "execution_count": 20,
     "metadata": {},
     "output_type": "execute_result"
    }
   ],
   "source": [
    "best_learning_rate = best_run.hyperparameters['learning_rate']\n",
    "best_num_train_epochs = best_run.hyperparameters['num_train_epochs']\n",
    "best_batch_size = best_run.hyperparameters['per_device_train_batch_size']\n",
    "best_weight_decay = best_run.hyperparameters['weight_decay']\n",
    "\n",
    "training_args = TrainingArguments(\n",
    "    output_dir=\"./results\",\n",
    "    evaluation_strategy=\"epoch\",\n",
    "    learning_rate=best_learning_rate,\n",
    "    num_train_epochs=best_num_train_epochs,\n",
    "    per_device_train_batch_size=best_batch_size,\n",
    "    weight_decay=best_weight_decay,\n",
    "    logging_dir='./logs',\n",
    "    logging_steps=10,\n",
    ")\n",
    "\n",
    "trainer = Trainer(\n",
    "    model_init=model_init,\n",
    "    args=training_args,\n",
    "    train_dataset=train_dataset,\n",
    "    eval_dataset=test_dataset,\n",
    "    compute_metrics=compute_metrics\n",
    ")\n",
    "\n",
    "# Train with the best hyperparameters\n",
    "trainer.train()\n"
   ]
  },
  {
   "cell_type": "code",
   "execution_count": 21,
   "id": "997266ec-c266-4374-91d9-6a74d5d3205d",
   "metadata": {},
   "outputs": [
    {
     "data": {
      "text/html": [],
      "text/plain": [
       "<IPython.core.display.HTML object>"
      ]
     },
     "metadata": {},
     "output_type": "display_data"
    },
    {
     "name": "stdout",
     "output_type": "stream",
     "text": [
      "Evaluation Results:\n",
      "Accuracy: 0.7812\n",
      "Precision: 0.7844\n",
      "Recall: 0.7812\n",
      "F1 Score: 0.7801\n"
     ]
    }
   ],
   "source": [
    "# Evaluate the model on the test dataset\n",
    "eval_result = trainer.evaluate()\n",
    "\n",
    "# Display evaluation results\n",
    "print(\"Evaluation Results:\")\n",
    "print(f\"Accuracy: {eval_result['eval_accuracy']:.4f}\")\n",
    "print(f\"Precision: {eval_result['eval_precision']:.4f}\")\n",
    "print(f\"Recall: {eval_result['eval_recall']:.4f}\")\n",
    "print(f\"F1 Score: {eval_result['eval_f1']:.4f}\")\n"
   ]
  },
  {
   "cell_type": "code",
   "execution_count": 23,
   "id": "0d95e8b9-dc8c-4a85-97ef-5e792c699ebd",
   "metadata": {},
   "outputs": [
    {
     "data": {
      "text/html": [],
      "text/plain": [
       "<IPython.core.display.HTML object>"
      ]
     },
     "metadata": {},
     "output_type": "display_data"
    },
    {
     "name": "stdout",
     "output_type": "stream",
     "text": [
      "Classification Report:\n",
      "                   precision    recall  f1-score   support\n",
      "\n",
      " drug and alcohol       0.91      0.91      0.91        44\n",
      "       early life       0.87      0.87      0.87        38\n",
      "      personality       0.64      0.75      0.69        40\n",
      "trauma and stress       0.71      0.58      0.64        38\n",
      "\n",
      "         accuracy                           0.78       160\n",
      "        macro avg       0.78      0.78      0.78       160\n",
      "     weighted avg       0.78      0.78      0.78       160\n",
      "\n",
      "<function confusion_matrix at 0x7fa7d4646c20>\n"
     ]
    },
    {
     "data": {
      "image/png": "[encoded data removed]",
      "text/plain": [
       "<Figure size 720x576 with 2 Axes>"
      ]
     },
     "metadata": {
      "needs_background": "light"
     },
     "output_type": "display_data"
    }
   ],
   "source": [
    "# Get predictions on the test dataset\n",
    "predictions = trainer.predict(test_dataset)\n",
    "preds = predictions.predictions.argmax(-1)\n",
    "true_labels = predictions.label_ids\n",
    "\n",
    "# Generate and display classification report\n",
    "from sklearn.metrics import classification_report\n",
    "\n",
    "report = classification_report(true_labels, preds, target_names=list(label_map.keys()))\n",
    "print(\"Classification Report:\")\n",
    "print(report)\n",
    "\n",
    "# Generate and display confusion matrix\n",
    "from sklearn.metrics import confusion_matrix\n",
    "import seaborn as sns\n",
    "import matplotlib.pyplot as plt\n",
    "\n",
    "cm = confusion_matrix(true_labels, preds)\n",
    "print(confusion_matrix)\n",
    "plt.figure(figsize=(10, 8))\n",
    "sns.heatmap(cm, annot=True, fmt='d', cmap='Blues', xticklabels=list(label_map.keys()), yticklabels=list(label_map.keys()))\n",
    "plt.xlabel('Predicted Label')\n",
    "plt.ylabel('True Label')\n",
    "plt.title('Confusion Matrix')\n",
    "plt.show()\n"
   ]
  },
  {
   "cell_type": "code",
   "execution_count": null,
   "id": "190fdc3e-6fc0-41bf-9738-7de68c9f96ad",
   "metadata": {},
   "outputs": [],
   "source": []
  }
 ],
 "metadata": {
  "kernelspec": {
   "display_name": "Python 3 (ipykernel)",
   "language": "python",
   "name": "python3"
  },
  "language_info": {
   "codemirror_mode": {
    "name": "ipython",
    "version": 3
   },
   "file_extension": ".py",
   "mimetype": "text/x-python",
   "name": "python",
   "nbconvert_exporter": "python",
   "pygments_lexer": "ipython3",
   "version": "3.10.12"
  }
 },
 "nbformat": 4,
 "nbformat_minor": 5
}
